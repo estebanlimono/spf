{
 "cells": [
  {
   "cell_type": "code",
   "execution_count": 28,
   "metadata": {},
   "outputs": [],
   "source": [
    "#librerias\n",
    "import matplotlib.pyplot as plt\n",
    "import numpy as np\n",
    "import scipy.stats as st     # Librería estadística\n",
    "from scipy.stats import triang\n",
    "from math import factorial as fac # Importo la operación factorial\n",
    "from scipy.special import comb # Importamos la función combinatoria\n",
    "\n",
    "%matplotlib inline"
   ]
  },
  {
   "cell_type": "markdown",
   "metadata": {},
   "source": [
    "### Casos de estudio\n",
    "Se tiene entonces la variable aleatoria $T$ la cual representa la duración del proyecto en semanas con media $\\mu_p$ y varianza $\\sigma_p^2$ y $d$ representa la fecha límite de entrega del proyecto, la cual es de 47 semanas.\n",
    "1. Suponer que $T$ distribuye normal y responder cual es la probabilidad $P(T\\leq d)$."
   ]
  },
  {
   "cell_type": "code",
   "execution_count": 2,
   "metadata": {},
   "outputs": [
    {
     "name": "stdout",
     "output_type": "stream",
     "text": [
      "P(T<=d)= 0.8413447460685429\n"
     ]
    }
   ],
   "source": [
    "######### Caso de estudio 1 ################\n",
    "up = 44; sigma = np.sqrt(9); d = 47\n",
    "P = st.norm(up,sigma).cdf(d)\n",
    "print('P(T<=d)=',P)\n",
    "P2 = st.beta\n",
    "P3=st.alpha"
   ]
  },
  {
   "cell_type": "markdown",
   "metadata": {},
   "source": [
    ">## <font color = 'red'> Tarea\n",
    ">1.Suponer que $T$ distribuye beta donde la media es $\\mu_p$ y varianza $\\sigma_p^2$ y responder cual es la probabilidad $P(T\\leq d)$.\n",
    "    ![imagen.png](attachment:imagen.png)\n",
    "\n",
    ">2.Suponer que $T$ distribuye triangular donde el valor mas probable es $\\mu_p$ el valor pesimista es $p=49$ y el valor optimista es $o=40$ y responder cual es la probabilidad $P(T\\leq d)$.\n",
    "\n",
    ">3.Una vez respondido los dos numerales anteriores, suponer que cada actividad es dependiente y su dependencia es mostrada en la figura donde se nombran los procesos, además considere que la distribución de cada actividad distribuye beta. Partiendo de la dependencia de las actividades, generar 10000 escenarios diferentes para cada actividad y utilizar montecarlo para responder ¿Cuál es la probabilidad $P(T\\leq d)$. Comparar con el resultado obtenido 1 y comentar las diferencias (CONCLUIR)\n",
    "\n",
    ">4.Repetir el literal 3 pero en este caso usando una distribución triangular.\n",
    "\n",
    "> **Nota:** en el archivo PDF que les puse al principio de esta clase, hay una posible solución que les puede ayudar a la hora de hacer su suposiciones y su programación.\n",
    "\n",
    "## Parámetros de entrega\n",
    "Se habilitará un enlace en moodle donde deben de subir su cuaderno de python con la solución dada. La fecha límite de recepción será el lunes 8 de octubre a las 6 pm."
   ]
  },
  {
   "cell_type": "markdown",
   "metadata": {},
   "source": [
    "\n",
    ">1.Suponer que $T$ distribuye beta donde la media es $\\mu_p$ y varianza $\\sigma_p^2$ y responder cual es la probabilidad $P(T\\leq d)$."
   ]
  },
  {
   "cell_type": "markdown",
   "metadata": {},
   "source": [
    "Use el siguient link para ver como se distribuye alpha y beta\n",
    "https://stats.stackexchange.com/questions/12232/calculating-the-parameters-of-a-beta-distribution-using-the-mean-and-variance\n",
    ">https://es.wikipedia.org/wiki/Distribuci%C3%B3n_beta"
   ]
  },
  {
   "cell_type": "code",
   "execution_count": 19,
   "metadata": {},
   "outputs": [],
   "source": [
    "#1\n",
    "up = 44; sigma = np.sqrt(9); d = 47\n",
    "a=o=40#a=o\n",
    "b=p=49#b=p\n",
    "alp=((1-up)/sigma**2 -(1/up))*(sigma**2)\n",
    "bet=alp*((1/up)-1)\n",
    "mu="
   ]
  },
  {
   "cell_type": "code",
   "execution_count": 16,
   "metadata": {},
   "outputs": [
    {
     "data": {
      "text/plain": [
       "<scipy.stats._continuous_distns.alpha_gen at 0x1a49b8d9668>"
      ]
     },
     "execution_count": 16,
     "metadata": {},
     "output_type": "execute_result"
    }
   ],
   "source": [
    "alp=st.alpha\n",
    "alp"
   ]
  },
  {
   "cell_type": "markdown",
   "metadata": {},
   "source": [
    ">2.Suponer que $T$ distribuye triangular donde el valor mas probable es $\\mu_p$ el valor pesimista es $p=49$ y el valor optimista es $o=40$ y responder cual es la probabilidad $P(T\\leq d)$.\n"
   ]
  },
  {
   "cell_type": "code",
   "execution_count": 54,
   "metadata": {},
   "outputs": [
    {
     "name": "stdout",
     "output_type": "stream",
     "text": [
      "P(T<=d)= 0.5444444444444443\n",
      "Por lo que la porbabilidad de que termine dentro de los 47 dias es de:  0.5444444444444443\n"
     ]
    }
   ],
   "source": [
    "#2\n",
    "d=47\n",
    "p=49\n",
    "o=40\n",
    "mean=44\n",
    "sigma=(p-o)/6\n",
    "x=np.arange(mu-sigma,mu+sigma,1)\n",
    "mu=(p+o+4*mean)/6\n",
    "#P = st.norm(mu,sigma).cdf(d)\n",
    "P = sum(st.triang.pdf(x,((mean-o)/(p-o)),o,p-o))#sum =probabilidad acumulada\n",
    "print('P(T<=d)=',P)\n",
    "print('Por lo que la porbabilidad de que termine dentro de los 47 dias es de: ',P)"
   ]
  },
  {
   "cell_type": "markdown",
   "metadata": {},
   "source": [
    ">3.Una vez respondido los dos numerales anteriores, suponer que cada actividad es dependiente y su dependencia es mostrada en la figura donde se nombran los procesos, además considere que la distribución de cada actividad distribuye beta. Partiendo de la dependencia de las actividades, generar 10000 escenarios diferentes para cada actividad y utilizar montecarlo para responder ¿Cuál es la probabilidad $P(T\\leq d)$. Comparar con el resultado obtenido 1 y comentar las diferencias (CONCLUIR)"
   ]
  },
  {
   "cell_type": "code",
   "execution_count": 59,
   "metadata": {},
   "outputs": [
    {
     "name": "stderr",
     "output_type": "stream",
     "text": [
      "C:\\ProgramData\\Anaconda3\\lib\\site-packages\\scipy\\stats\\_distn_infrastructure.py:879: RuntimeWarning: invalid value encountered in greater\n",
      "  return (self.a < x) & (x < self.b)\n",
      "C:\\ProgramData\\Anaconda3\\lib\\site-packages\\scipy\\stats\\_distn_infrastructure.py:879: RuntimeWarning: invalid value encountered in less\n",
      "  return (self.a < x) & (x < self.b)\n",
      "C:\\ProgramData\\Anaconda3\\lib\\site-packages\\scipy\\stats\\_distn_infrastructure.py:1738: RuntimeWarning: invalid value encountered in greater_equal\n",
      "  cond2 = (x >= self.b) & cond0\n"
     ]
    },
    {
     "data": {
      "text/plain": [
       "array([nan, nan, nan])"
      ]
     },
     "execution_count": 59,
     "metadata": {},
     "output_type": "execute_result"
    }
   ],
   "source": [
    "vals = st.triang.ppf([o,mu,p], d)\n",
    "st.triang.cdf(vals, d)\n"
   ]
  },
  {
   "cell_type": "code",
   "execution_count": null,
   "metadata": {},
   "outputs": [],
   "source": []
  }
 ],
 "metadata": {
  "kernelspec": {
   "display_name": "Python 3",
   "language": "python",
   "name": "python3"
  },
  "language_info": {
   "codemirror_mode": {
    "name": "ipython",
    "version": 3
   },
   "file_extension": ".py",
   "mimetype": "text/x-python",
   "name": "python",
   "nbconvert_exporter": "python",
   "pygments_lexer": "ipython3",
   "version": "3.6.5"
  }
 },
 "nbformat": 4,
 "nbformat_minor": 2
}
