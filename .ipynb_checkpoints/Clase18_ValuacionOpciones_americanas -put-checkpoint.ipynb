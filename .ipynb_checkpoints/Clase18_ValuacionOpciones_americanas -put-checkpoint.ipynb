{
 "cells": [
  {
   "cell_type": "markdown",
   "metadata": {},
   "source": [
    "<img style=\"float: right; margin: 0px 0px 15px 15px;\" src=\"https://encrypted-tbn0.gstatic.com/images?q=tbn:ANd9GcSQt6eQo8JPYzYO4p6WmxLtccdtJ4X8WR6GzVVKbsMjyGvUDEn1mg\" width=\"300px\" height=\"100px\" />\n",
    "\n",
    "# Trabajando con opciones"
   ]
  },
  {
   "cell_type": "markdown",
   "metadata": {},
   "source": [
    "Una opción puede negociarse en el mercado secundario por lo que es importante determinar su valor $V_t$ para cada tiempo $t\\in [0, T]$. La ganancia que obtiene quién adquiere la opción se llama función de pago o \"payoff\" y claramente depende del valor del subyacente. \n",
    "\n",
    "Hay una gran variedad de opciones en el mercado y éstas se clasiflcan según su función de pago y la forma en que pueden ejercerse.  Las opciones que tienen como función de pago a\n",
    "$$ P(S(t),t)=max\\{S(T)-K,0\\} \\rightarrow \\text{En el caso de Call}$$ \n",
    "$$ P(S(t),t)=max\\{K-S(T),0\\} \\rightarrow \\text{En el caso de Put}$$ \n",
    "se llaman opciones **Vainilla**, con $h:[0,\\infty) \\to [0,\\infty)$.\n",
    "\n",
    "La opción se llama **europea** si puede ejercerse sólo en la fecha de vencimiento.\n",
    "\n",
    "Se dice que una opción es **americana** si puede ejercerse en cualquier momento antes o en la fecha de vencimiento.\n",
    "\n",
    "Una opción compleja popular son las llamadas **opciones asiáticas** cuyos pagos dependen de todas las trayectorias del precio de los activos subyacentes. Las opciones cuyos pagos dependen de las trayectorias de los precios de los activos subyacentes se denominan opciones dependientes de la ruta.\n",
    "\n",
    "Principalmente, se puede resumir que las dos razones con más peso de importancia para utilizar opciones son el **aseguramiento** y la **especulación**.\n",
    "\n",
    "## Opciones Plan Vainilla: opción de compra y opción de venta europea\n",
    "\n",
    "Una opción vainilla o estándar es una opción normal de compra o venta que no tiene características especiales o inusuales. Puede ser para tamaños y vencimientos estandarizados, y negociarse en un intercambio.\n",
    "En comparación con otras estructuras de opciones, las opciones de vanilla no son sofisticadas o complicadas.\n"
   ]
  },
  {
   "cell_type": "markdown",
   "metadata": {},
   "source": [
    "## 1. ¿Cómo descargar datos de opciones?"
   ]
  },
  {
   "cell_type": "code",
   "execution_count": 1,
   "metadata": {},
   "outputs": [],
   "source": [
    "#importar los paquetes que se van a usar\n",
    "import pandas as pd\n",
    "pd.core.common.is_list_like = pd.api.types.is_list_like# hack para que jale pd data reader\n",
    "import pandas_datareader.data as web\n",
    "import numpy as np\n",
    "import datetime\n",
    "import matplotlib.pyplot as plt\n",
    "import scipy.stats as st\n",
    "import seaborn as sns\n",
    "%matplotlib inline\n",
    "#algunas opciones para Pandas\n",
    "pd.set_option('display.notebook_repr_html', True)\n",
    "pd.set_option('display.max_columns', 6)\n",
    "pd.set_option('display.max_rows', 10)\n",
    "pd.set_option('display.width', 78)\n",
    "pd.set_option('precision', 3)"
   ]
  },
  {
   "cell_type": "markdown",
   "metadata": {},
   "source": [
    "Usando el paquete `pandas_datareader` también podemos descargar datos de opciones. Por ejemplo, descarguemos los datos de las opciones cuyo activo subyacente son las acciones de Apple"
   ]
  },
  {
   "cell_type": "code",
   "execution_count": 2,
   "metadata": {},
   "outputs": [
    {
     "data": {
      "text/html": [
       "<div>\n",
       "<style scoped>\n",
       "    .dataframe tbody tr th:only-of-type {\n",
       "        vertical-align: middle;\n",
       "    }\n",
       "\n",
       "    .dataframe tbody tr th {\n",
       "        vertical-align: top;\n",
       "    }\n",
       "\n",
       "    .dataframe thead th {\n",
       "        text-align: right;\n",
       "    }\n",
       "</style>\n",
       "<table border=\"1\" class=\"dataframe\">\n",
       "  <thead>\n",
       "    <tr style=\"text-align: right;\">\n",
       "      <th></th>\n",
       "      <th>Strike</th>\n",
       "      <th>Type</th>\n",
       "      <th>Symbol</th>\n",
       "      <th>...</th>\n",
       "      <th>Quote_Time</th>\n",
       "      <th>Last_Trade_Date</th>\n",
       "      <th>JSON</th>\n",
       "    </tr>\n",
       "    <tr>\n",
       "      <th>Expiry</th>\n",
       "      <th></th>\n",
       "      <th></th>\n",
       "      <th></th>\n",
       "      <th></th>\n",
       "      <th></th>\n",
       "      <th></th>\n",
       "      <th></th>\n",
       "    </tr>\n",
       "  </thead>\n",
       "  <tbody>\n",
       "    <tr>\n",
       "      <th>2019-01-18</th>\n",
       "      <td>2.5</td>\n",
       "      <td>call</td>\n",
       "      <td>AAPL190118C00002500</td>\n",
       "      <td>...</td>\n",
       "      <td>2018-11-02 20:00:02</td>\n",
       "      <td>2018-10-15 19:47:03</td>\n",
       "      <td>{'contractSymbol': 'AAPL190118C00002500', 'str...</td>\n",
       "    </tr>\n",
       "    <tr>\n",
       "      <th>2019-04-18</th>\n",
       "      <td>2.5</td>\n",
       "      <td>call</td>\n",
       "      <td>AAPL190418C00002500</td>\n",
       "      <td>...</td>\n",
       "      <td>2018-11-02 20:00:02</td>\n",
       "      <td>2018-09-22 03:52:17</td>\n",
       "      <td>{'contractSymbol': 'AAPL190418C00002500', 'str...</td>\n",
       "    </tr>\n",
       "    <tr>\n",
       "      <th>2019-01-18</th>\n",
       "      <td>5.0</td>\n",
       "      <td>call</td>\n",
       "      <td>AAPL190118C00005000</td>\n",
       "      <td>...</td>\n",
       "      <td>2018-11-02 20:00:02</td>\n",
       "      <td>2018-09-08 03:58:48</td>\n",
       "      <td>{'contractSymbol': 'AAPL190118C00005000', 'str...</td>\n",
       "    </tr>\n",
       "    <tr>\n",
       "      <th>2019-01-18</th>\n",
       "      <td>7.5</td>\n",
       "      <td>put</td>\n",
       "      <td>AAPL190118P00007500</td>\n",
       "      <td>...</td>\n",
       "      <td>2018-11-02 20:00:02</td>\n",
       "      <td>2018-09-22 03:52:38</td>\n",
       "      <td>{'contractSymbol': 'AAPL190118P00007500', 'str...</td>\n",
       "    </tr>\n",
       "    <tr>\n",
       "      <th>2019-01-18</th>\n",
       "      <td>10.0</td>\n",
       "      <td>call</td>\n",
       "      <td>AAPL190118C00010000</td>\n",
       "      <td>...</td>\n",
       "      <td>2018-11-02 20:00:02</td>\n",
       "      <td>2018-10-30 19:29:06</td>\n",
       "      <td>{'contractSymbol': 'AAPL190118C00010000', 'str...</td>\n",
       "    </tr>\n",
       "    <tr>\n",
       "      <th>...</th>\n",
       "      <td>...</td>\n",
       "      <td>...</td>\n",
       "      <td>...</td>\n",
       "      <td>...</td>\n",
       "      <td>...</td>\n",
       "      <td>...</td>\n",
       "      <td>...</td>\n",
       "    </tr>\n",
       "    <tr>\n",
       "      <th>2019-04-18</th>\n",
       "      <td>410.0</td>\n",
       "      <td>call</td>\n",
       "      <td>AAPL190418C00410000</td>\n",
       "      <td>...</td>\n",
       "      <td>2018-11-02 20:00:02</td>\n",
       "      <td>2018-10-18 15:46:39</td>\n",
       "      <td>{'contractSymbol': 'AAPL190418C00410000', 'str...</td>\n",
       "    </tr>\n",
       "    <tr>\n",
       "      <th>2019-04-18</th>\n",
       "      <td>420.0</td>\n",
       "      <td>call</td>\n",
       "      <td>AAPL190418C00420000</td>\n",
       "      <td>...</td>\n",
       "      <td>2018-11-02 20:00:02</td>\n",
       "      <td>2018-10-26 14:59:37</td>\n",
       "      <td>{'contractSymbol': 'AAPL190418C00420000', 'str...</td>\n",
       "    </tr>\n",
       "    <tr>\n",
       "      <th>2019-04-18</th>\n",
       "      <td>420.0</td>\n",
       "      <td>put</td>\n",
       "      <td>AAPL190418P00420000</td>\n",
       "      <td>...</td>\n",
       "      <td>2018-11-02 20:00:02</td>\n",
       "      <td>2018-11-02 14:23:03</td>\n",
       "      <td>{'contractSymbol': 'AAPL190418P00420000', 'str...</td>\n",
       "    </tr>\n",
       "    <tr>\n",
       "      <th>2019-04-18</th>\n",
       "      <td>425.0</td>\n",
       "      <td>call</td>\n",
       "      <td>AAPL190418C00425000</td>\n",
       "      <td>...</td>\n",
       "      <td>2018-11-02 20:00:02</td>\n",
       "      <td>2018-11-02 13:30:50</td>\n",
       "      <td>{'contractSymbol': 'AAPL190418C00425000', 'str...</td>\n",
       "    </tr>\n",
       "    <tr>\n",
       "      <th>2019-04-18</th>\n",
       "      <td>425.0</td>\n",
       "      <td>put</td>\n",
       "      <td>AAPL190418P00425000</td>\n",
       "      <td>...</td>\n",
       "      <td>2018-11-02 20:00:02</td>\n",
       "      <td>2018-10-29 19:49:02</td>\n",
       "      <td>{'contractSymbol': 'AAPL190418P00425000', 'str...</td>\n",
       "    </tr>\n",
       "  </tbody>\n",
       "</table>\n",
       "<p>920 rows × 18 columns</p>\n",
       "</div>"
      ],
      "text/plain": [
       "            Strike  Type               Symbol  \\\n",
       "Expiry                                          \n",
       "2019-01-18     2.5  call  AAPL190118C00002500   \n",
       "2019-04-18     2.5  call  AAPL190418C00002500   \n",
       "2019-01-18     5.0  call  AAPL190118C00005000   \n",
       "2019-01-18     7.5   put  AAPL190118P00007500   \n",
       "2019-01-18    10.0  call  AAPL190118C00010000   \n",
       "...            ...   ...                  ...   \n",
       "2019-04-18   410.0  call  AAPL190418C00410000   \n",
       "2019-04-18   420.0  call  AAPL190418C00420000   \n",
       "2019-04-18   420.0   put  AAPL190418P00420000   \n",
       "2019-04-18   425.0  call  AAPL190418C00425000   \n",
       "2019-04-18   425.0   put  AAPL190418P00425000   \n",
       "\n",
       "                                  ...                          \\\n",
       "Expiry                            ...                           \n",
       "2019-01-18                        ...                           \n",
       "2019-04-18                        ...                           \n",
       "2019-01-18                        ...                           \n",
       "2019-01-18                        ...                           \n",
       "2019-01-18                        ...                           \n",
       "...                               ...                           \n",
       "2019-04-18                        ...                           \n",
       "2019-04-18                        ...                           \n",
       "2019-04-18                        ...                           \n",
       "2019-04-18                        ...                           \n",
       "2019-04-18                        ...                           \n",
       "\n",
       "                    Quote_Time     Last_Trade_Date  \\\n",
       "Expiry                                               \n",
       "2019-01-18 2018-11-02 20:00:02 2018-10-15 19:47:03   \n",
       "2019-04-18 2018-11-02 20:00:02 2018-09-22 03:52:17   \n",
       "2019-01-18 2018-11-02 20:00:02 2018-09-08 03:58:48   \n",
       "2019-01-18 2018-11-02 20:00:02 2018-09-22 03:52:38   \n",
       "2019-01-18 2018-11-02 20:00:02 2018-10-30 19:29:06   \n",
       "...                        ...                 ...   \n",
       "2019-04-18 2018-11-02 20:00:02 2018-10-18 15:46:39   \n",
       "2019-04-18 2018-11-02 20:00:02 2018-10-26 14:59:37   \n",
       "2019-04-18 2018-11-02 20:00:02 2018-11-02 14:23:03   \n",
       "2019-04-18 2018-11-02 20:00:02 2018-11-02 13:30:50   \n",
       "2019-04-18 2018-11-02 20:00:02 2018-10-29 19:49:02   \n",
       "\n",
       "                                                         JSON  \n",
       "Expiry                                                         \n",
       "2019-01-18  {'contractSymbol': 'AAPL190118C00002500', 'str...  \n",
       "2019-04-18  {'contractSymbol': 'AAPL190418C00002500', 'str...  \n",
       "2019-01-18  {'contractSymbol': 'AAPL190118C00005000', 'str...  \n",
       "2019-01-18  {'contractSymbol': 'AAPL190118P00007500', 'str...  \n",
       "2019-01-18  {'contractSymbol': 'AAPL190118C00010000', 'str...  \n",
       "...                                                       ...  \n",
       "2019-04-18  {'contractSymbol': 'AAPL190418C00410000', 'str...  \n",
       "2019-04-18  {'contractSymbol': 'AAPL190418C00420000', 'str...  \n",
       "2019-04-18  {'contractSymbol': 'AAPL190418P00420000', 'str...  \n",
       "2019-04-18  {'contractSymbol': 'AAPL190418C00425000', 'str...  \n",
       "2019-04-18  {'contractSymbol': 'AAPL190418P00425000', 'str...  \n",
       "\n",
       "[920 rows x 18 columns]"
      ]
     },
     "execution_count": 2,
     "metadata": {},
     "output_type": "execute_result"
    }
   ],
   "source": [
    "aapl = web.YahooOptions('AAPL')\n",
    "aapl_opt = aapl.get_all_data().reset_index()\n",
    "aapl_opt.set_index('Expiry')\n",
    "# aapl\n",
    "# closes = web.YahooDailyReader(ticker, start_date, end_date).read().sort_index('major_axis')"
   ]
  },
  {
   "cell_type": "code",
   "execution_count": 4,
   "metadata": {},
   "outputs": [
    {
     "data": {
      "text/plain": [
       "{'contractSymbol': 'AAPL190418P00140000',\n",
       " 'strike': 140.0,\n",
       " 'currency': 'USD',\n",
       " 'lastPrice': 0.98,\n",
       " 'change': -0.03999996,\n",
       " 'percentChange': -3.921565,\n",
       " 'volume': 13,\n",
       " 'openInterest': 181,\n",
       " 'bid': 0.74,\n",
       " 'ask': 1.39,\n",
       " 'contractSize': 'REGULAR',\n",
       " 'expiration': 1555545600,\n",
       " 'lastTradeDate': 1541182397,\n",
       " 'impliedVolatility': 0.39600213378906257,\n",
       " 'inTheMoney': False}"
      ]
     },
     "execution_count": 4,
     "metadata": {},
     "output_type": "execute_result"
    }
   ],
   "source": [
    "# aapl_opt.loc[0, 'JSON']\n",
    "aapl_opt.loc[200, 'JSON']"
   ]
  },
  {
   "cell_type": "markdown",
   "metadata": {},
   "source": [
    "Una vez tenemos la información, podemos consultar de qué tipo son las opciones"
   ]
  },
  {
   "cell_type": "code",
   "execution_count": 5,
   "metadata": {},
   "outputs": [
    {
     "data": {
      "text/plain": [
       "0      call\n",
       "1      call\n",
       "2      call\n",
       "3       put\n",
       "4      call\n",
       "       ... \n",
       "915    call\n",
       "916    call\n",
       "917     put\n",
       "918    call\n",
       "919     put\n",
       "Name: Type, Length: 920, dtype: object"
      ]
     },
     "execution_count": 5,
     "metadata": {},
     "output_type": "execute_result"
    }
   ],
   "source": [
    "aapl_opt.loc[:, 'Type']"
   ]
  },
  {
   "cell_type": "markdown",
   "metadata": {},
   "source": [
    "o en que fecha expiran"
   ]
  },
  {
   "cell_type": "code",
   "execution_count": 6,
   "metadata": {},
   "outputs": [
    {
     "data": {
      "text/plain": [
       "0     2019-01-18\n",
       "1     2019-04-18\n",
       "2     2019-01-18\n",
       "3     2019-01-18\n",
       "4     2019-01-18\n",
       "         ...    \n",
       "915   2019-04-18\n",
       "916   2019-04-18\n",
       "917   2019-04-18\n",
       "918   2019-04-18\n",
       "919   2019-04-18\n",
       "Name: Expiry, Length: 920, dtype: datetime64[ns]"
      ]
     },
     "execution_count": 6,
     "metadata": {},
     "output_type": "execute_result"
    }
   ],
   "source": [
    "aapl_opt.loc[:, 'Expiry']"
   ]
  },
  {
   "cell_type": "markdown",
   "metadata": {},
   "source": [
    "Por otra parte, podríamos querer consultar todas las opciones de compra (call) que expiran en cierta fecha (2019-04-18)"
   ]
  },
  {
   "cell_type": "code",
   "execution_count": 7,
   "metadata": {},
   "outputs": [
    {
     "data": {
      "text/html": [
       "<div>\n",
       "<style scoped>\n",
       "    .dataframe tbody tr th:only-of-type {\n",
       "        vertical-align: middle;\n",
       "    }\n",
       "\n",
       "    .dataframe tbody tr th {\n",
       "        vertical-align: top;\n",
       "    }\n",
       "\n",
       "    .dataframe thead th {\n",
       "        text-align: right;\n",
       "    }\n",
       "</style>\n",
       "<table border=\"1\" class=\"dataframe\">\n",
       "  <thead>\n",
       "    <tr style=\"text-align: right;\">\n",
       "      <th></th>\n",
       "      <th>Strike</th>\n",
       "      <th>Expiry</th>\n",
       "      <th>Type</th>\n",
       "      <th>...</th>\n",
       "      <th>Quote_Time</th>\n",
       "      <th>Last_Trade_Date</th>\n",
       "      <th>JSON</th>\n",
       "    </tr>\n",
       "  </thead>\n",
       "  <tbody>\n",
       "    <tr>\n",
       "      <th>14</th>\n",
       "      <td>50.0</td>\n",
       "      <td>2019-04-18</td>\n",
       "      <td>put</td>\n",
       "      <td>...</td>\n",
       "      <td>2018-11-02 20:00:02</td>\n",
       "      <td>2018-08-25 03:51:03</td>\n",
       "      <td>{'contractSymbol': 'AAPL190418P00050000', 'str...</td>\n",
       "    </tr>\n",
       "    <tr>\n",
       "      <th>19</th>\n",
       "      <td>55.0</td>\n",
       "      <td>2019-04-18</td>\n",
       "      <td>put</td>\n",
       "      <td>...</td>\n",
       "      <td>2018-11-02 20:00:02</td>\n",
       "      <td>2018-08-25 03:51:03</td>\n",
       "      <td>{'contractSymbol': 'AAPL190418P00055000', 'str...</td>\n",
       "    </tr>\n",
       "    <tr>\n",
       "      <th>30</th>\n",
       "      <td>65.0</td>\n",
       "      <td>2019-04-18</td>\n",
       "      <td>put</td>\n",
       "      <td>...</td>\n",
       "      <td>2018-11-02 20:00:02</td>\n",
       "      <td>2018-09-01 03:55:35</td>\n",
       "      <td>{'contractSymbol': 'AAPL190418P00065000', 'str...</td>\n",
       "    </tr>\n",
       "    <tr>\n",
       "      <th>35</th>\n",
       "      <td>70.0</td>\n",
       "      <td>2019-04-18</td>\n",
       "      <td>put</td>\n",
       "      <td>...</td>\n",
       "      <td>2018-11-02 20:00:02</td>\n",
       "      <td>2018-09-22 03:52:53</td>\n",
       "      <td>{'contractSymbol': 'AAPL190418P00070000', 'str...</td>\n",
       "    </tr>\n",
       "    <tr>\n",
       "      <th>44</th>\n",
       "      <td>80.0</td>\n",
       "      <td>2019-04-18</td>\n",
       "      <td>put</td>\n",
       "      <td>...</td>\n",
       "      <td>2018-11-02 20:00:02</td>\n",
       "      <td>2018-09-29 03:56:14</td>\n",
       "      <td>{'contractSymbol': 'AAPL190418P00080000', 'str...</td>\n",
       "    </tr>\n",
       "    <tr>\n",
       "      <th>...</th>\n",
       "      <td>...</td>\n",
       "      <td>...</td>\n",
       "      <td>...</td>\n",
       "      <td>...</td>\n",
       "      <td>...</td>\n",
       "      <td>...</td>\n",
       "      <td>...</td>\n",
       "    </tr>\n",
       "    <tr>\n",
       "      <th>862</th>\n",
       "      <td>325.0</td>\n",
       "      <td>2019-04-18</td>\n",
       "      <td>put</td>\n",
       "      <td>...</td>\n",
       "      <td>2018-11-02 20:00:02</td>\n",
       "      <td>2018-09-08 03:44:29</td>\n",
       "      <td>{'contractSymbol': 'AAPL190418P00325000', 'str...</td>\n",
       "    </tr>\n",
       "    <tr>\n",
       "      <th>866</th>\n",
       "      <td>330.0</td>\n",
       "      <td>2019-04-18</td>\n",
       "      <td>put</td>\n",
       "      <td>...</td>\n",
       "      <td>2018-11-02 20:00:02</td>\n",
       "      <td>2018-09-08 03:44:29</td>\n",
       "      <td>{'contractSymbol': 'AAPL190418P00330000', 'str...</td>\n",
       "    </tr>\n",
       "    <tr>\n",
       "      <th>889</th>\n",
       "      <td>350.0</td>\n",
       "      <td>2019-04-18</td>\n",
       "      <td>put</td>\n",
       "      <td>...</td>\n",
       "      <td>2018-11-02 20:00:02</td>\n",
       "      <td>2018-09-15 03:48:34</td>\n",
       "      <td>{'contractSymbol': 'AAPL190418P00350000', 'str...</td>\n",
       "    </tr>\n",
       "    <tr>\n",
       "      <th>917</th>\n",
       "      <td>420.0</td>\n",
       "      <td>2019-04-18</td>\n",
       "      <td>put</td>\n",
       "      <td>...</td>\n",
       "      <td>2018-11-02 20:00:02</td>\n",
       "      <td>2018-11-02 14:23:03</td>\n",
       "      <td>{'contractSymbol': 'AAPL190418P00420000', 'str...</td>\n",
       "    </tr>\n",
       "    <tr>\n",
       "      <th>919</th>\n",
       "      <td>425.0</td>\n",
       "      <td>2019-04-18</td>\n",
       "      <td>put</td>\n",
       "      <td>...</td>\n",
       "      <td>2018-11-02 20:00:02</td>\n",
       "      <td>2018-10-29 19:49:02</td>\n",
       "      <td>{'contractSymbol': 'AAPL190418P00425000', 'str...</td>\n",
       "    </tr>\n",
       "  </tbody>\n",
       "</table>\n",
       "<p>53 rows × 19 columns</p>\n",
       "</div>"
      ],
      "text/plain": [
       "     Strike     Expiry Type  \\\n",
       "14     50.0 2019-04-18  put   \n",
       "19     55.0 2019-04-18  put   \n",
       "30     65.0 2019-04-18  put   \n",
       "35     70.0 2019-04-18  put   \n",
       "44     80.0 2019-04-18  put   \n",
       "..      ...        ...  ...   \n",
       "862   325.0 2019-04-18  put   \n",
       "866   330.0 2019-04-18  put   \n",
       "889   350.0 2019-04-18  put   \n",
       "917   420.0 2019-04-18  put   \n",
       "919   425.0 2019-04-18  put   \n",
       "\n",
       "                           ...                                  Quote_Time  \\\n",
       "14                         ...                         2018-11-02 20:00:02   \n",
       "19                         ...                         2018-11-02 20:00:02   \n",
       "30                         ...                         2018-11-02 20:00:02   \n",
       "35                         ...                         2018-11-02 20:00:02   \n",
       "44                         ...                         2018-11-02 20:00:02   \n",
       "..                         ...                                         ...   \n",
       "862                        ...                         2018-11-02 20:00:02   \n",
       "866                        ...                         2018-11-02 20:00:02   \n",
       "889                        ...                         2018-11-02 20:00:02   \n",
       "917                        ...                         2018-11-02 20:00:02   \n",
       "919                        ...                         2018-11-02 20:00:02   \n",
       "\n",
       "        Last_Trade_Date                                               JSON  \n",
       "14  2018-08-25 03:51:03  {'contractSymbol': 'AAPL190418P00050000', 'str...  \n",
       "19  2018-08-25 03:51:03  {'contractSymbol': 'AAPL190418P00055000', 'str...  \n",
       "30  2018-09-01 03:55:35  {'contractSymbol': 'AAPL190418P00065000', 'str...  \n",
       "35  2018-09-22 03:52:53  {'contractSymbol': 'AAPL190418P00070000', 'str...  \n",
       "44  2018-09-29 03:56:14  {'contractSymbol': 'AAPL190418P00080000', 'str...  \n",
       "..                  ...                                                ...  \n",
       "862 2018-09-08 03:44:29  {'contractSymbol': 'AAPL190418P00325000', 'str...  \n",
       "866 2018-09-08 03:44:29  {'contractSymbol': 'AAPL190418P00330000', 'str...  \n",
       "889 2018-09-15 03:48:34  {'contractSymbol': 'AAPL190418P00350000', 'str...  \n",
       "917 2018-11-02 14:23:03  {'contractSymbol': 'AAPL190418P00420000', 'str...  \n",
       "919 2018-10-29 19:49:02  {'contractSymbol': 'AAPL190418P00425000', 'str...  \n",
       "\n",
       "[53 rows x 19 columns]"
      ]
     },
     "execution_count": 7,
     "metadata": {},
     "output_type": "execute_result"
    }
   ],
   "source": [
    "put06 = aapl_opt.loc[(aapl_opt.Expiry=='2019-04-18') & (aapl_opt.Type=='put')]\n",
    "put06"
   ]
  },
  {
   "cell_type": "markdown",
   "metadata": {},
   "source": [
    "## 2. ¿Qué es la volatilidad implícita?"
   ]
  },
  {
   "cell_type": "markdown",
   "metadata": {},
   "source": [
    "**Volatilidad:** desviación estándar de los rendimientos.\n",
    "- ¿Cómo se calcula?\n",
    "- ¿Para qué calcular la volatilidad?"
   ]
  },
  {
   "attachments": {
    "imagen.png": {
     "image/png": "[encoded data removed]"
    }
   },
   "cell_type": "markdown",
   "metadata": {},
   "source": [
    "- **Para valuar derivados**, por ejemplo **opciones**.\n",
    "- Método de valuación de riesgo neutral (se supone que el precio del activo $S_t$ no se ve afectado por el riesgo de mercado).\n",
    "\n",
    "Recorderis de cuantitativas:\n",
    "1. Ecuación de Black-Scholes\n",
    "$$ dS(t) = \\mu S(t) + \\sigma S(t)dW_t$$\n",
    "2. Solución de la ecuación\n",
    "\n",
    "El valor de una opción Europea de vainilla $V_t$ puede obtenerse por:\n",
    "$$V_t = F(t,S_t)$$ donde\n",
    "![imagen.png](attachment:imagen.png)\n",
    "3. Opción de compra europea, suponiendo que los precios del activo son lognormales\n",
    "4. Opción de venta europea, suponiendo que los precios del activo son lognormales"
   ]
  },
  {
   "cell_type": "markdown",
   "metadata": {},
   "source": [
    "Entonces, ¿qué es la **volatilidad implícita**?\n",
    "\n",
    "La volatilidad es una medida de la incertidumbre sobre el comportamiento futuro de un activo, que se mide habitualmente como la desviación típica de la rentabilidad de dicho activo. "
   ]
  },
  {
   "cell_type": "code",
   "execution_count": 8,
   "metadata": {},
   "outputs": [
    {
     "data": {
      "image/png": "[encoded data removed]",
      "text/plain": [
       "<Figure size 576x432 with 1 Axes>"
      ]
     },
     "metadata": {},
     "output_type": "display_data"
    }
   ],
   "source": [
    "ax = put06.set_index('Strike').loc[:, 'IV'].plot(figsize=(8,6))\n",
    "ax.axvline(put06.Underlying_Price.iloc[0], color='g');\n",
    "#call06.Underlying_Price"
   ]
  },
  {
   "cell_type": "code",
   "execution_count": 9,
   "metadata": {},
   "outputs": [
    {
     "data": {
      "text/html": [
       "<div>\n",
       "<style scoped>\n",
       "    .dataframe tbody tr th:only-of-type {\n",
       "        vertical-align: middle;\n",
       "    }\n",
       "\n",
       "    .dataframe tbody tr th {\n",
       "        vertical-align: top;\n",
       "    }\n",
       "\n",
       "    .dataframe thead th {\n",
       "        text-align: right;\n",
       "    }\n",
       "</style>\n",
       "<table border=\"1\" class=\"dataframe\">\n",
       "  <thead>\n",
       "    <tr style=\"text-align: right;\">\n",
       "      <th></th>\n",
       "      <th>Strike</th>\n",
       "      <th>Expiry</th>\n",
       "      <th>Type</th>\n",
       "      <th>...</th>\n",
       "      <th>Quote_Time</th>\n",
       "      <th>Last_Trade_Date</th>\n",
       "      <th>JSON</th>\n",
       "    </tr>\n",
       "  </thead>\n",
       "  <tbody>\n",
       "    <tr>\n",
       "      <th>14</th>\n",
       "      <td>50.0</td>\n",
       "      <td>2019-04-18</td>\n",
       "      <td>put</td>\n",
       "      <td>...</td>\n",
       "      <td>2018-11-02 20:00:02</td>\n",
       "      <td>2018-08-25 03:51:03</td>\n",
       "      <td>{'contractSymbol': 'AAPL190418P00050000', 'str...</td>\n",
       "    </tr>\n",
       "    <tr>\n",
       "      <th>19</th>\n",
       "      <td>55.0</td>\n",
       "      <td>2019-04-18</td>\n",
       "      <td>put</td>\n",
       "      <td>...</td>\n",
       "      <td>2018-11-02 20:00:02</td>\n",
       "      <td>2018-08-25 03:51:03</td>\n",
       "      <td>{'contractSymbol': 'AAPL190418P00055000', 'str...</td>\n",
       "    </tr>\n",
       "    <tr>\n",
       "      <th>30</th>\n",
       "      <td>65.0</td>\n",
       "      <td>2019-04-18</td>\n",
       "      <td>put</td>\n",
       "      <td>...</td>\n",
       "      <td>2018-11-02 20:00:02</td>\n",
       "      <td>2018-09-01 03:55:35</td>\n",
       "      <td>{'contractSymbol': 'AAPL190418P00065000', 'str...</td>\n",
       "    </tr>\n",
       "    <tr>\n",
       "      <th>35</th>\n",
       "      <td>70.0</td>\n",
       "      <td>2019-04-18</td>\n",
       "      <td>put</td>\n",
       "      <td>...</td>\n",
       "      <td>2018-11-02 20:00:02</td>\n",
       "      <td>2018-09-22 03:52:53</td>\n",
       "      <td>{'contractSymbol': 'AAPL190418P00070000', 'str...</td>\n",
       "    </tr>\n",
       "    <tr>\n",
       "      <th>44</th>\n",
       "      <td>80.0</td>\n",
       "      <td>2019-04-18</td>\n",
       "      <td>put</td>\n",
       "      <td>...</td>\n",
       "      <td>2018-11-02 20:00:02</td>\n",
       "      <td>2018-09-29 03:56:14</td>\n",
       "      <td>{'contractSymbol': 'AAPL190418P00080000', 'str...</td>\n",
       "    </tr>\n",
       "    <tr>\n",
       "      <th>...</th>\n",
       "      <td>...</td>\n",
       "      <td>...</td>\n",
       "      <td>...</td>\n",
       "      <td>...</td>\n",
       "      <td>...</td>\n",
       "      <td>...</td>\n",
       "      <td>...</td>\n",
       "    </tr>\n",
       "    <tr>\n",
       "      <th>862</th>\n",
       "      <td>325.0</td>\n",
       "      <td>2019-04-18</td>\n",
       "      <td>put</td>\n",
       "      <td>...</td>\n",
       "      <td>2018-11-02 20:00:02</td>\n",
       "      <td>2018-09-08 03:44:29</td>\n",
       "      <td>{'contractSymbol': 'AAPL190418P00325000', 'str...</td>\n",
       "    </tr>\n",
       "    <tr>\n",
       "      <th>866</th>\n",
       "      <td>330.0</td>\n",
       "      <td>2019-04-18</td>\n",
       "      <td>put</td>\n",
       "      <td>...</td>\n",
       "      <td>2018-11-02 20:00:02</td>\n",
       "      <td>2018-09-08 03:44:29</td>\n",
       "      <td>{'contractSymbol': 'AAPL190418P00330000', 'str...</td>\n",
       "    </tr>\n",
       "    <tr>\n",
       "      <th>889</th>\n",
       "      <td>350.0</td>\n",
       "      <td>2019-04-18</td>\n",
       "      <td>put</td>\n",
       "      <td>...</td>\n",
       "      <td>2018-11-02 20:00:02</td>\n",
       "      <td>2018-09-15 03:48:34</td>\n",
       "      <td>{'contractSymbol': 'AAPL190418P00350000', 'str...</td>\n",
       "    </tr>\n",
       "    <tr>\n",
       "      <th>917</th>\n",
       "      <td>420.0</td>\n",
       "      <td>2019-04-18</td>\n",
       "      <td>put</td>\n",
       "      <td>...</td>\n",
       "      <td>2018-11-02 20:00:02</td>\n",
       "      <td>2018-11-02 14:23:03</td>\n",
       "      <td>{'contractSymbol': 'AAPL190418P00420000', 'str...</td>\n",
       "    </tr>\n",
       "    <tr>\n",
       "      <th>919</th>\n",
       "      <td>425.0</td>\n",
       "      <td>2019-04-18</td>\n",
       "      <td>put</td>\n",
       "      <td>...</td>\n",
       "      <td>2018-11-02 20:00:02</td>\n",
       "      <td>2018-10-29 19:49:02</td>\n",
       "      <td>{'contractSymbol': 'AAPL190418P00425000', 'str...</td>\n",
       "    </tr>\n",
       "  </tbody>\n",
       "</table>\n",
       "<p>53 rows × 19 columns</p>\n",
       "</div>"
      ],
      "text/plain": [
       "     Strike     Expiry Type  \\\n",
       "14     50.0 2019-04-18  put   \n",
       "19     55.0 2019-04-18  put   \n",
       "30     65.0 2019-04-18  put   \n",
       "35     70.0 2019-04-18  put   \n",
       "44     80.0 2019-04-18  put   \n",
       "..      ...        ...  ...   \n",
       "862   325.0 2019-04-18  put   \n",
       "866   330.0 2019-04-18  put   \n",
       "889   350.0 2019-04-18  put   \n",
       "917   420.0 2019-04-18  put   \n",
       "919   425.0 2019-04-18  put   \n",
       "\n",
       "                           ...                                  Quote_Time  \\\n",
       "14                         ...                         2018-11-02 20:00:02   \n",
       "19                         ...                         2018-11-02 20:00:02   \n",
       "30                         ...                         2018-11-02 20:00:02   \n",
       "35                         ...                         2018-11-02 20:00:02   \n",
       "44                         ...                         2018-11-02 20:00:02   \n",
       "..                         ...                                         ...   \n",
       "862                        ...                         2018-11-02 20:00:02   \n",
       "866                        ...                         2018-11-02 20:00:02   \n",
       "889                        ...                         2018-11-02 20:00:02   \n",
       "917                        ...                         2018-11-02 20:00:02   \n",
       "919                        ...                         2018-11-02 20:00:02   \n",
       "\n",
       "        Last_Trade_Date                                               JSON  \n",
       "14  2018-08-25 03:51:03  {'contractSymbol': 'AAPL190418P00050000', 'str...  \n",
       "19  2018-08-25 03:51:03  {'contractSymbol': 'AAPL190418P00055000', 'str...  \n",
       "30  2018-09-01 03:55:35  {'contractSymbol': 'AAPL190418P00065000', 'str...  \n",
       "35  2018-09-22 03:52:53  {'contractSymbol': 'AAPL190418P00070000', 'str...  \n",
       "44  2018-09-29 03:56:14  {'contractSymbol': 'AAPL190418P00080000', 'str...  \n",
       "..                  ...                                                ...  \n",
       "862 2018-09-08 03:44:29  {'contractSymbol': 'AAPL190418P00325000', 'str...  \n",
       "866 2018-09-08 03:44:29  {'contractSymbol': 'AAPL190418P00330000', 'str...  \n",
       "889 2018-09-15 03:48:34  {'contractSymbol': 'AAPL190418P00350000', 'str...  \n",
       "917 2018-11-02 14:23:03  {'contractSymbol': 'AAPL190418P00420000', 'str...  \n",
       "919 2018-10-29 19:49:02  {'contractSymbol': 'AAPL190418P00425000', 'str...  \n",
       "\n",
       "[53 rows x 19 columns]"
      ]
     },
     "execution_count": 9,
     "metadata": {},
     "output_type": "execute_result"
    }
   ],
   "source": [
    "put06 = aapl_opt.loc[(aapl_opt.Expiry=='2019-04-18') & (aapl_opt.Type=='put')]\n",
    "put06"
   ]
  },
  {
   "cell_type": "code",
   "execution_count": 9,
   "metadata": {},
   "outputs": [
    {
     "data": {
      "text/plain": [
       "<matplotlib.lines.Line2D at 0x2559fb00748>"
      ]
     },
     "execution_count": 9,
     "metadata": {},
     "output_type": "execute_result"
    },
    {
     "data": {
      "image/png": "[encoded data removed]",
      "text/plain": [
       "<Figure size 576x432 with 1 Axes>"
      ]
     },
     "metadata": {},
     "output_type": "display_data"
    }
   ],
   "source": [
    "ax = put06.set_index('Strike').loc[:, 'IV'].plot(figsize=(8,6))\n",
    "ax.axvline(put06.Underlying_Price.iloc[0], color='g')"
   ]
  },
  {
   "cell_type": "markdown",
   "metadata": {},
   "source": [
    "Con lo que hemos aprendido, deberíamos ser capaces de crear una función que nos devuelva un `DataFrame` de `pandas` con los precios de cierre ajustados de ciertas compañías en ciertas fechas:\n",
    "- Escribir la función a continuación"
   ]
  },
  {
   "cell_type": "code",
   "execution_count": 10,
   "metadata": {},
   "outputs": [],
   "source": [
    "# Función para descargar precios de cierre ajustados de varios activos a la vez:\n",
    "def get_historical_closes(tickers, start_date=None, end_date=None, freq=None):\n",
    "    # Fecha inicio por defecto (start_date='2010-01-01') y fecha fin por defecto (end_date=today)\n",
    "    # Frecuencia de muestreo por defecto (freq='d')\n",
    "    # Importamos paquetes necesarios\n",
    "    import pandas as pd\n",
    "    pd.core.common.is_list_like = pd.api.types.is_list_like\n",
    "    import pandas_datareader.data as web  \n",
    "    # Creamos DataFrame vacío de precios, con el índice de las fechas\n",
    "    closes = pd.DataFrame(columns = tickers, index=web.YahooDailyReader(symbols=tickers[0], start=start_date, end=end_date, interval=freq).read().index)\n",
    "    # Agregamos cada uno de los precios con YahooDailyReader\n",
    "    for ticker in tickers:\n",
    "        df = web.YahooDailyReader(symbols=ticker, start=start_date, end=end_date, interval=freq).read()\n",
    "        closes[ticker]=df['Adj Close']\n",
    "    closes.index_name = 'Date'\n",
    "    closes = closes.sort_index()\n",
    "    return closes"
   ]
  },
  {
   "cell_type": "markdown",
   "metadata": {},
   "source": [
    "- Obtener como ejemplo los precios de cierre de Apple del año pasado hasta la fecha. Graficar..."
   ]
  },
  {
   "cell_type": "code",
   "execution_count": 11,
   "metadata": {},
   "outputs": [
    {
     "data": {
      "image/png": "[encoded data removed]",
      "text/plain": [
       "<Figure size 576x360 with 1 Axes>"
      ]
     },
     "metadata": {},
     "output_type": "display_data"
    }
   ],
   "source": [
    "ticker = ['AAPL']\n",
    "start_date = '2017-01-01'\n",
    "\n",
    "closes_aapl = get_historical_closes(ticker, start_date,freq='d')\n",
    "closes_aapl.plot(figsize=(8,5));\n",
    "plt.legend(ticker);"
   ]
  },
  {
   "cell_type": "markdown",
   "metadata": {},
   "source": [
    "- Escribir una función que pasándole el histórico de precios devuelva los rendimientos logarítmicos:"
   ]
  },
  {
   "cell_type": "code",
   "execution_count": 12,
   "metadata": {},
   "outputs": [],
   "source": [
    "def calc_daily_ret(closes):\n",
    "    return np.log(closes/closes.shift(1)).iloc[1:]"
   ]
  },
  {
   "cell_type": "markdown",
   "metadata": {},
   "source": [
    "- Graficar..."
   ]
  },
  {
   "cell_type": "code",
   "execution_count": 13,
   "metadata": {},
   "outputs": [
    {
     "data": {
      "image/png": "[encoded data removed]",
      "text/plain": [
       "<Figure size 576x432 with 1 Axes>"
      ]
     },
     "metadata": {},
     "output_type": "display_data"
    }
   ],
   "source": [
    "ret_aapl = calc_daily_ret(closes_aapl)\n",
    "ret_aapl.plot(figsize=(8,6));"
   ]
  },
  {
   "cell_type": "markdown",
   "metadata": {},
   "source": [
    "También, descargar datos de opciones de Apple:"
   ]
  },
  {
   "cell_type": "code",
   "execution_count": 14,
   "metadata": {
    "scrolled": false
   },
   "outputs": [
    {
     "data": {
      "text/html": [
       "<div>\n",
       "<style scoped>\n",
       "    .dataframe tbody tr th:only-of-type {\n",
       "        vertical-align: middle;\n",
       "    }\n",
       "\n",
       "    .dataframe tbody tr th {\n",
       "        vertical-align: top;\n",
       "    }\n",
       "\n",
       "    .dataframe thead th {\n",
       "        text-align: right;\n",
       "    }\n",
       "</style>\n",
       "<table border=\"1\" class=\"dataframe\">\n",
       "  <thead>\n",
       "    <tr style=\"text-align: right;\">\n",
       "      <th></th>\n",
       "      <th>Strike</th>\n",
       "      <th>Type</th>\n",
       "      <th>Symbol</th>\n",
       "      <th>...</th>\n",
       "      <th>Quote_Time</th>\n",
       "      <th>Last_Trade_Date</th>\n",
       "      <th>JSON</th>\n",
       "    </tr>\n",
       "    <tr>\n",
       "      <th>Expiry</th>\n",
       "      <th></th>\n",
       "      <th></th>\n",
       "      <th></th>\n",
       "      <th></th>\n",
       "      <th></th>\n",
       "      <th></th>\n",
       "      <th></th>\n",
       "    </tr>\n",
       "  </thead>\n",
       "  <tbody>\n",
       "    <tr>\n",
       "      <th>2018-11-09</th>\n",
       "      <td>170.0</td>\n",
       "      <td>call</td>\n",
       "      <td>AAPL181109C00170000</td>\n",
       "      <td>...</td>\n",
       "      <td>2018-11-02 20:00:02</td>\n",
       "      <td>2018-11-02 18:07:53</td>\n",
       "      <td>{'contractSymbol': 'AAPL181109C00170000', 'str...</td>\n",
       "    </tr>\n",
       "    <tr>\n",
       "      <th>2018-11-09</th>\n",
       "      <td>227.5</td>\n",
       "      <td>call</td>\n",
       "      <td>AAPL181109C00227500</td>\n",
       "      <td>...</td>\n",
       "      <td>2018-11-02 20:00:02</td>\n",
       "      <td>2018-11-02 19:59:49</td>\n",
       "      <td>{'contractSymbol': 'AAPL181109C00227500', 'str...</td>\n",
       "    </tr>\n",
       "    <tr>\n",
       "      <th>2018-11-09</th>\n",
       "      <td>262.5</td>\n",
       "      <td>call</td>\n",
       "      <td>AAPL181109C00262500</td>\n",
       "      <td>...</td>\n",
       "      <td>2018-11-02 20:00:02</td>\n",
       "      <td>2018-11-02 17:45:05</td>\n",
       "      <td>{'contractSymbol': 'AAPL181109C00262500', 'str...</td>\n",
       "    </tr>\n",
       "    <tr>\n",
       "      <th>2018-11-09</th>\n",
       "      <td>265.0</td>\n",
       "      <td>call</td>\n",
       "      <td>AAPL181109C00265000</td>\n",
       "      <td>...</td>\n",
       "      <td>2018-11-02 20:00:02</td>\n",
       "      <td>2018-11-02 17:45:22</td>\n",
       "      <td>{'contractSymbol': 'AAPL181109C00265000', 'str...</td>\n",
       "    </tr>\n",
       "    <tr>\n",
       "      <th>2018-11-09</th>\n",
       "      <td>170.0</td>\n",
       "      <td>put</td>\n",
       "      <td>AAPL181109P00170000</td>\n",
       "      <td>...</td>\n",
       "      <td>2018-11-02 20:00:02</td>\n",
       "      <td>2018-11-02 19:59:59</td>\n",
       "      <td>{'contractSymbol': 'AAPL181109P00170000', 'str...</td>\n",
       "    </tr>\n",
       "    <tr>\n",
       "      <th>...</th>\n",
       "      <td>...</td>\n",
       "      <td>...</td>\n",
       "      <td>...</td>\n",
       "      <td>...</td>\n",
       "      <td>...</td>\n",
       "      <td>...</td>\n",
       "      <td>...</td>\n",
       "    </tr>\n",
       "    <tr>\n",
       "      <th>2021-01-15</th>\n",
       "      <td>230.0</td>\n",
       "      <td>put</td>\n",
       "      <td>AAPL210115P00230000</td>\n",
       "      <td>...</td>\n",
       "      <td>2018-11-02 20:00:02</td>\n",
       "      <td>2018-11-02 18:39:26</td>\n",
       "      <td>{'contractSymbol': 'AAPL210115P00230000', 'str...</td>\n",
       "    </tr>\n",
       "    <tr>\n",
       "      <th>2021-01-15</th>\n",
       "      <td>230.0</td>\n",
       "      <td>call</td>\n",
       "      <td>AAPL210115C00230000</td>\n",
       "      <td>...</td>\n",
       "      <td>2018-11-02 20:00:02</td>\n",
       "      <td>2018-11-02 19:53:49</td>\n",
       "      <td>{'contractSymbol': 'AAPL210115C00230000', 'str...</td>\n",
       "    </tr>\n",
       "    <tr>\n",
       "      <th>2021-01-15</th>\n",
       "      <td>135.0</td>\n",
       "      <td>put</td>\n",
       "      <td>AAPL210115P00135000</td>\n",
       "      <td>...</td>\n",
       "      <td>2018-11-02 20:00:02</td>\n",
       "      <td>2018-10-26 14:33:17</td>\n",
       "      <td>{'contractSymbol': 'AAPL210115P00135000', 'str...</td>\n",
       "    </tr>\n",
       "    <tr>\n",
       "      <th>2021-01-15</th>\n",
       "      <td>205.0</td>\n",
       "      <td>put</td>\n",
       "      <td>AAPL210115P00205000</td>\n",
       "      <td>...</td>\n",
       "      <td>2018-11-02 20:00:02</td>\n",
       "      <td>2018-11-02 19:57:45</td>\n",
       "      <td>{'contractSymbol': 'AAPL210115P00205000', 'str...</td>\n",
       "    </tr>\n",
       "    <tr>\n",
       "      <th>2021-01-15</th>\n",
       "      <td>130.0</td>\n",
       "      <td>put</td>\n",
       "      <td>AAPL210115P00130000</td>\n",
       "      <td>...</td>\n",
       "      <td>2018-11-02 20:00:02</td>\n",
       "      <td>2018-11-01 17:07:28</td>\n",
       "      <td>{'contractSymbol': 'AAPL210115P00130000', 'str...</td>\n",
       "    </tr>\n",
       "  </tbody>\n",
       "</table>\n",
       "<p>920 rows × 18 columns</p>\n",
       "</div>"
      ],
      "text/plain": [
       "            Strike  Type               Symbol  \\\n",
       "Expiry                                          \n",
       "2018-11-09   170.0  call  AAPL181109C00170000   \n",
       "2018-11-09   227.5  call  AAPL181109C00227500   \n",
       "2018-11-09   262.5  call  AAPL181109C00262500   \n",
       "2018-11-09   265.0  call  AAPL181109C00265000   \n",
       "2018-11-09   170.0   put  AAPL181109P00170000   \n",
       "...            ...   ...                  ...   \n",
       "2021-01-15   230.0   put  AAPL210115P00230000   \n",
       "2021-01-15   230.0  call  AAPL210115C00230000   \n",
       "2021-01-15   135.0   put  AAPL210115P00135000   \n",
       "2021-01-15   205.0   put  AAPL210115P00205000   \n",
       "2021-01-15   130.0   put  AAPL210115P00130000   \n",
       "\n",
       "                                  ...                          \\\n",
       "Expiry                            ...                           \n",
       "2018-11-09                        ...                           \n",
       "2018-11-09                        ...                           \n",
       "2018-11-09                        ...                           \n",
       "2018-11-09                        ...                           \n",
       "2018-11-09                        ...                           \n",
       "...                               ...                           \n",
       "2021-01-15                        ...                           \n",
       "2021-01-15                        ...                           \n",
       "2021-01-15                        ...                           \n",
       "2021-01-15                        ...                           \n",
       "2021-01-15                        ...                           \n",
       "\n",
       "                    Quote_Time     Last_Trade_Date  \\\n",
       "Expiry                                               \n",
       "2018-11-09 2018-11-02 20:00:02 2018-11-02 18:07:53   \n",
       "2018-11-09 2018-11-02 20:00:02 2018-11-02 19:59:49   \n",
       "2018-11-09 2018-11-02 20:00:02 2018-11-02 17:45:05   \n",
       "2018-11-09 2018-11-02 20:00:02 2018-11-02 17:45:22   \n",
       "2018-11-09 2018-11-02 20:00:02 2018-11-02 19:59:59   \n",
       "...                        ...                 ...   \n",
       "2021-01-15 2018-11-02 20:00:02 2018-11-02 18:39:26   \n",
       "2021-01-15 2018-11-02 20:00:02 2018-11-02 19:53:49   \n",
       "2021-01-15 2018-11-02 20:00:02 2018-10-26 14:33:17   \n",
       "2021-01-15 2018-11-02 20:00:02 2018-11-02 19:57:45   \n",
       "2021-01-15 2018-11-02 20:00:02 2018-11-01 17:07:28   \n",
       "\n",
       "                                                         JSON  \n",
       "Expiry                                                         \n",
       "2018-11-09  {'contractSymbol': 'AAPL181109C00170000', 'str...  \n",
       "2018-11-09  {'contractSymbol': 'AAPL181109C00227500', 'str...  \n",
       "2018-11-09  {'contractSymbol': 'AAPL181109C00262500', 'str...  \n",
       "2018-11-09  {'contractSymbol': 'AAPL181109C00265000', 'str...  \n",
       "2018-11-09  {'contractSymbol': 'AAPL181109P00170000', 'str...  \n",
       "...                                                       ...  \n",
       "2021-01-15  {'contractSymbol': 'AAPL210115P00230000', 'str...  \n",
       "2021-01-15  {'contractSymbol': 'AAPL210115C00230000', 'str...  \n",
       "2021-01-15  {'contractSymbol': 'AAPL210115P00135000', 'str...  \n",
       "2021-01-15  {'contractSymbol': 'AAPL210115P00205000', 'str...  \n",
       "2021-01-15  {'contractSymbol': 'AAPL210115P00130000', 'str...  \n",
       "\n",
       "[920 rows x 18 columns]"
      ]
     },
     "execution_count": 14,
     "metadata": {},
     "output_type": "execute_result"
    }
   ],
   "source": [
    "aapl = web.YahooOptions('AAPL')\n",
    "aapl_opt = aapl.get_all_data().reset_index()\n",
    "aapl_opt.set_index('Expiry').sort_index()"
   ]
  },
  {
   "cell_type": "code",
   "execution_count": 52,
   "metadata": {},
   "outputs": [
    {
     "data": {
      "text/html": [
       "<div>\n",
       "<style scoped>\n",
       "    .dataframe tbody tr th:only-of-type {\n",
       "        vertical-align: middle;\n",
       "    }\n",
       "\n",
       "    .dataframe tbody tr th {\n",
       "        vertical-align: top;\n",
       "    }\n",
       "\n",
       "    .dataframe thead th {\n",
       "        text-align: right;\n",
       "    }\n",
       "</style>\n",
       "<table border=\"1\" class=\"dataframe\">\n",
       "  <thead>\n",
       "    <tr style=\"text-align: right;\">\n",
       "      <th></th>\n",
       "      <th>Strike</th>\n",
       "      <th>Expiry</th>\n",
       "      <th>Type</th>\n",
       "      <th>...</th>\n",
       "      <th>Quote_Time</th>\n",
       "      <th>Last_Trade_Date</th>\n",
       "      <th>JSON</th>\n",
       "    </tr>\n",
       "  </thead>\n",
       "  <tbody>\n",
       "    <tr>\n",
       "      <th>536</th>\n",
       "      <td>220.0</td>\n",
       "      <td>2019-02-15</td>\n",
       "      <td>call</td>\n",
       "      <td>...</td>\n",
       "      <td>2018-11-02 20:00:02</td>\n",
       "      <td>2018-11-02 19:59:59</td>\n",
       "      <td>{'contractSymbol': 'AAPL190215C00220000', 'str...</td>\n",
       "    </tr>\n",
       "  </tbody>\n",
       "</table>\n",
       "<p>1 rows × 19 columns</p>\n",
       "</div>"
      ],
      "text/plain": [
       "     Strike     Expiry  Type  \\\n",
       "536   220.0 2019-02-15  call   \n",
       "\n",
       "                           ...                                  Quote_Time  \\\n",
       "536                        ...                         2018-11-02 20:00:02   \n",
       "\n",
       "        Last_Trade_Date                                               JSON  \n",
       "536 2018-11-02 19:59:59  {'contractSymbol': 'AAPL190215C00220000', 'str...  \n",
       "\n",
       "[1 rows x 19 columns]"
      ]
     },
     "execution_count": 52,
     "metadata": {},
     "output_type": "execute_result"
    }
   ],
   "source": [
    "aapl_opt.loc[(aapl_opt.Type=='call') & (aapl_opt.Strike==220) & (aapl_opt.Expiry=='2019-02-15')]\n",
    "#quiero caluar una opcion put en 220 USD PARA EL 15 DE FEBRERO DE 2019, LAS ACCIONES DE APPLE CUESTAN 207 USD01-11-2018"
   ]
  },
  {
   "cell_type": "code",
   "execution_count": 53,
   "metadata": {
    "scrolled": true
   },
   "outputs": [
    {
     "data": {
      "text/plain": [
       "{'contractSymbol': 'AAPL190215C00220000',\n",
       " 'strike': 220.0,\n",
       " 'currency': 'USD',\n",
       " 'lastPrice': 7.65,\n",
       " 'change': -7.9500003,\n",
       " 'percentChange': -50.961536,\n",
       " 'volume': 2879,\n",
       " 'openInterest': 7172,\n",
       " 'bid': 7.45,\n",
       " 'ask': 8.2,\n",
       " 'contractSize': 'REGULAR',\n",
       " 'expiration': 1550188800,\n",
       " 'lastTradeDate': 1541188799,\n",
       " 'impliedVolatility': 0.2995065167236328,\n",
       " 'inTheMoney': False}"
      ]
     },
     "execution_count": 53,
     "metadata": {},
     "output_type": "execute_result"
    }
   ],
   "source": [
    "opcion_valuar = aapl_opt.loc[536]\n",
    "opcion_valuar['JSON']"
   ]
  },
  {
   "cell_type": "markdown",
   "metadata": {},
   "source": [
    "# Simulación de precios usando rendimiento simple y logarítmico "
   ]
  },
  {
   "cell_type": "markdown",
   "metadata": {},
   "source": [
    "* Comenzaremos por suponer que los rendimientos son un p.e. estacionario que distribuyen $\\mathcal{N}(\\mu,\\sigma)$."
   ]
  },
  {
   "cell_type": "code",
   "execution_count": 17,
   "metadata": {},
   "outputs": [
    {
     "data": {
      "text/html": [
       "<div>\n",
       "<style scoped>\n",
       "    .dataframe tbody tr th:only-of-type {\n",
       "        vertical-align: middle;\n",
       "    }\n",
       "\n",
       "    .dataframe tbody tr th {\n",
       "        vertical-align: top;\n",
       "    }\n",
       "\n",
       "    .dataframe thead th {\n",
       "        text-align: right;\n",
       "    }\n",
       "</style>\n",
       "<table border=\"1\" class=\"dataframe\">\n",
       "  <thead>\n",
       "    <tr style=\"text-align: right;\">\n",
       "      <th></th>\n",
       "      <th>AAPL</th>\n",
       "    </tr>\n",
       "    <tr>\n",
       "      <th>Date</th>\n",
       "      <th></th>\n",
       "    </tr>\n",
       "  </thead>\n",
       "  <tbody>\n",
       "    <tr>\n",
       "      <th>2017-01-03</th>\n",
       "      <td>113.014</td>\n",
       "    </tr>\n",
       "    <tr>\n",
       "      <th>2017-01-04</th>\n",
       "      <td>112.887</td>\n",
       "    </tr>\n",
       "    <tr>\n",
       "      <th>2017-01-05</th>\n",
       "      <td>113.462</td>\n",
       "    </tr>\n",
       "    <tr>\n",
       "      <th>2017-01-06</th>\n",
       "      <td>114.726</td>\n",
       "    </tr>\n",
       "    <tr>\n",
       "      <th>2017-01-09</th>\n",
       "      <td>115.777</td>\n",
       "    </tr>\n",
       "    <tr>\n",
       "      <th>...</th>\n",
       "      <td>...</td>\n",
       "    </tr>\n",
       "    <tr>\n",
       "      <th>2018-10-29</th>\n",
       "      <td>212.240</td>\n",
       "    </tr>\n",
       "    <tr>\n",
       "      <th>2018-10-30</th>\n",
       "      <td>213.300</td>\n",
       "    </tr>\n",
       "    <tr>\n",
       "      <th>2018-10-31</th>\n",
       "      <td>218.860</td>\n",
       "    </tr>\n",
       "    <tr>\n",
       "      <th>2018-11-01</th>\n",
       "      <td>222.220</td>\n",
       "    </tr>\n",
       "    <tr>\n",
       "      <th>2018-11-02</th>\n",
       "      <td>207.480</td>\n",
       "    </tr>\n",
       "  </tbody>\n",
       "</table>\n",
       "<p>464 rows × 1 columns</p>\n",
       "</div>"
      ],
      "text/plain": [
       "               AAPL\n",
       "Date               \n",
       "2017-01-03  113.014\n",
       "2017-01-04  112.887\n",
       "2017-01-05  113.462\n",
       "2017-01-06  114.726\n",
       "2017-01-09  115.777\n",
       "...             ...\n",
       "2018-10-29  212.240\n",
       "2018-10-30  213.300\n",
       "2018-10-31  218.860\n",
       "2018-11-01  222.220\n",
       "2018-11-02  207.480\n",
       "\n",
       "[464 rows x 1 columns]"
      ]
     },
     "execution_count": 17,
     "metadata": {},
     "output_type": "execute_result"
    }
   ],
   "source": [
    "# Descargamos los precios de apple\n",
    "ticker = ['AAPL']\n",
    "start_date = '2017-01-01'\n",
    "\n",
    "closes_aapl = get_historical_closes(ticker, start_date,freq='d')\n",
    "closes_aapl"
   ]
  },
  {
   "cell_type": "markdown",
   "metadata": {},
   "source": [
    "- **Rendimiento Simple**"
   ]
  },
  {
   "cell_type": "code",
   "execution_count": 18,
   "metadata": {
    "scrolled": false
   },
   "outputs": [
    {
     "data": {
      "text/html": [
       "<div>\n",
       "<style scoped>\n",
       "    .dataframe tbody tr th:only-of-type {\n",
       "        vertical-align: middle;\n",
       "    }\n",
       "\n",
       "    .dataframe tbody tr th {\n",
       "        vertical-align: top;\n",
       "    }\n",
       "\n",
       "    .dataframe thead th {\n",
       "        text-align: right;\n",
       "    }\n",
       "</style>\n",
       "<table border=\"1\" class=\"dataframe\">\n",
       "  <thead>\n",
       "    <tr style=\"text-align: right;\">\n",
       "      <th></th>\n",
       "      <th>AAPL</th>\n",
       "    </tr>\n",
       "    <tr>\n",
       "      <th>Date</th>\n",
       "      <th></th>\n",
       "    </tr>\n",
       "  </thead>\n",
       "  <tbody>\n",
       "    <tr>\n",
       "      <th>2017-01-04</th>\n",
       "      <td>-0.001</td>\n",
       "    </tr>\n",
       "    <tr>\n",
       "      <th>2017-01-05</th>\n",
       "      <td>0.005</td>\n",
       "    </tr>\n",
       "    <tr>\n",
       "      <th>2017-01-06</th>\n",
       "      <td>0.011</td>\n",
       "    </tr>\n",
       "    <tr>\n",
       "      <th>2017-01-09</th>\n",
       "      <td>0.009</td>\n",
       "    </tr>\n",
       "    <tr>\n",
       "      <th>2017-01-10</th>\n",
       "      <td>0.001</td>\n",
       "    </tr>\n",
       "    <tr>\n",
       "      <th>...</th>\n",
       "      <td>...</td>\n",
       "    </tr>\n",
       "    <tr>\n",
       "      <th>2018-10-29</th>\n",
       "      <td>-0.019</td>\n",
       "    </tr>\n",
       "    <tr>\n",
       "      <th>2018-10-30</th>\n",
       "      <td>0.005</td>\n",
       "    </tr>\n",
       "    <tr>\n",
       "      <th>2018-10-31</th>\n",
       "      <td>0.026</td>\n",
       "    </tr>\n",
       "    <tr>\n",
       "      <th>2018-11-01</th>\n",
       "      <td>0.015</td>\n",
       "    </tr>\n",
       "    <tr>\n",
       "      <th>2018-11-02</th>\n",
       "      <td>-0.066</td>\n",
       "    </tr>\n",
       "  </tbody>\n",
       "</table>\n",
       "<p>463 rows × 1 columns</p>\n",
       "</div>"
      ],
      "text/plain": [
       "             AAPL\n",
       "Date             \n",
       "2017-01-04 -0.001\n",
       "2017-01-05  0.005\n",
       "2017-01-06  0.011\n",
       "2017-01-09  0.009\n",
       "2017-01-10  0.001\n",
       "...           ...\n",
       "2018-10-29 -0.019\n",
       "2018-10-30  0.005\n",
       "2018-10-31  0.026\n",
       "2018-11-01  0.015\n",
       "2018-11-02 -0.066\n",
       "\n",
       "[463 rows x 1 columns]"
      ]
     },
     "execution_count": 18,
     "metadata": {},
     "output_type": "execute_result"
    }
   ],
   "source": [
    "# Obtenemos el rendimiento simple\n",
    "Ri = closes_aapl.pct_change(1).iloc[1:]\n",
    "# Obtenemos su media y desviación estándar de los rendimientos\n",
    "mu_R = Ri.mean()[0]\n",
    "sigma_R = Ri.std()[0]\n",
    "Ri"
   ]
  },
  {
   "cell_type": "code",
   "execution_count": 19,
   "metadata": {},
   "outputs": [
    {
     "data": {
      "text/plain": [
       "DatetimeIndex(['2018-10-29', '2018-10-30', '2018-10-31', '2018-11-01',\n",
       "               '2018-11-02', '2018-11-03', '2018-11-04', '2018-11-05',\n",
       "               '2018-11-06', '2018-11-07',\n",
       "               ...\n",
       "               '2019-02-05', '2019-02-06', '2019-02-07', '2019-02-08',\n",
       "               '2019-02-09', '2019-02-10', '2019-02-11', '2019-02-12',\n",
       "               '2019-02-13', '2019-02-14'],\n",
       "              dtype='datetime64[ns]', length=109, freq='D')"
      ]
     },
     "execution_count": 19,
     "metadata": {},
     "output_type": "execute_result"
    }
   ],
   "source": [
    "ndays = 109\n",
    "nscen = 10\n",
    "dates = pd.date_range('2018-10-29', periods = ndays)\n",
    "dates"
   ]
  },
  {
   "cell_type": "code",
   "execution_count": 20,
   "metadata": {},
   "outputs": [
    {
     "data": {
      "text/html": [
       "<div>\n",
       "<style scoped>\n",
       "    .dataframe tbody tr th:only-of-type {\n",
       "        vertical-align: middle;\n",
       "    }\n",
       "\n",
       "    .dataframe tbody tr th {\n",
       "        vertical-align: top;\n",
       "    }\n",
       "\n",
       "    .dataframe thead th {\n",
       "        text-align: right;\n",
       "    }\n",
       "</style>\n",
       "<table border=\"1\" class=\"dataframe\">\n",
       "  <thead>\n",
       "    <tr style=\"text-align: right;\">\n",
       "      <th></th>\n",
       "      <th>0</th>\n",
       "      <th>1</th>\n",
       "      <th>2</th>\n",
       "      <th>...</th>\n",
       "      <th>7</th>\n",
       "      <th>8</th>\n",
       "      <th>9</th>\n",
       "    </tr>\n",
       "  </thead>\n",
       "  <tbody>\n",
       "    <tr>\n",
       "      <th>2018-10-29</th>\n",
       "      <td>-1.957e-02</td>\n",
       "      <td>1.487e-02</td>\n",
       "      <td>-7.062e-03</td>\n",
       "      <td>...</td>\n",
       "      <td>-8.971e-03</td>\n",
       "      <td>3.143e-03</td>\n",
       "      <td>1.320e-02</td>\n",
       "    </tr>\n",
       "    <tr>\n",
       "      <th>2018-10-30</th>\n",
       "      <td>-6.890e-05</td>\n",
       "      <td>-3.762e-04</td>\n",
       "      <td>-9.083e-05</td>\n",
       "      <td>...</td>\n",
       "      <td>-2.953e-06</td>\n",
       "      <td>5.545e-05</td>\n",
       "      <td>-1.924e-04</td>\n",
       "    </tr>\n",
       "    <tr>\n",
       "      <th>2018-10-31</th>\n",
       "      <td>4.992e-07</td>\n",
       "      <td>3.143e-06</td>\n",
       "      <td>3.652e-07</td>\n",
       "      <td>...</td>\n",
       "      <td>-3.343e-08</td>\n",
       "      <td>5.500e-07</td>\n",
       "      <td>-1.552e-06</td>\n",
       "    </tr>\n",
       "    <tr>\n",
       "      <th>2018-11-01</th>\n",
       "      <td>1.583e-08</td>\n",
       "      <td>-4.054e-08</td>\n",
       "      <td>6.168e-09</td>\n",
       "      <td>...</td>\n",
       "      <td>4.010e-10</td>\n",
       "      <td>1.003e-09</td>\n",
       "      <td>4.652e-08</td>\n",
       "    </tr>\n",
       "    <tr>\n",
       "      <th>2018-11-02</th>\n",
       "      <td>2.064e-11</td>\n",
       "      <td>-3.348e-10</td>\n",
       "      <td>8.590e-11</td>\n",
       "      <td>...</td>\n",
       "      <td>1.897e-12</td>\n",
       "      <td>-1.408e-11</td>\n",
       "      <td>8.127e-10</td>\n",
       "    </tr>\n",
       "    <tr>\n",
       "      <th>...</th>\n",
       "      <td>...</td>\n",
       "      <td>...</td>\n",
       "      <td>...</td>\n",
       "      <td>...</td>\n",
       "      <td>...</td>\n",
       "      <td>...</td>\n",
       "      <td>...</td>\n",
       "    </tr>\n",
       "    <tr>\n",
       "      <th>2019-02-10</th>\n",
       "      <td>-7.093e-226</td>\n",
       "      <td>1.959e-228</td>\n",
       "      <td>-1.460e-229</td>\n",
       "      <td>...</td>\n",
       "      <td>1.339e-222</td>\n",
       "      <td>-1.567e-237</td>\n",
       "      <td>-2.356e-225</td>\n",
       "    </tr>\n",
       "    <tr>\n",
       "      <th>2019-02-11</th>\n",
       "      <td>1.864e-227</td>\n",
       "      <td>-1.619e-230</td>\n",
       "      <td>-1.674e-231</td>\n",
       "      <td>...</td>\n",
       "      <td>-2.375e-225</td>\n",
       "      <td>-5.772e-240</td>\n",
       "      <td>-1.722e-227</td>\n",
       "    </tr>\n",
       "    <tr>\n",
       "      <th>2019-02-12</th>\n",
       "      <td>5.560e-230</td>\n",
       "      <td>1.696e-232</td>\n",
       "      <td>4.110e-233</td>\n",
       "      <td>...</td>\n",
       "      <td>4.249e-227</td>\n",
       "      <td>-1.024e-241</td>\n",
       "      <td>3.121e-230</td>\n",
       "    </tr>\n",
       "    <tr>\n",
       "      <th>2019-02-13</th>\n",
       "      <td>-5.019e-232</td>\n",
       "      <td>-2.863e-234</td>\n",
       "      <td>-9.191e-236</td>\n",
       "      <td>...</td>\n",
       "      <td>-1.282e-229</td>\n",
       "      <td>-1.985e-244</td>\n",
       "      <td>1.604e-232</td>\n",
       "    </tr>\n",
       "    <tr>\n",
       "      <th>2019-02-14</th>\n",
       "      <td>2.565e-234</td>\n",
       "      <td>-5.057e-236</td>\n",
       "      <td>-1.153e-237</td>\n",
       "      <td>...</td>\n",
       "      <td>5.793e-232</td>\n",
       "      <td>-2.986e-246</td>\n",
       "      <td>1.596e-234</td>\n",
       "    </tr>\n",
       "  </tbody>\n",
       "</table>\n",
       "<p>109 rows × 10 columns</p>\n",
       "</div>"
      ],
      "text/plain": [
       "                     0           1           2     ...               7  \\\n",
       "2018-10-29  -1.957e-02   1.487e-02  -7.062e-03     ...      -8.971e-03   \n",
       "2018-10-30  -6.890e-05  -3.762e-04  -9.083e-05     ...      -2.953e-06   \n",
       "2018-10-31   4.992e-07   3.143e-06   3.652e-07     ...      -3.343e-08   \n",
       "2018-11-01   1.583e-08  -4.054e-08   6.168e-09     ...       4.010e-10   \n",
       "2018-11-02   2.064e-11  -3.348e-10   8.590e-11     ...       1.897e-12   \n",
       "...                ...         ...         ...     ...             ...   \n",
       "2019-02-10 -7.093e-226  1.959e-228 -1.460e-229     ...      1.339e-222   \n",
       "2019-02-11  1.864e-227 -1.619e-230 -1.674e-231     ...     -2.375e-225   \n",
       "2019-02-12  5.560e-230  1.696e-232  4.110e-233     ...      4.249e-227   \n",
       "2019-02-13 -5.019e-232 -2.863e-234 -9.191e-236     ...     -1.282e-229   \n",
       "2019-02-14  2.565e-234 -5.057e-236 -1.153e-237     ...      5.793e-232   \n",
       "\n",
       "                     8           9  \n",
       "2018-10-29   3.143e-03   1.320e-02  \n",
       "2018-10-30   5.545e-05  -1.924e-04  \n",
       "2018-10-31   5.500e-07  -1.552e-06  \n",
       "2018-11-01   1.003e-09   4.652e-08  \n",
       "2018-11-02  -1.408e-11   8.127e-10  \n",
       "...                ...         ...  \n",
       "2019-02-10 -1.567e-237 -2.356e-225  \n",
       "2019-02-11 -5.772e-240 -1.722e-227  \n",
       "2019-02-12 -1.024e-241  3.121e-230  \n",
       "2019-02-13 -1.985e-244  1.604e-232  \n",
       "2019-02-14 -2.986e-246  1.596e-234  \n",
       "\n",
       "[109 rows x 10 columns]"
      ]
     },
     "execution_count": 20,
     "metadata": {},
     "output_type": "execute_result"
    }
   ],
   "source": [
    "dt = 1; # Rendimiento diario \n",
    "Z = np.random.randn(ndays,nscen)  # Z ~ N(0,1)\n",
    "# Simulación normal de los rendimientos\n",
    "Ri_dt = pd.DataFrame(mu_R*dt+Z*sigma_R*np.sqrt(dt),index=dates)\n",
    "Ri_dt.cumprod()"
   ]
  },
  {
   "cell_type": "code",
   "execution_count": 21,
   "metadata": {},
   "outputs": [
    {
     "data": {
      "image/png": "[encoded data removed]",
      "text/plain": [
       "<Figure size 576x432 with 1 Axes>"
      ]
     },
     "metadata": {},
     "output_type": "display_data"
    }
   ],
   "source": [
    "# Simulación del precio\n",
    "S_0 = closes_aapl.iloc[-1,0]\n",
    "S_T = S_0*(1+Ri_dt).cumprod()\n",
    "\n",
    "# Se muestran los precios simulados con los precios descargados\n",
    "pd.concat([closes_aapl,S_T]).plot(figsize=(8,6));\n",
    "plt.title('Simulación de precios usando rendimiento simple');"
   ]
  },
  {
   "cell_type": "markdown",
   "metadata": {},
   "source": [
    "- **Rendimiento logarítmico**"
   ]
  },
  {
   "cell_type": "code",
   "execution_count": 22,
   "metadata": {},
   "outputs": [
    {
     "data": {
      "text/html": [
       "<div>\n",
       "<style scoped>\n",
       "    .dataframe tbody tr th:only-of-type {\n",
       "        vertical-align: middle;\n",
       "    }\n",
       "\n",
       "    .dataframe tbody tr th {\n",
       "        vertical-align: top;\n",
       "    }\n",
       "\n",
       "    .dataframe thead th {\n",
       "        text-align: right;\n",
       "    }\n",
       "</style>\n",
       "<table border=\"1\" class=\"dataframe\">\n",
       "  <thead>\n",
       "    <tr style=\"text-align: right;\">\n",
       "      <th></th>\n",
       "      <th>0</th>\n",
       "      <th>1</th>\n",
       "      <th>2</th>\n",
       "      <th>...</th>\n",
       "      <th>7</th>\n",
       "      <th>8</th>\n",
       "      <th>9</th>\n",
       "    </tr>\n",
       "  </thead>\n",
       "  <tbody>\n",
       "    <tr>\n",
       "      <th>2018-10-29</th>\n",
       "      <td>-0.026</td>\n",
       "      <td>-4.819e-06</td>\n",
       "      <td>0.012</td>\n",
       "      <td>...</td>\n",
       "      <td>0.008</td>\n",
       "      <td>0.019</td>\n",
       "      <td>0.004</td>\n",
       "    </tr>\n",
       "    <tr>\n",
       "      <th>2018-10-30</th>\n",
       "      <td>-0.008</td>\n",
       "      <td>-5.479e-02</td>\n",
       "      <td>0.017</td>\n",
       "      <td>...</td>\n",
       "      <td>0.027</td>\n",
       "      <td>0.010</td>\n",
       "      <td>-0.003</td>\n",
       "    </tr>\n",
       "    <tr>\n",
       "      <th>2018-10-31</th>\n",
       "      <td>0.003</td>\n",
       "      <td>-4.519e-02</td>\n",
       "      <td>0.033</td>\n",
       "      <td>...</td>\n",
       "      <td>0.036</td>\n",
       "      <td>0.022</td>\n",
       "      <td>0.011</td>\n",
       "    </tr>\n",
       "    <tr>\n",
       "      <th>2018-11-01</th>\n",
       "      <td>-0.072</td>\n",
       "      <td>-4.655e-02</td>\n",
       "      <td>0.027</td>\n",
       "      <td>...</td>\n",
       "      <td>0.036</td>\n",
       "      <td>0.042</td>\n",
       "      <td>-0.071</td>\n",
       "    </tr>\n",
       "    <tr>\n",
       "      <th>2018-11-02</th>\n",
       "      <td>-0.053</td>\n",
       "      <td>-3.332e-02</td>\n",
       "      <td>0.030</td>\n",
       "      <td>...</td>\n",
       "      <td>0.054</td>\n",
       "      <td>0.035</td>\n",
       "      <td>-0.080</td>\n",
       "    </tr>\n",
       "    <tr>\n",
       "      <th>...</th>\n",
       "      <td>...</td>\n",
       "      <td>...</td>\n",
       "      <td>...</td>\n",
       "      <td>...</td>\n",
       "      <td>...</td>\n",
       "      <td>...</td>\n",
       "      <td>...</td>\n",
       "    </tr>\n",
       "    <tr>\n",
       "      <th>2019-02-10</th>\n",
       "      <td>-0.346</td>\n",
       "      <td>6.595e-03</td>\n",
       "      <td>0.614</td>\n",
       "      <td>...</td>\n",
       "      <td>-0.078</td>\n",
       "      <td>1.088</td>\n",
       "      <td>0.094</td>\n",
       "    </tr>\n",
       "    <tr>\n",
       "      <th>2019-02-11</th>\n",
       "      <td>-0.407</td>\n",
       "      <td>1.737e-02</td>\n",
       "      <td>0.632</td>\n",
       "      <td>...</td>\n",
       "      <td>-0.059</td>\n",
       "      <td>1.115</td>\n",
       "      <td>0.110</td>\n",
       "    </tr>\n",
       "    <tr>\n",
       "      <th>2019-02-12</th>\n",
       "      <td>-0.387</td>\n",
       "      <td>2.234e-02</td>\n",
       "      <td>0.548</td>\n",
       "      <td>...</td>\n",
       "      <td>-0.078</td>\n",
       "      <td>1.123</td>\n",
       "      <td>0.128</td>\n",
       "    </tr>\n",
       "    <tr>\n",
       "      <th>2019-02-13</th>\n",
       "      <td>-0.374</td>\n",
       "      <td>4.751e-03</td>\n",
       "      <td>0.570</td>\n",
       "      <td>...</td>\n",
       "      <td>-0.061</td>\n",
       "      <td>1.150</td>\n",
       "      <td>0.146</td>\n",
       "    </tr>\n",
       "    <tr>\n",
       "      <th>2019-02-14</th>\n",
       "      <td>-0.355</td>\n",
       "      <td>-4.795e-03</td>\n",
       "      <td>0.585</td>\n",
       "      <td>...</td>\n",
       "      <td>-0.045</td>\n",
       "      <td>1.166</td>\n",
       "      <td>0.158</td>\n",
       "    </tr>\n",
       "  </tbody>\n",
       "</table>\n",
       "<p>109 rows × 10 columns</p>\n",
       "</div>"
      ],
      "text/plain": [
       "                0          1      2  ...        7      8      9\n",
       "2018-10-29 -0.026 -4.819e-06  0.012  ...    0.008  0.019  0.004\n",
       "2018-10-30 -0.008 -5.479e-02  0.017  ...    0.027  0.010 -0.003\n",
       "2018-10-31  0.003 -4.519e-02  0.033  ...    0.036  0.022  0.011\n",
       "2018-11-01 -0.072 -4.655e-02  0.027  ...    0.036  0.042 -0.071\n",
       "2018-11-02 -0.053 -3.332e-02  0.030  ...    0.054  0.035 -0.080\n",
       "...           ...        ...    ...  ...      ...    ...    ...\n",
       "2019-02-10 -0.346  6.595e-03  0.614  ...   -0.078  1.088  0.094\n",
       "2019-02-11 -0.407  1.737e-02  0.632  ...   -0.059  1.115  0.110\n",
       "2019-02-12 -0.387  2.234e-02  0.548  ...   -0.078  1.123  0.128\n",
       "2019-02-13 -0.374  4.751e-03  0.570  ...   -0.061  1.150  0.146\n",
       "2019-02-14 -0.355 -4.795e-03  0.585  ...   -0.045  1.166  0.158\n",
       "\n",
       "[109 rows x 10 columns]"
      ]
     },
     "execution_count": 22,
     "metadata": {},
     "output_type": "execute_result"
    },
    {
     "data": {
      "image/png": "[encoded data removed]",
      "text/plain": [
       "<Figure size 576x432 with 1 Axes>"
      ]
     },
     "metadata": {},
     "output_type": "display_data"
    }
   ],
   "source": [
    "ri = calc_daily_ret(closes_aapl)\n",
    "# Usando la media y desviación estándar de los rendimientos logarítmicos\n",
    "mu_r = ri.mean()[0]\n",
    "sigma_r = ri.std()[0]\n",
    "\n",
    "# # Usando la equivalencia teórica\n",
    "# mu_r2 = mu_R - (sigma_R**2)/2\n",
    "\n",
    "sim_ret_ri = pd.DataFrame(mu_r*dt+Z*sigma_r*np.sqrt(dt), index=dates)\n",
    "# sim_ret_ri\n",
    "# Simulación del precio\n",
    "S_0 = closes_aapl.iloc[-1,0]\n",
    "S_T2 = S_0*np.exp(sim_ret_ri.cumsum())\n",
    "\n",
    "# Se muestran los precios simulados con los precios descargados\n",
    "pd.concat([closes_aapl,S_T2]).plot(figsize=(8,6));\n",
    "plt.title('Simulación de precios usando rendimiento logarítmico');\n",
    "S_T-S_T2"
   ]
  },
  {
   "cell_type": "code",
   "execution_count": 23,
   "metadata": {},
   "outputs": [
    {
     "name": "stdout",
     "output_type": "stream",
     "text": [
      "Las std usando rendimientos logarítmicos y simples son iguales\n"
     ]
    },
    {
     "data": {
      "text/plain": [
       "(0.013555054847592646, 0.013537847782589606)"
      ]
     },
     "execution_count": 23,
     "metadata": {},
     "output_type": "execute_result"
    }
   ],
   "source": [
    "print('Las std usando rendimientos logarítmicos y simples son iguales')\n",
    "sigma_R,sigma_r"
   ]
  },
  {
   "cell_type": "markdown",
   "metadata": {},
   "source": [
    "## 2. Valuación usando simulación: modelo normal para los rendimientos"
   ]
  },
  {
   "cell_type": "markdown",
   "metadata": {},
   "source": [
    "- Hallar media y desviación estándar muestral de los rendimientos logarítmicos"
   ]
  },
  {
   "cell_type": "code",
   "execution_count": 24,
   "metadata": {
    "scrolled": true
   },
   "outputs": [
    {
     "data": {
      "text/plain": [
       "(0.0013121468005006648, 0.013537847782589606)"
      ]
     },
     "execution_count": 24,
     "metadata": {},
     "output_type": "execute_result"
    }
   ],
   "source": [
    "mu = ret_aapl.mean()[0]\n",
    "sigma = ret_aapl.std()[0]\n",
    "mu, sigma"
   ]
  },
  {
   "cell_type": "markdown",
   "metadata": {},
   "source": [
    "No se toma la media sino la tasa libre de riesgo\n",
    "> Referencia: https://www.treasury.gov/resource-center/data-chart-center/interest-rates/Pages/TextView.aspx?data=yield"
   ]
  },
  {
   "cell_type": "code",
   "execution_count": 25,
   "metadata": {},
   "outputs": [],
   "source": [
    "# Tasa de bonos de 1 yr de fecha 10/01/18 -> 2.60%\n",
    "r = 0.0260/360 # Tasa diaria"
   ]
  },
  {
   "cell_type": "markdown",
   "metadata": {},
   "source": [
    "- Simularemos el tiempo de contrato (días=109) desde 29/10/18 hasta 15/02/19, 10 escenarios:\n",
    "> Calculador de fechas: https://es.calcuworld.com/calendarios/calculadora-de-tiempo-entre-dos-fechas/\n",
    "    \n",
    "    - Generar fechas"
   ]
  },
  {
   "cell_type": "code",
   "execution_count": 26,
   "metadata": {},
   "outputs": [
    {
     "data": {
      "text/plain": [
       "DatetimeIndex(['2018-10-29', '2018-10-30', '2018-10-31', '2018-11-01',\n",
       "               '2018-11-02', '2018-11-03', '2018-11-04', '2018-11-05',\n",
       "               '2018-11-06', '2018-11-07',\n",
       "               ...\n",
       "               '2019-02-05', '2019-02-06', '2019-02-07', '2019-02-08',\n",
       "               '2019-02-09', '2019-02-10', '2019-02-11', '2019-02-12',\n",
       "               '2019-02-13', '2019-02-14'],\n",
       "              dtype='datetime64[ns]', length=109, freq='D')"
      ]
     },
     "execution_count": 26,
     "metadata": {},
     "output_type": "execute_result"
    }
   ],
   "source": [
    "ndays = 109\n",
    "nscen = 10\n",
    "dates = pd.date_range('2018-10-29', periods = ndays)\n",
    "dates"
   ]
  },
  {
   "cell_type": "markdown",
   "metadata": {},
   "source": [
    "- Generamos 10 escenarios de rendimientos simulados y guardamos en un dataframe"
   ]
  },
  {
   "cell_type": "code",
   "execution_count": 27,
   "metadata": {
    "scrolled": false
   },
   "outputs": [
    {
     "data": {
      "text/html": [
       "<div>\n",
       "<style scoped>\n",
       "    .dataframe tbody tr th:only-of-type {\n",
       "        vertical-align: middle;\n",
       "    }\n",
       "\n",
       "    .dataframe tbody tr th {\n",
       "        vertical-align: top;\n",
       "    }\n",
       "\n",
       "    .dataframe thead th {\n",
       "        text-align: right;\n",
       "    }\n",
       "</style>\n",
       "<table border=\"1\" class=\"dataframe\">\n",
       "  <thead>\n",
       "    <tr style=\"text-align: right;\">\n",
       "      <th></th>\n",
       "      <th>0</th>\n",
       "      <th>1</th>\n",
       "      <th>2</th>\n",
       "      <th>...</th>\n",
       "      <th>7</th>\n",
       "      <th>8</th>\n",
       "      <th>9</th>\n",
       "    </tr>\n",
       "  </thead>\n",
       "  <tbody>\n",
       "    <tr>\n",
       "      <th>2018-10-29</th>\n",
       "      <td>7.892e-04</td>\n",
       "      <td>0.007</td>\n",
       "      <td>0.008</td>\n",
       "      <td>...</td>\n",
       "      <td>-5.278e-03</td>\n",
       "      <td>0.008</td>\n",
       "      <td>2.123e-04</td>\n",
       "    </tr>\n",
       "    <tr>\n",
       "      <th>2018-10-30</th>\n",
       "      <td>-9.470e-03</td>\n",
       "      <td>0.009</td>\n",
       "      <td>0.008</td>\n",
       "      <td>...</td>\n",
       "      <td>1.507e-02</td>\n",
       "      <td>-0.004</td>\n",
       "      <td>-1.170e-02</td>\n",
       "    </tr>\n",
       "    <tr>\n",
       "      <th>2018-10-31</th>\n",
       "      <td>-1.533e-02</td>\n",
       "      <td>-0.001</td>\n",
       "      <td>0.017</td>\n",
       "      <td>...</td>\n",
       "      <td>3.367e-03</td>\n",
       "      <td>-0.004</td>\n",
       "      <td>-5.098e-03</td>\n",
       "    </tr>\n",
       "    <tr>\n",
       "      <th>2018-11-01</th>\n",
       "      <td>-3.609e-02</td>\n",
       "      <td>0.002</td>\n",
       "      <td>-0.007</td>\n",
       "      <td>...</td>\n",
       "      <td>-5.548e-03</td>\n",
       "      <td>-0.021</td>\n",
       "      <td>-2.288e-02</td>\n",
       "    </tr>\n",
       "    <tr>\n",
       "      <th>2018-11-02</th>\n",
       "      <td>-5.597e-02</td>\n",
       "      <td>-0.023</td>\n",
       "      <td>-0.008</td>\n",
       "      <td>...</td>\n",
       "      <td>6.853e-04</td>\n",
       "      <td>0.005</td>\n",
       "      <td>-7.995e-03</td>\n",
       "    </tr>\n",
       "    <tr>\n",
       "      <th>...</th>\n",
       "      <td>...</td>\n",
       "      <td>...</td>\n",
       "      <td>...</td>\n",
       "      <td>...</td>\n",
       "      <td>...</td>\n",
       "      <td>...</td>\n",
       "      <td>...</td>\n",
       "    </tr>\n",
       "    <tr>\n",
       "      <th>2019-02-10</th>\n",
       "      <td>-4.703e-02</td>\n",
       "      <td>-0.020</td>\n",
       "      <td>0.098</td>\n",
       "      <td>...</td>\n",
       "      <td>1.657e-01</td>\n",
       "      <td>0.047</td>\n",
       "      <td>-1.883e-01</td>\n",
       "    </tr>\n",
       "    <tr>\n",
       "      <th>2019-02-11</th>\n",
       "      <td>-3.388e-02</td>\n",
       "      <td>-0.013</td>\n",
       "      <td>0.107</td>\n",
       "      <td>...</td>\n",
       "      <td>1.711e-01</td>\n",
       "      <td>0.046</td>\n",
       "      <td>-1.688e-01</td>\n",
       "    </tr>\n",
       "    <tr>\n",
       "      <th>2019-02-12</th>\n",
       "      <td>-2.316e-02</td>\n",
       "      <td>-0.021</td>\n",
       "      <td>0.089</td>\n",
       "      <td>...</td>\n",
       "      <td>1.628e-01</td>\n",
       "      <td>0.035</td>\n",
       "      <td>-1.527e-01</td>\n",
       "    </tr>\n",
       "    <tr>\n",
       "      <th>2019-02-13</th>\n",
       "      <td>-1.723e-02</td>\n",
       "      <td>-0.002</td>\n",
       "      <td>0.085</td>\n",
       "      <td>...</td>\n",
       "      <td>1.557e-01</td>\n",
       "      <td>0.056</td>\n",
       "      <td>-1.371e-01</td>\n",
       "    </tr>\n",
       "    <tr>\n",
       "      <th>2019-02-14</th>\n",
       "      <td>-1.719e-02</td>\n",
       "      <td>-0.030</td>\n",
       "      <td>0.083</td>\n",
       "      <td>...</td>\n",
       "      <td>1.455e-01</td>\n",
       "      <td>0.071</td>\n",
       "      <td>-1.366e-01</td>\n",
       "    </tr>\n",
       "  </tbody>\n",
       "</table>\n",
       "<p>109 rows × 10 columns</p>\n",
       "</div>"
      ],
      "text/plain": [
       "                    0      1      2    ...              7      8          9\n",
       "2018-10-29  7.892e-04  0.007  0.008    ...     -5.278e-03  0.008  2.123e-04\n",
       "2018-10-30 -9.470e-03  0.009  0.008    ...      1.507e-02 -0.004 -1.170e-02\n",
       "2018-10-31 -1.533e-02 -0.001  0.017    ...      3.367e-03 -0.004 -5.098e-03\n",
       "2018-11-01 -3.609e-02  0.002 -0.007    ...     -5.548e-03 -0.021 -2.288e-02\n",
       "2018-11-02 -5.597e-02 -0.023 -0.008    ...      6.853e-04  0.005 -7.995e-03\n",
       "...               ...    ...    ...    ...            ...    ...        ...\n",
       "2019-02-10 -4.703e-02 -0.020  0.098    ...      1.657e-01  0.047 -1.883e-01\n",
       "2019-02-11 -3.388e-02 -0.013  0.107    ...      1.711e-01  0.046 -1.688e-01\n",
       "2019-02-12 -2.316e-02 -0.021  0.089    ...      1.628e-01  0.035 -1.527e-01\n",
       "2019-02-13 -1.723e-02 -0.002  0.085    ...      1.557e-01  0.056 -1.371e-01\n",
       "2019-02-14 -1.719e-02 -0.030  0.083    ...      1.455e-01  0.071 -1.366e-01\n",
       "\n",
       "[109 rows x 10 columns]"
      ]
     },
     "execution_count": 27,
     "metadata": {},
     "output_type": "execute_result"
    }
   ],
   "source": [
    "sim_ret = pd.DataFrame(sigma*np.random.randn(ndays,nscen)+r, index=dates)\n",
    "sim_ret.cumsum()\n",
    "# Las columnas son los escenarios y las filas son las días de contrato"
   ]
  },
  {
   "cell_type": "markdown",
   "metadata": {},
   "source": [
    "- Con los rendimientos simulados, calcular los escenarios de precios respectivos:"
   ]
  },
  {
   "cell_type": "code",
   "execution_count": 28,
   "metadata": {},
   "outputs": [
    {
     "data": {
      "text/html": [
       "<div>\n",
       "<style scoped>\n",
       "    .dataframe tbody tr th:only-of-type {\n",
       "        vertical-align: middle;\n",
       "    }\n",
       "\n",
       "    .dataframe tbody tr th {\n",
       "        vertical-align: top;\n",
       "    }\n",
       "\n",
       "    .dataframe thead th {\n",
       "        text-align: right;\n",
       "    }\n",
       "</style>\n",
       "<table border=\"1\" class=\"dataframe\">\n",
       "  <thead>\n",
       "    <tr style=\"text-align: right;\">\n",
       "      <th></th>\n",
       "      <th>0</th>\n",
       "      <th>1</th>\n",
       "      <th>2</th>\n",
       "      <th>...</th>\n",
       "      <th>7</th>\n",
       "      <th>8</th>\n",
       "      <th>9</th>\n",
       "    </tr>\n",
       "  </thead>\n",
       "  <tbody>\n",
       "    <tr>\n",
       "      <th>2018-10-29</th>\n",
       "      <td>207.644</td>\n",
       "      <td>208.948</td>\n",
       "      <td>209.088</td>\n",
       "      <td>...</td>\n",
       "      <td>206.388</td>\n",
       "      <td>209.121</td>\n",
       "      <td>207.524</td>\n",
       "    </tr>\n",
       "    <tr>\n",
       "      <th>2018-10-30</th>\n",
       "      <td>205.524</td>\n",
       "      <td>209.402</td>\n",
       "      <td>209.052</td>\n",
       "      <td>...</td>\n",
       "      <td>210.630</td>\n",
       "      <td>206.718</td>\n",
       "      <td>205.066</td>\n",
       "    </tr>\n",
       "    <tr>\n",
       "      <th>2018-10-31</th>\n",
       "      <td>204.323</td>\n",
       "      <td>207.231</td>\n",
       "      <td>210.987</td>\n",
       "      <td>...</td>\n",
       "      <td>208.180</td>\n",
       "      <td>206.656</td>\n",
       "      <td>206.425</td>\n",
       "    </tr>\n",
       "    <tr>\n",
       "      <th>2018-11-01</th>\n",
       "      <td>200.125</td>\n",
       "      <td>207.928</td>\n",
       "      <td>206.091</td>\n",
       "      <td>...</td>\n",
       "      <td>206.332</td>\n",
       "      <td>203.171</td>\n",
       "      <td>202.787</td>\n",
       "    </tr>\n",
       "    <tr>\n",
       "      <th>2018-11-02</th>\n",
       "      <td>196.187</td>\n",
       "      <td>202.845</td>\n",
       "      <td>205.828</td>\n",
       "      <td>...</td>\n",
       "      <td>207.622</td>\n",
       "      <td>208.475</td>\n",
       "      <td>205.828</td>\n",
       "    </tr>\n",
       "    <tr>\n",
       "      <th>...</th>\n",
       "      <td>...</td>\n",
       "      <td>...</td>\n",
       "      <td>...</td>\n",
       "      <td>...</td>\n",
       "      <td>...</td>\n",
       "      <td>...</td>\n",
       "      <td>...</td>\n",
       "    </tr>\n",
       "    <tr>\n",
       "      <th>2019-02-10</th>\n",
       "      <td>197.947</td>\n",
       "      <td>203.342</td>\n",
       "      <td>228.881</td>\n",
       "      <td>...</td>\n",
       "      <td>244.876</td>\n",
       "      <td>217.425</td>\n",
       "      <td>171.877</td>\n",
       "    </tr>\n",
       "    <tr>\n",
       "      <th>2019-02-11</th>\n",
       "      <td>200.568</td>\n",
       "      <td>204.834</td>\n",
       "      <td>230.812</td>\n",
       "      <td>...</td>\n",
       "      <td>246.196</td>\n",
       "      <td>217.330</td>\n",
       "      <td>175.248</td>\n",
       "    </tr>\n",
       "    <tr>\n",
       "      <th>2019-02-12</th>\n",
       "      <td>202.730</td>\n",
       "      <td>203.242</td>\n",
       "      <td>226.857</td>\n",
       "      <td>...</td>\n",
       "      <td>244.173</td>\n",
       "      <td>214.966</td>\n",
       "      <td>178.107</td>\n",
       "    </tr>\n",
       "    <tr>\n",
       "      <th>2019-02-13</th>\n",
       "      <td>203.936</td>\n",
       "      <td>207.002</td>\n",
       "      <td>225.898</td>\n",
       "      <td>...</td>\n",
       "      <td>242.445</td>\n",
       "      <td>219.334</td>\n",
       "      <td>180.897</td>\n",
       "    </tr>\n",
       "    <tr>\n",
       "      <th>2019-02-14</th>\n",
       "      <td>203.944</td>\n",
       "      <td>201.313</td>\n",
       "      <td>225.394</td>\n",
       "      <td>...</td>\n",
       "      <td>239.981</td>\n",
       "      <td>222.703</td>\n",
       "      <td>180.987</td>\n",
       "    </tr>\n",
       "  </tbody>\n",
       "</table>\n",
       "<p>109 rows × 10 columns</p>\n",
       "</div>"
      ],
      "text/plain": [
       "                  0        1        2   ...           7        8        9\n",
       "2018-10-29  207.644  208.948  209.088   ...     206.388  209.121  207.524\n",
       "2018-10-30  205.524  209.402  209.052   ...     210.630  206.718  205.066\n",
       "2018-10-31  204.323  207.231  210.987   ...     208.180  206.656  206.425\n",
       "2018-11-01  200.125  207.928  206.091   ...     206.332  203.171  202.787\n",
       "2018-11-02  196.187  202.845  205.828   ...     207.622  208.475  205.828\n",
       "...             ...      ...      ...   ...         ...      ...      ...\n",
       "2019-02-10  197.947  203.342  228.881   ...     244.876  217.425  171.877\n",
       "2019-02-11  200.568  204.834  230.812   ...     246.196  217.330  175.248\n",
       "2019-02-12  202.730  203.242  226.857   ...     244.173  214.966  178.107\n",
       "2019-02-13  203.936  207.002  225.898   ...     242.445  219.334  180.897\n",
       "2019-02-14  203.944  201.313  225.394   ...     239.981  222.703  180.987\n",
       "\n",
       "[109 rows x 10 columns]"
      ]
     },
     "execution_count": 28,
     "metadata": {},
     "output_type": "execute_result"
    }
   ],
   "source": [
    "S0 = closes_aapl.iloc[-1,0]  # Condición inicial del precio a simular\n",
    "sim_closes = S0*np.exp(sim_ret.cumsum())\n",
    "sim_closes"
   ]
  },
  {
   "cell_type": "markdown",
   "metadata": {},
   "source": [
    "- Graficar:"
   ]
  },
  {
   "cell_type": "code",
   "execution_count": 29,
   "metadata": {},
   "outputs": [],
   "source": [
    "#sim_closes.plot(figsize=(8,6));"
   ]
  },
  {
   "cell_type": "code",
   "execution_count": 30,
   "metadata": {
    "scrolled": false
   },
   "outputs": [
    {
     "data": {
      "image/png": "[encoded data removed]",
      "text/plain": [
       "<Figure size 576x432 with 1 Axes>"
      ]
     },
     "metadata": {},
     "output_type": "display_data"
    }
   ],
   "source": [
    "# Se muestran los precios simulados con los precios descargados\n",
    "pd.concat([closes_aapl,sim_closes]).plot(figsize=(8,6));"
   ]
  },
  {
   "cell_type": "code",
   "execution_count": 31,
   "metadata": {},
   "outputs": [
    {
     "data": {
      "text/plain": [
       "{'contractSymbol': 'AAPL181221P00210000',\n",
       " 'strike': 210.0,\n",
       " 'currency': 'USD',\n",
       " 'lastPrice': 11.05,\n",
       " 'change': 5.4,\n",
       " 'percentChange': 95.57522,\n",
       " 'volume': 9902,\n",
       " 'openInterest': 20292,\n",
       " 'bid': 9.55,\n",
       " 'ask': 11.25,\n",
       " 'contractSize': 'REGULAR',\n",
       " 'expiration': 1545350400,\n",
       " 'lastTradeDate': 1541188694,\n",
       " 'impliedVolatility': 0.33289241333007813,\n",
       " 'inTheMoney': True}"
      ]
     },
     "execution_count": 31,
     "metadata": {},
     "output_type": "execute_result"
    }
   ],
   "source": [
    "opcion_valuar['JSON']"
   ]
  },
  {
   "cell_type": "code",
   "execution_count": 32,
   "metadata": {},
   "outputs": [],
   "source": [
    "K=200  # strike price\n",
    "ndays = 109 \n",
    "nscen = 100000\n",
    "dates = pd.date_range('2018-10-29', periods = ndays)\n",
    "S0 = closes_aapl.iloc[-1,0]  # Condición inicial del precio a simular\n",
    "\n",
    "sim_ret = pd.DataFrame(sigma*np.random.randn(ndays,nscen)+r,index=dates)\n",
    "sim_closes = S0*np.exp(sim_ret.cumsum())\n",
    "#strike = pd.DataFrame({'Strike':K*np.ones(ndays)}, index=dates)\n",
    "#simul = pd.concat([closes_aapl.T,strike.T,sim_closes.T]).T\n",
    "#simul.plot(figsize=(8,6),legend=False);"
   ]
  },
  {
   "cell_type": "code",
   "execution_count": 33,
   "metadata": {},
   "outputs": [
    {
     "data": {
      "image/png": "[encoded data removed]",
      "text/plain": [
       "<Figure size 432x288 with 1 Axes>"
      ]
     },
     "metadata": {},
     "output_type": "display_data"
    }
   ],
   "source": [
    "strike = pd.DataFrame(K*np.ones([ndays,nscen]), index=dates)\n",
    "call = pd.DataFrame({'Prima':np.exp(-r*ndays) \\\n",
    "              *np.fmax(sim_closes-strike,np.zeros([ndays,nscen])).T.mean()}, index=dates)\n",
    "call.plot();"
   ]
  },
  {
   "cell_type": "markdown",
   "metadata": {},
   "source": [
    "La valuación de la opción es:"
   ]
  },
  {
   "cell_type": "code",
   "execution_count": 34,
   "metadata": {},
   "outputs": [
    {
     "data": {
      "text/plain": [
       "Prima    17.908\n",
       "Name: 2019-02-14 00:00:00, dtype: float64"
      ]
     },
     "execution_count": 34,
     "metadata": {},
     "output_type": "execute_result"
    }
   ],
   "source": [
    "call.iloc[-1]"
   ]
  },
  {
   "cell_type": "markdown",
   "metadata": {},
   "source": [
    "Intervalo de confianza del 99%"
   ]
  },
  {
   "cell_type": "code",
   "execution_count": 35,
   "metadata": {
    "scrolled": true
   },
   "outputs": [
    {
     "name": "stdout",
     "output_type": "stream",
     "text": [
      "(17.662717982793236, 18.15248644213634)\n",
      "(17.662717982793236, 18.15248644213634)\n"
     ]
    }
   ],
   "source": [
    "confianza = 0.99\n",
    "sigma_est = sim_closes.iloc[-1].sem()\n",
    "mean_est = call.iloc[-1].Prima\n",
    "i1 = st.t.interval(confianza,nscen-1, loc=mean_est, scale=sigma_est)\n",
    "i2 = st.norm.interval(confianza, loc=mean_est, scale=sigma_est)\n",
    "print(i1)\n",
    "print(i1)\n"
   ]
  },
  {
   "cell_type": "markdown",
   "metadata": {},
   "source": [
    "### Análisis de la distribución de los rendimientos"
   ]
  },
  {
   "cell_type": "code",
   "execution_count": 36,
   "metadata": {},
   "outputs": [
    {
     "data": {
      "image/png": "[encoded data removed]",
      "text/plain": [
       "<Figure size 432x288 with 1 Axes>"
      ]
     },
     "metadata": {},
     "output_type": "display_data"
    }
   ],
   "source": [
    "ren = calc_daily_ret(closes_aapl) # rendimientos \n",
    "y,x,des = plt.hist(ren['AAPL'],bins=50,density=True,label='Histograma rendimientos')\n",
    "\n",
    "mu_fit,sd_fit = st.norm.fit(ren) # Se ajustan los parámetros de una normal\n",
    "# Valores máximo y mínimo de los rendiemientos a generar\n",
    "ren_max = max(x);ren_min = min(x)\n",
    "# Vector de rendimientos generados\n",
    "ren_gen = np.arange(ren_min,ren_max,0.001)\n",
    "# Generación de la normal ajustado con los parámetros encontrados\n",
    "curve_fit = st.norm.pdf(ren_gen,loc=mu_fit,scale=sd_fit)\n",
    "plt.plot(ren_gen,curve_fit,label='Distribución ajustada')\n",
    "plt.legend()\n",
    "plt.show()\n"
   ]
  },
  {
   "cell_type": "code",
   "execution_count": 37,
   "metadata": {},
   "outputs": [
    {
     "data": {
      "image/png": "[encoded data removed]",
      "text/plain": [
       "<Figure size 432x288 with 1 Axes>"
      ]
     },
     "metadata": {},
     "output_type": "display_data"
    }
   ],
   "source": [
    "st.probplot(ren['AAPL'], dist='norm', plot=plt);"
   ]
  },
  {
   "cell_type": "markdown",
   "metadata": {},
   "source": [
    "## 3. Valuación usando simulación: uso del histograma de rendimientos\n",
    "\n",
    "Todo el análisis anterior se mantiene. Solo cambia la forma de generar los números aleatorios para la simulación montecarlo.\n",
    "\n",
    "Ahora, generemos un histograma de los rendimientos diarios para generar valores aleatorios de los rendimientos simulados."
   ]
  },
  {
   "cell_type": "markdown",
   "metadata": {},
   "source": [
    "- Primero, cantidad de días y número de escenarios de simulación"
   ]
  },
  {
   "cell_type": "code",
   "execution_count": 38,
   "metadata": {},
   "outputs": [],
   "source": [
    "ndays = 109 \n",
    "nscen = 10"
   ]
  },
  {
   "cell_type": "markdown",
   "metadata": {},
   "source": [
    "- Del histograma anterior, ya conocemos las probabilidades de ocurrencia, lo que se llamó como variable `y`"
   ]
  },
  {
   "cell_type": "code",
   "execution_count": 39,
   "metadata": {},
   "outputs": [],
   "source": [
    "prob = y/np.sum(y)\n",
    "values = x[1:]"
   ]
  },
  {
   "cell_type": "markdown",
   "metadata": {},
   "source": [
    "- Con esto, generamos los números aleatorios correspondientes a los rendimientos (tantos como días por número de escenarios)."
   ]
  },
  {
   "cell_type": "code",
   "execution_count": 40,
   "metadata": {},
   "outputs": [
    {
     "data": {
      "text/html": [
       "<div>\n",
       "<style scoped>\n",
       "    .dataframe tbody tr th:only-of-type {\n",
       "        vertical-align: middle;\n",
       "    }\n",
       "\n",
       "    .dataframe tbody tr th {\n",
       "        vertical-align: top;\n",
       "    }\n",
       "\n",
       "    .dataframe thead th {\n",
       "        text-align: right;\n",
       "    }\n",
       "</style>\n",
       "<table border=\"1\" class=\"dataframe\">\n",
       "  <thead>\n",
       "    <tr style=\"text-align: right;\">\n",
       "      <th></th>\n",
       "      <th>0</th>\n",
       "      <th>1</th>\n",
       "      <th>2</th>\n",
       "      <th>...</th>\n",
       "      <th>7</th>\n",
       "      <th>8</th>\n",
       "      <th>9</th>\n",
       "    </tr>\n",
       "  </thead>\n",
       "  <tbody>\n",
       "    <tr>\n",
       "      <th>2018-10-29</th>\n",
       "      <td>3.933e-04</td>\n",
       "      <td>-0.007</td>\n",
       "      <td>-2.163e-03</td>\n",
       "      <td>...</td>\n",
       "      <td>2.950e-03</td>\n",
       "      <td>-2.163e-03</td>\n",
       "      <td>-0.012</td>\n",
       "    </tr>\n",
       "    <tr>\n",
       "      <th>2018-10-30</th>\n",
       "      <td>1.318e-02</td>\n",
       "      <td>0.013</td>\n",
       "      <td>2.852e-02</td>\n",
       "      <td>...</td>\n",
       "      <td>-1.239e-02</td>\n",
       "      <td>3.933e-04</td>\n",
       "      <td>-0.043</td>\n",
       "    </tr>\n",
       "    <tr>\n",
       "      <th>2018-10-31</th>\n",
       "      <td>-1.750e-02</td>\n",
       "      <td>0.018</td>\n",
       "      <td>1.829e-02</td>\n",
       "      <td>...</td>\n",
       "      <td>-7.276e-03</td>\n",
       "      <td>1.318e-02</td>\n",
       "      <td>0.029</td>\n",
       "    </tr>\n",
       "    <tr>\n",
       "      <th>2018-11-01</th>\n",
       "      <td>2.085e-02</td>\n",
       "      <td>-0.005</td>\n",
       "      <td>8.063e-03</td>\n",
       "      <td>...</td>\n",
       "      <td>2.950e-03</td>\n",
       "      <td>-2.163e-03</td>\n",
       "      <td>0.016</td>\n",
       "    </tr>\n",
       "    <tr>\n",
       "      <th>2018-11-02</th>\n",
       "      <td>1.062e-02</td>\n",
       "      <td>-0.043</td>\n",
       "      <td>-2.262e-02</td>\n",
       "      <td>...</td>\n",
       "      <td>-1.239e-02</td>\n",
       "      <td>-7.276e-03</td>\n",
       "      <td>-0.002</td>\n",
       "    </tr>\n",
       "    <tr>\n",
       "      <th>...</th>\n",
       "      <td>...</td>\n",
       "      <td>...</td>\n",
       "      <td>...</td>\n",
       "      <td>...</td>\n",
       "      <td>...</td>\n",
       "      <td>...</td>\n",
       "      <td>...</td>\n",
       "    </tr>\n",
       "    <tr>\n",
       "      <th>2019-02-10</th>\n",
       "      <td>1.062e-02</td>\n",
       "      <td>-0.012</td>\n",
       "      <td>3.933e-04</td>\n",
       "      <td>...</td>\n",
       "      <td>-2.163e-03</td>\n",
       "      <td>5.506e-03</td>\n",
       "      <td>0.003</td>\n",
       "    </tr>\n",
       "    <tr>\n",
       "      <th>2019-02-11</th>\n",
       "      <td>-4.720e-03</td>\n",
       "      <td>-0.002</td>\n",
       "      <td>8.063e-03</td>\n",
       "      <td>...</td>\n",
       "      <td>-9.833e-03</td>\n",
       "      <td>-1.750e-02</td>\n",
       "      <td>-0.023</td>\n",
       "    </tr>\n",
       "    <tr>\n",
       "      <th>2019-02-12</th>\n",
       "      <td>2.852e-02</td>\n",
       "      <td>0.059</td>\n",
       "      <td>-7.276e-03</td>\n",
       "      <td>...</td>\n",
       "      <td>5.506e-03</td>\n",
       "      <td>-2.163e-03</td>\n",
       "      <td>-0.015</td>\n",
       "    </tr>\n",
       "    <tr>\n",
       "      <th>2019-02-13</th>\n",
       "      <td>-1.239e-02</td>\n",
       "      <td>0.011</td>\n",
       "      <td>3.933e-04</td>\n",
       "      <td>...</td>\n",
       "      <td>3.933e-04</td>\n",
       "      <td>8.063e-03</td>\n",
       "      <td>0.006</td>\n",
       "    </tr>\n",
       "    <tr>\n",
       "      <th>2019-02-14</th>\n",
       "      <td>-2.163e-03</td>\n",
       "      <td>-0.007</td>\n",
       "      <td>2.950e-03</td>\n",
       "      <td>...</td>\n",
       "      <td>-4.720e-03</td>\n",
       "      <td>-1.239e-02</td>\n",
       "      <td>-0.025</td>\n",
       "    </tr>\n",
       "  </tbody>\n",
       "</table>\n",
       "<p>109 rows × 10 columns</p>\n",
       "</div>"
      ],
      "text/plain": [
       "                    0      1          2  ...            7          8      9\n",
       "2018-10-29  3.933e-04 -0.007 -2.163e-03  ...    2.950e-03 -2.163e-03 -0.012\n",
       "2018-10-30  1.318e-02  0.013  2.852e-02  ...   -1.239e-02  3.933e-04 -0.043\n",
       "2018-10-31 -1.750e-02  0.018  1.829e-02  ...   -7.276e-03  1.318e-02  0.029\n",
       "2018-11-01  2.085e-02 -0.005  8.063e-03  ...    2.950e-03 -2.163e-03  0.016\n",
       "2018-11-02  1.062e-02 -0.043 -2.262e-02  ...   -1.239e-02 -7.276e-03 -0.002\n",
       "...               ...    ...        ...  ...          ...        ...    ...\n",
       "2019-02-10  1.062e-02 -0.012  3.933e-04  ...   -2.163e-03  5.506e-03  0.003\n",
       "2019-02-11 -4.720e-03 -0.002  8.063e-03  ...   -9.833e-03 -1.750e-02 -0.023\n",
       "2019-02-12  2.852e-02  0.059 -7.276e-03  ...    5.506e-03 -2.163e-03 -0.015\n",
       "2019-02-13 -1.239e-02  0.011  3.933e-04  ...    3.933e-04  8.063e-03  0.006\n",
       "2019-02-14 -2.163e-03 -0.007  2.950e-03  ...   -4.720e-03 -1.239e-02 -0.025\n",
       "\n",
       "[109 rows x 10 columns]"
      ]
     },
     "execution_count": 40,
     "metadata": {},
     "output_type": "execute_result"
    }
   ],
   "source": [
    "ret = np.random.choice(values, ndays*nscen, p=prob)\n",
    "dates = pd.date_range('2018-10-29',periods=ndays)\n",
    "sim_ret_hist = pd.DataFrame(ret.reshape((ndays,nscen)),index=dates)\n",
    "sim_ret_hist"
   ]
  },
  {
   "cell_type": "code",
   "execution_count": 41,
   "metadata": {
    "scrolled": false
   },
   "outputs": [
    {
     "data": {
      "text/html": [
       "<div>\n",
       "<style scoped>\n",
       "    .dataframe tbody tr th:only-of-type {\n",
       "        vertical-align: middle;\n",
       "    }\n",
       "\n",
       "    .dataframe tbody tr th {\n",
       "        vertical-align: top;\n",
       "    }\n",
       "\n",
       "    .dataframe thead th {\n",
       "        text-align: right;\n",
       "    }\n",
       "</style>\n",
       "<table border=\"1\" class=\"dataframe\">\n",
       "  <thead>\n",
       "    <tr style=\"text-align: right;\">\n",
       "      <th></th>\n",
       "      <th>0</th>\n",
       "      <th>1</th>\n",
       "      <th>2</th>\n",
       "      <th>...</th>\n",
       "      <th>7</th>\n",
       "      <th>8</th>\n",
       "      <th>9</th>\n",
       "    </tr>\n",
       "  </thead>\n",
       "  <tbody>\n",
       "    <tr>\n",
       "      <th>2018-10-29</th>\n",
       "      <td>207.562</td>\n",
       "      <td>205.976</td>\n",
       "      <td>207.032</td>\n",
       "      <td>...</td>\n",
       "      <td>208.093</td>\n",
       "      <td>207.032</td>\n",
       "      <td>204.925</td>\n",
       "    </tr>\n",
       "    <tr>\n",
       "      <th>2018-10-30</th>\n",
       "      <td>210.315</td>\n",
       "      <td>208.708</td>\n",
       "      <td>213.020</td>\n",
       "      <td>...</td>\n",
       "      <td>205.531</td>\n",
       "      <td>207.113</td>\n",
       "      <td>196.287</td>\n",
       "    </tr>\n",
       "    <tr>\n",
       "      <th>2018-10-31</th>\n",
       "      <td>206.666</td>\n",
       "      <td>212.560</td>\n",
       "      <td>216.952</td>\n",
       "      <td>...</td>\n",
       "      <td>204.041</td>\n",
       "      <td>209.860</td>\n",
       "      <td>201.965</td>\n",
       "    </tr>\n",
       "    <tr>\n",
       "      <th>2018-11-01</th>\n",
       "      <td>211.019</td>\n",
       "      <td>211.559</td>\n",
       "      <td>218.708</td>\n",
       "      <td>...</td>\n",
       "      <td>204.643</td>\n",
       "      <td>209.407</td>\n",
       "      <td>205.167</td>\n",
       "    </tr>\n",
       "    <tr>\n",
       "      <th>2018-11-02</th>\n",
       "      <td>213.272</td>\n",
       "      <td>202.641</td>\n",
       "      <td>213.818</td>\n",
       "      <td>...</td>\n",
       "      <td>202.124</td>\n",
       "      <td>207.888</td>\n",
       "      <td>204.724</td>\n",
       "    </tr>\n",
       "    <tr>\n",
       "      <th>...</th>\n",
       "      <td>...</td>\n",
       "      <td>...</td>\n",
       "      <td>...</td>\n",
       "      <td>...</td>\n",
       "      <td>...</td>\n",
       "      <td>...</td>\n",
       "      <td>...</td>\n",
       "    </tr>\n",
       "    <tr>\n",
       "      <th>2019-02-10</th>\n",
       "      <td>231.681</td>\n",
       "      <td>226.991</td>\n",
       "      <td>219.010</td>\n",
       "      <td>...</td>\n",
       "      <td>239.511</td>\n",
       "      <td>323.846</td>\n",
       "      <td>258.603</td>\n",
       "    </tr>\n",
       "    <tr>\n",
       "      <th>2019-02-11</th>\n",
       "      <td>230.590</td>\n",
       "      <td>226.500</td>\n",
       "      <td>220.783</td>\n",
       "      <td>...</td>\n",
       "      <td>237.167</td>\n",
       "      <td>318.227</td>\n",
       "      <td>252.820</td>\n",
       "    </tr>\n",
       "    <tr>\n",
       "      <th>2019-02-12</th>\n",
       "      <td>237.260</td>\n",
       "      <td>240.313</td>\n",
       "      <td>219.183</td>\n",
       "      <td>...</td>\n",
       "      <td>238.477</td>\n",
       "      <td>317.540</td>\n",
       "      <td>249.069</td>\n",
       "    </tr>\n",
       "    <tr>\n",
       "      <th>2019-02-13</th>\n",
       "      <td>234.339</td>\n",
       "      <td>242.878</td>\n",
       "      <td>219.269</td>\n",
       "      <td>...</td>\n",
       "      <td>238.570</td>\n",
       "      <td>320.110</td>\n",
       "      <td>250.445</td>\n",
       "    </tr>\n",
       "    <tr>\n",
       "      <th>2019-02-14</th>\n",
       "      <td>233.833</td>\n",
       "      <td>241.117</td>\n",
       "      <td>219.917</td>\n",
       "      <td>...</td>\n",
       "      <td>237.447</td>\n",
       "      <td>316.169</td>\n",
       "      <td>244.219</td>\n",
       "    </tr>\n",
       "  </tbody>\n",
       "</table>\n",
       "<p>109 rows × 10 columns</p>\n",
       "</div>"
      ],
      "text/plain": [
       "                  0        1        2   ...           7        8        9\n",
       "2018-10-29  207.562  205.976  207.032   ...     208.093  207.032  204.925\n",
       "2018-10-30  210.315  208.708  213.020   ...     205.531  207.113  196.287\n",
       "2018-10-31  206.666  212.560  216.952   ...     204.041  209.860  201.965\n",
       "2018-11-01  211.019  211.559  218.708   ...     204.643  209.407  205.167\n",
       "2018-11-02  213.272  202.641  213.818   ...     202.124  207.888  204.724\n",
       "...             ...      ...      ...   ...         ...      ...      ...\n",
       "2019-02-10  231.681  226.991  219.010   ...     239.511  323.846  258.603\n",
       "2019-02-11  230.590  226.500  220.783   ...     237.167  318.227  252.820\n",
       "2019-02-12  237.260  240.313  219.183   ...     238.477  317.540  249.069\n",
       "2019-02-13  234.339  242.878  219.269   ...     238.570  320.110  250.445\n",
       "2019-02-14  233.833  241.117  219.917   ...     237.447  316.169  244.219\n",
       "\n",
       "[109 rows x 10 columns]"
      ]
     },
     "execution_count": 41,
     "metadata": {},
     "output_type": "execute_result"
    }
   ],
   "source": [
    "sim_closes_hist = (closes_aapl.iloc[-1,0])*np.exp(sim_ret_hist.cumsum())\n",
    "sim_closes_hist"
   ]
  },
  {
   "cell_type": "code",
   "execution_count": 42,
   "metadata": {},
   "outputs": [
    {
     "data": {
      "image/png": "[encoded data removed]",
      "text/plain": [
       "<Figure size 576x432 with 1 Axes>"
      ]
     },
     "metadata": {},
     "output_type": "display_data"
    }
   ],
   "source": [
    "sim_closes_hist.plot(figsize=(8,6),legend=False);"
   ]
  },
  {
   "cell_type": "code",
   "execution_count": 43,
   "metadata": {},
   "outputs": [
    {
     "data": {
      "text/plain": [
       "Text(0.5,1,'Simulación usando el histograma de los rendimientos')"
      ]
     },
     "execution_count": 43,
     "metadata": {},
     "output_type": "execute_result"
    },
    {
     "data": {
      "image/png": "[encoded data removed]",
      "text/plain": [
       "<Figure size 576x432 with 1 Axes>"
      ]
     },
     "metadata": {},
     "output_type": "display_data"
    }
   ],
   "source": [
    "pd.concat([closes_aapl,sim_closes_hist]).plot(figsize=(8,6),legend=False);\n",
    "plt.title('Simulación usando el histograma de los rendimientos')"
   ]
  },
  {
   "cell_type": "code",
   "execution_count": 44,
   "metadata": {},
   "outputs": [],
   "source": [
    "K=200\n",
    "ndays = 109\n",
    "nscen = 10000\n",
    "freq, values = np.histogram(ret_aapl+r-mu, bins=2000)\n",
    "prob = freq/np.sum(freq)\n",
    "ret=np.random.choice(values[1:],ndays*nscen,p=prob)\n",
    "dates=pd.date_range('2018-10-29',periods=ndays)\n",
    "sim_ret_hist = pd.DataFrame(ret.reshape((ndays,nscen)),index=dates)\n",
    "sim_closes_hist = (closes_aapl.iloc[-1,0])*np.exp(sim_ret_hist.cumsum())"
   ]
  },
  {
   "cell_type": "code",
   "execution_count": 55,
   "metadata": {},
   "outputs": [
    {
     "data": {
      "image/png": "[encoded data removed]",
      "text/plain": [
       "<Figure size 432x288 with 1 Axes>"
      ]
     },
     "metadata": {},
     "output_type": "display_data"
    }
   ],
   "source": [
    "strike = pd.DataFrame(K*np.ones(ndays*nscen).reshape((ndays,nscen)), index=dates)\n",
    "call_hist = pd.DataFrame({'Prima':np.exp(-r*ndays) \\\n",
    "                          *np.fmax(sim_closes_hist-strike,np.zeros(ndays*nscen).reshape((ndays,nscen))).T.mean()}, index=dates)\n",
    "call_hist.plot();\n",
    "#aqui es donde se le mete la ecacion BS call= st-k"
   ]
  },
  {
   "cell_type": "code",
   "execution_count": 46,
   "metadata": {
    "scrolled": true
   },
   "outputs": [
    {
     "data": {
      "text/plain": [
       "Prima    18.378\n",
       "Name: 2019-02-14 00:00:00, dtype: float64"
      ]
     },
     "execution_count": 46,
     "metadata": {},
     "output_type": "execute_result"
    }
   ],
   "source": [
    "call_hist.iloc[-1]"
   ]
  },
  {
   "cell_type": "code",
   "execution_count": 47,
   "metadata": {},
   "outputs": [
    {
     "data": {
      "text/plain": [
       "{'contractSymbol': 'AAPL181221P00210000',\n",
       " 'strike': 210.0,\n",
       " 'currency': 'USD',\n",
       " 'lastPrice': 11.05,\n",
       " 'change': 5.4,\n",
       " 'percentChange': 95.57522,\n",
       " 'volume': 9902,\n",
       " 'openInterest': 20292,\n",
       " 'bid': 9.55,\n",
       " 'ask': 11.25,\n",
       " 'contractSize': 'REGULAR',\n",
       " 'expiration': 1545350400,\n",
       " 'lastTradeDate': 1541188694,\n",
       " 'impliedVolatility': 0.33289241333007813,\n",
       " 'inTheMoney': True}"
      ]
     },
     "execution_count": 47,
     "metadata": {},
     "output_type": "execute_result"
    }
   ],
   "source": [
    "opcion_valuar['JSON']"
   ]
  },
  {
   "cell_type": "markdown",
   "metadata": {},
   "source": [
    "Intervalo de confianza del 95%"
   ]
  },
  {
   "cell_type": "code",
   "execution_count": 48,
   "metadata": {
    "scrolled": true
   },
   "outputs": [
    {
     "name": "stdout",
     "output_type": "stream",
     "text": [
      "(17.78381995167238, 18.972295042880898)\n",
      "(17.78381995167238, 18.972295042880898)\n"
     ]
    }
   ],
   "source": [
    "confianza = 0.95\n",
    "sigma_est = sim_closes_hist.iloc[-1].sem()\n",
    "mean_est = call_hist.iloc[-1].Prima\n",
    "i1 = st.t.interval(confianza,nscen-1, loc=mean_est, scale=sigma_est)\n",
    "i2 = st.norm.interval(confianza, loc=mean_est, scale=sigma_est)\n",
    "print(i1)\n",
    "print(i1)\n"
   ]
  },
  {
   "cell_type": "markdown",
   "metadata": {},
   "source": [
    "# <font color = 'red'> Tarea: </font>\n",
    "\n",
    "Replicar el procedimiento anterior para valoración de opciones 'call', pero en este caso para opciones tipo 'put'."
   ]
  },
  {
   "cell_type": "markdown",
   "metadata": {},
   "source": [
    "<script>\n",
    "  $(document).ready(function(){\n",
    "    $('div.prompt').hide();\n",
    "    $('div.back-to-top').hide();\n",
    "    $('nav#menubar').hide();\n",
    "    $('.breadcrumb').hide();\n",
    "    $('.hidden-print').hide();\n",
    "  });\n",
    "</script>\n",
    "\n",
    "<footer id=\"attribution\" style=\"float:right; color:#808080; background:#fff;\">\n",
    "Created with Jupyter by Esteban Jiménez Rodríguez and modify by Oscar Jaramillo Z.\n",
    "</footer>"
   ]
  }
 ],
 "metadata": {
  "kernelspec": {
   "display_name": "Python 3",
   "language": "python",
   "name": "python3"
  },
  "language_info": {
   "codemirror_mode": {
    "name": "ipython",
    "version": 3
   },
   "file_extension": ".py",
   "mimetype": "text/x-python",
   "name": "python",
   "nbconvert_exporter": "python",
   "pygments_lexer": "ipython3",
   "version": "3.6.5"
  }
 },
 "nbformat": 4,
 "nbformat_minor": 2
}
