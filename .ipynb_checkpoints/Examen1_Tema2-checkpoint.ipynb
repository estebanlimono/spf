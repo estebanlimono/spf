{
 "cells": [
  {
   "cell_type": "markdown",
   "metadata": {},
   "source": [
    "___\n",
    "<img style=\"float: right; margin: 0px 0px 15px 15px;\" src=\"https://www.carrerasenlinea.mx/logos/original/logo-instituto-tecnologico-y-de-estudios-superiores-de-occidente.png\" width=\"150px\" height=\"100px\" />\n",
    "\n",
    "\n",
    "# SEGUNDO EXAMEN PARCIAL\n",
    "# SIMULACIÓN DE PROCESOS FINANCIEROS\n",
    "\n",
    "## Nombre: Esteban Limón Ochoa\n",
    "\n",
    "## Fecha: 19 de Octubre del 2018\n",
    "\n",
    "## Por: Oscar David Jaramillo Z."
   ]
  },
  {
   "cell_type": "code",
   "execution_count": 1,
   "metadata": {},
   "outputs": [],
   "source": [
    "import numpy as np\n",
    "import scipy.stats as st     # Librería estadística\n",
    "import matplotlib.pyplot as plt\n",
    "import pandas as pd\n",
    "from scipy.stats import triang\n",
    "import scipy.special as sps\n",
    "from itertools import cycle\n",
    "import scipy.stats as st\n",
    "import scipy.special as sps \n",
    "import math\n",
    "%matplotlib inline\n"
   ]
  },
  {
   "cell_type": "markdown",
   "metadata": {},
   "source": [
    "# 1.\n",
    "La financiera ”El cerdito feliz” atiende la apertura de cuentas de ahorro en su sucursal matriz, en esta sucursal se tienen 4 ejecutivos para atención al inversionista, teniendo una media de tiempo para la atención de un cliente de 30 minutos, aunque con frecuencia se requiere que uno de los ejecutivos participe en juntas de evaluación de crédito, lo que provoca que el equipo de atención disminuya a 3 ejecutivos y en estas circunstancias el promedio de atención por cliente aumenta a 45 minutos. El tiempo entre la llegada de cada cliente en promedio es de 25 minutos, si la apertura de la sucursal es a las 9:00 a.m. y cierra su atención al público a las 14:00 horas, realiza una simulación de mímino 1000 escenarios y responda\n",
    "   a).Justifique que tipo de distribuciones de probabilidad va a utilizar para realizar montecarlo.\n",
    "   \n",
    "   b). ¿Cuántas personas se atenderán hasta las 14:00 horas, si el equipo está formado solo por 3 ejecutivos?, ¿cuántos quedarán en cola?\n",
    "   \n",
    "   c). ¿Cuántas personas se atenderán hasta las 14:00 horas, si el equipo está formado solo por 4 ejecutivos?, ¿Cuántos quedarán en cola?\n"
   ]
  },
  {
   "cell_type": "code",
   "execution_count": 2,
   "metadata": {},
   "outputs": [],
   "source": [
    "mu4=30; mu3=45#min atencion cliente\n",
    "peop4=4; peop3=3#ejecutivos\n",
    "wait=25#minutos\n",
    "worktime=(14-9)*60#tiempo que se trabaja\n",
    "sim=1000#numero de simulaciones, dias que se va a correr\n",
    "i=1\n",
    "pat=0#personas atendidad\n"
   ]
  },
  {
   "cell_type": "markdown",
   "metadata": {},
   "source": [
    " a).Justifique que tipo de distribuciones de probabilidad va a utilizar para realizar montecarlo."
   ]
  },
  {
   "cell_type": "markdown",
   "metadata": {},
   "source": [
    "Para resolver el siguiente problema voy a utilizar la función de probabilidad de poison para generar variables aleatorias para las cuales solo se cuenta con su media. Este tipo de distribución se aplica para sucesos en un intervalo dado. Solo tenfo que ingresar la media  ex:\n",
    "\n",
    "r = poisson.rvs(mu, size=1000)\n",
    "\n"
   ]
  },
  {
   "cell_type": "code",
   "execution_count": 3,
   "metadata": {},
   "outputs": [],
   "source": [
    "#crear una fncion que\n",
    "r=st.poisson.rvs(25,size=10)\n",
    "def atbanc(empl:'media del tiempo de los empleados que atenderan la simulación'):\n",
    "    atime=st.poisson.rvs(empl,size=sim)#tiempo de atencion\n",
    "    watime=st.poisson.rvs(wait,size=sim)#tiempo de espera\n",
    "    timeatt=0\n",
    "    timea=0\n",
    "    k=0\n",
    "    j=0\n",
    "    #tiempo de atencion\n",
    "    while timeatt<=worktime:\n",
    "            timeatt+=atime[j]\n",
    "            j+=1\n",
    "    totat=j\n",
    "    while timea<= worktime:\n",
    "            timea+=watime[k]\n",
    "            k+=1\n",
    "    #por lo que las personas que no fueron atendidas son la diferencia entre las que llegaron y las que fueron atendidas\n",
    "    notattended=k-j\n",
    "    return totat,notattended\n",
    "            \n",
    "\n"
   ]
  },
  {
   "cell_type": "code",
   "execution_count": 4,
   "metadata": {},
   "outputs": [
    {
     "name": "stdout",
     "output_type": "stream",
     "text": [
      "Help on function atbanc in module __main__:\n",
      "\n",
      "atbanc(empl:'media del tiempo de los empleados que atenderan la simulación')\n",
      "\n"
     ]
    }
   ],
   "source": [
    "help(atbanc)"
   ]
  },
  {
   "cell_type": "code",
   "execution_count": 5,
   "metadata": {},
   "outputs": [],
   "source": [
    "d1b1=np.arange(sim)#simulation days 1 by 1"
   ]
  },
  {
   "cell_type": "markdown",
   "metadata": {},
   "source": [
    "  b). ¿Cuántas personas se atenderán hasta las 14:00 horas, si el equipo está formado solo por 3 ejecutivos?, ¿cuántos quedarán en cola?"
   ]
  },
  {
   "cell_type": "code",
   "execution_count": 6,
   "metadata": {},
   "outputs": [
    {
     "name": "stdout",
     "output_type": "stream",
     "text": [
      "En las  1000  simulaciones se atendieron  7164  con un promedio diario de  7.164\n",
      "En las  1000  simulaciones no se atendieron  5391  con un promedio diario de  5.391\n",
      "En promedio se atendio el:  57.06 %.\n"
     ]
    }
   ],
   "source": [
    "atenc=list(map(lambda x: atbanc(mu3),d1b1))\n",
    "atenc=pd.DataFrame(atenc)\n",
    "at=atenc.iloc[:,0]\n",
    "nat=atenc.iloc[:,1]\n",
    "tota=sum(at);totnat=sum(nat)\n",
    "mat=np.mean(at);mnat=np.mean(nat)\n",
    "perat=round(tota/(tota+totnat)*100,2)\n",
    "print('En las ',sim,' simulaciones se atendieron ',tota,' con un promedio diario de ',mat)\n",
    "print('En las ',sim,' simulaciones no se atendieron ',totnat,' con un promedio diario de ',mnat)\n",
    "print('En promedio se atendio el: ',perat,'%.')"
   ]
  },
  {
   "cell_type": "markdown",
   "metadata": {},
   "source": [
    "   c). ¿Cuántas personas se atenderán hasta las 14:00 horas, si el equipo está formado solo por 4 ejecutivos?, ¿Cuántos quedarán en cola?"
   ]
  },
  {
   "cell_type": "code",
   "execution_count": 7,
   "metadata": {},
   "outputs": [
    {
     "name": "stdout",
     "output_type": "stream",
     "text": [
      "En las  1000  simulaciones se atendieron  10515  con un promedio diario de  10.515\n",
      "En las  1000  simulaciones no se atendieron  2027  con un promedio diario de  2.027\n",
      "En promedio se atendio el:  83.84 %.\n",
      "Por lo que si se quiere atender a más personas si es necesario contar con los 4 ejecutivos, e inclusive contratar a 1 más.\n"
     ]
    }
   ],
   "source": [
    "atenc=list(map(lambda x: atbanc(mu4),d1b1))\n",
    "atenc=pd.DataFrame(atenc)\n",
    "at=atenc.iloc[:,0]\n",
    "nat=atenc.iloc[:,1]\n",
    "tota=sum(at);totnat=sum(nat)\n",
    "mat=np.mean(at);mnat=np.mean(nat)\n",
    "perat=round(tota/(tota+totnat)*100,2)\n",
    "print('En las ',sim,' simulaciones se atendieron ',tota,' con un promedio diario de ',mat)\n",
    "print('En las ',sim,' simulaciones no se atendieron ',totnat,' con un promedio diario de ',mnat)\n",
    "print('En promedio se atendio el: ',perat,'%.')\n",
    "print('Por lo que si se quiere atender a más personas si es necesario contar con los 4 ejecutivos, e inclusive contratar a 1 más.')"
   ]
  },
  {
   "cell_type": "markdown",
   "metadata": {},
   "source": [
    "# 2 \n",
    "a). Demuestre que la distribución de poisson satisface la siguiente forma recursiva de su probabilidad\n",
    "$$ p(k+1)={\\lambda \\over k+1}p(k)$$\n",
    "\n",
    "Realizar todo el desarrollo matemático en mardown usando ecuaciones latex.\n"
   ]
  },
  {
   "cell_type": "markdown",
   "metadata": {},
   "source": [
    "$$p(k) = \\frac{\\lambda^{k}\\mathrm{e}^{-\\lambda}}{k!}$$\n",
    "\n",
    "\n",
    "\n",
    "$$p(k+1)=\\frac{\\lambda ^{k+1}e^{-\\lambda }}{(k+1)!}$$.\n",
    "\n",
    "$$p(k+1)= \\frac{\\lambda ^{k}\\lambda e^{-\\lambda }}{(k+1)!}$$.\n",
    "\n",
    "Por identidad matemática se puede decir que n! es igual\n",
    "$$n! = n(n-1)! $$\n",
    "\n",
    "$$p(k+1)=\\frac{\\lambda e^{-k}\\lambda ^{k}}{(k+1)(k)!}$$.\n",
    "\n",
    "Sabemos que:\n",
    "\n",
    "$$p(k) = \\frac{\\lambda^{k}\\mathrm{e}^{-\\lambda}}{k!}$$\n",
    "\n",
    "Por lo que:\n",
    "$$p(k+1)= \\frac{\\lambda }{k+1}p(k) $$."
   ]
  },
  {
   "cell_type": "markdown",
   "metadata": {},
   "source": [
    "b). De el resultado demostrado en el inciso a) (usando la ecuación recursiva), gráfique la función de distribución de probabilidad y su función acumulada, para $\\lambda = [4,10,30]$, valide sus resultados comparando con el paquete estadístico `scipy.stats`. Posteriormente, genere muestras aletorias que distribuyan poisson con el conjunto de parámetros lambda dados y realice el histograma correspondiente (en gráficas distintas para cada lambda), validando lo obtenido al graficar la función de densidad de probabilidad. **Nota**: Recuerde que la distribución de poisson es una distribución de probabilidad discreta así que el histograma debe ser discreto y no continuo."
   ]
  },
  {
   "cell_type": "code",
   "execution_count": 8,
   "metadata": {},
   "outputs": [
    {
     "name": "stdout",
     "output_type": "stream",
     "text": [
      "Funcion creada\n"
     ]
    },
    {
     "name": "stderr",
     "output_type": "stream",
     "text": [
      "C:\\ProgramData\\Anaconda3\\lib\\site-packages\\matplotlib\\cbook\\deprecation.py:107: MatplotlibDeprecationWarning: Adding an axes using the same arguments as a previous axes currently reuses the earlier instance.  In a future version, a new instance will always be created and returned.  Meanwhile, this warning can be suppressed, and the future behavior ensured, by passing a unique label to each axes instance.\n",
      "  warnings.warn(message, mplDeprecation, stacklevel=1)\n"
     ]
    },
    {
     "name": "stdout",
     "output_type": "stream",
     "text": [
      "Función de distribución poisson\n",
      "1. Distrución de probabilidad.\n",
      "2. Distrución de probabilidad acumulada.\n"
     ]
    },
    {
     "data": {
      "image/png": "[encoded data removed]",
      "text/plain": [
       "<Figure size 432x288 with 2 Axes>"
      ]
     },
     "metadata": {},
     "output_type": "display_data"
    }
   ],
   "source": [
    "cycol = cycle('bgrcmk')\n",
    "\n",
    "#funcion ditribucion poison\n",
    "p = lambda k,l:(l**(k+1)*np.exp(-l))/math.factorial(k+1)\n",
    "lamb= [4,10,30]\n",
    "i=1\n",
    "l=lamb[0]\n",
    "\n",
    "print('Funcion creada') \n",
    "for i in range(len(lamb)):\n",
    "    l=lamb[i]\n",
    "    P = []\n",
    "    c = next(cycol)\n",
    "    for k in range(50): #k actua como el dominio\n",
    "        P.append(p(k,l))\n",
    "    plt.subplot(121)\n",
    "    plt.plot(P,'o',c=c,label='$\\lambda$=%s' % l, markersize=3)\n",
    "#    plt.title('1) Densidad de distrución de probabilidad')\n",
    "    plt.legend()\n",
    "    \n",
    "    plt.subplot(122)\n",
    "    plt.plot(np.cumsum(P),'o',c=c,label='$\\lambda$=%s' % l, markersize=3)\n",
    "#     plt.title('Distrución de probabilidad acumulada ')\n",
    "    plt.legend()\n",
    "    plt.hlines(np.cumsum(P),range(len(P)),range(1,len(P)+1),color=c)\n",
    "    i+=1\n",
    "print('Función de distribución poisson')\n",
    "print('1. Distrución de probabilidad.')   \n",
    "print('2. Distrución de probabilidad acumulada.')\n",
    "\n",
    "plt.show()"
   ]
  },
  {
   "cell_type": "code",
   "execution_count": 9,
   "metadata": {},
   "outputs": [
    {
     "data": {
      "image/png": "[encoded data removed]",
      "text/plain": [
       "<Figure size 864x288 with 2 Axes>"
      ]
     },
     "metadata": {},
     "output_type": "display_data"
    }
   ],
   "source": [
    "p = lambda k,l:(l**k*np.exp(-l))/sps.gamma(k+1)\n",
    "k = np.arange(0,50)\n",
    "l = [4,10,30]\n",
    "P = np.asmatrix(list(map(lambda x:p(k,x*np.ones(len(k))),l))).T\n",
    "\n",
    "plt.figure(1,figsize=[12,4])\n",
    "plt.subplot(121)\n",
    "plt.plot(P,'o',markersize=3)\n",
    "plt.title('Densidad de distrución de probabilidad funcion scipy')\n",
    "plt.legend(('$\\lambda$=4','$\\lambda$=10','$\\lambda$=30'))\n",
    "\n",
    "# Probabilidad acumulada \n",
    "P_ac = np.cumsum(P,axis=0)\n",
    "\n",
    "plt.subplot(122)\n",
    "plt.plot(P_ac,'o',markersize=3)\n",
    "[plt.hlines(P_ac[:,i],range(len(P_ac)),range(1,len(P_ac)+1)) for i in range(len(l))]\n",
    "plt.title('Distrución de probabilidad acumulada funcion scipy')\n",
    "plt.legend(('$\\lambda$=4','$\\lambda$=10','$\\lambda$=30'))\n",
    "plt.show()\n"
   ]
  },
  {
   "cell_type": "code",
   "execution_count": 10,
   "metadata": {},
   "outputs": [
    {
     "data": {
      "text/plain": [
       "(array([0.105, 0.   , 0.   , 0.   , 0.   , 0.39 , 0.   , 0.   , 0.   ,\n",
       "        0.   , 0.735, 0.   , 0.   , 0.   , 0.   , 1.055, 0.   , 0.   ,\n",
       "        0.   , 0.   , 0.875, 0.   , 0.   , 0.   , 0.   , 0.705, 0.   ,\n",
       "        0.   , 0.   , 0.   , 0.61 , 0.   , 0.   , 0.   , 0.   , 0.265,\n",
       "        0.   , 0.   , 0.   , 0.   , 0.145, 0.   , 0.   , 0.   , 0.   ,\n",
       "        0.095, 0.   , 0.   , 0.   , 0.02 ]),\n",
       " array([ 0. ,  0.2,  0.4,  0.6,  0.8,  1. ,  1.2,  1.4,  1.6,  1.8,  2. ,\n",
       "         2.2,  2.4,  2.6,  2.8,  3. ,  3.2,  3.4,  3.6,  3.8,  4. ,  4.2,\n",
       "         4.4,  4.6,  4.8,  5. ,  5.2,  5.4,  5.6,  5.8,  6. ,  6.2,  6.4,\n",
       "         6.6,  6.8,  7. ,  7.2,  7.4,  7.6,  7.8,  8. ,  8.2,  8.4,  8.6,\n",
       "         8.8,  9. ,  9.2,  9.4,  9.6,  9.8, 10. ]),\n",
       " <a list of 50 Patch objects>)"
      ]
     },
     "execution_count": 10,
     "metadata": {},
     "output_type": "execute_result"
    },
    {
     "data": {
      "image/png": "[encoded data removed]",
      "text/plain": [
       "<Figure size 432x288 with 1 Axes>"
      ]
     },
     "metadata": {},
     "output_type": "display_data"
    }
   ],
   "source": [
    "#histograma para lambda 4\n",
    "N=1000;\n",
    "mu = l[0]  # parametro de forma \n",
    "plt.hist(st.poisson.rvs(mu,size=N),50,density=True)"
   ]
  },
  {
   "cell_type": "code",
   "execution_count": 11,
   "metadata": {
    "scrolled": true
   },
   "outputs": [
    {
     "data": {
      "text/plain": [
       "(array([0.0075, 0.    , 0.025 , 0.    , 0.    , 0.0425, 0.    , 0.09  ,\n",
       "        0.    , 0.    , 0.1425, 0.    , 0.1825, 0.    , 0.    , 0.2725,\n",
       "        0.    , 0.3075, 0.    , 0.    , 0.315 , 0.    , 0.34  , 0.    ,\n",
       "        0.    , 0.24  , 0.    , 0.1975, 0.    , 0.    , 0.1375, 0.    ,\n",
       "        0.1   , 0.    , 0.    , 0.04  , 0.    , 0.025 , 0.    , 0.    ,\n",
       "        0.0125, 0.    , 0.0075, 0.    , 0.    , 0.0025, 0.    , 0.0075,\n",
       "        0.    , 0.005 ]),\n",
       " array([ 2. ,  2.4,  2.8,  3.2,  3.6,  4. ,  4.4,  4.8,  5.2,  5.6,  6. ,\n",
       "         6.4,  6.8,  7.2,  7.6,  8. ,  8.4,  8.8,  9.2,  9.6, 10. , 10.4,\n",
       "        10.8, 11.2, 11.6, 12. , 12.4, 12.8, 13.2, 13.6, 14. , 14.4, 14.8,\n",
       "        15.2, 15.6, 16. , 16.4, 16.8, 17.2, 17.6, 18. , 18.4, 18.8, 19.2,\n",
       "        19.6, 20. , 20.4, 20.8, 21.2, 21.6, 22. ]),\n",
       " <a list of 50 Patch objects>)"
      ]
     },
     "execution_count": 11,
     "metadata": {},
     "output_type": "execute_result"
    },
    {
     "data": {
      "image/png": "[encoded data removed]",
      "text/plain": [
       "<Figure size 432x288 with 1 Axes>"
      ]
     },
     "metadata": {},
     "output_type": "display_data"
    }
   ],
   "source": [
    "#histograma para lambda 10\n",
    "N=1000;\n",
    "mu = l[1]  # parametro de forma \n",
    "plt.hist(st.poisson.rvs(mu,size=N),50,density=True)"
   ]
  },
  {
   "cell_type": "code",
   "execution_count": 12,
   "metadata": {},
   "outputs": [
    {
     "data": {
      "text/plain": [
       "(array([0.00138889, 0.        , 0.00416667, 0.        , 0.00694444,\n",
       "        0.01805556, 0.01944444, 0.        , 0.01944444, 0.03333333,\n",
       "        0.        , 0.04583333, 0.04861111, 0.08333333, 0.        ,\n",
       "        0.08611111, 0.08888889, 0.        , 0.10833333, 0.10833333,\n",
       "        0.10694444, 0.        , 0.0875    , 0.08333333, 0.        ,\n",
       "        0.08888889, 0.06944444, 0.07083333, 0.        , 0.05694444,\n",
       "        0.03472222, 0.03888889, 0.        , 0.02222222, 0.01527778,\n",
       "        0.        , 0.01805556, 0.00833333, 0.00972222, 0.        ,\n",
       "        0.00138889, 0.00138889, 0.        , 0.        , 0.00138889,\n",
       "        0.        , 0.        , 0.        , 0.        , 0.00138889]),\n",
       " array([15.  , 15.72, 16.44, 17.16, 17.88, 18.6 , 19.32, 20.04, 20.76,\n",
       "        21.48, 22.2 , 22.92, 23.64, 24.36, 25.08, 25.8 , 26.52, 27.24,\n",
       "        27.96, 28.68, 29.4 , 30.12, 30.84, 31.56, 32.28, 33.  , 33.72,\n",
       "        34.44, 35.16, 35.88, 36.6 , 37.32, 38.04, 38.76, 39.48, 40.2 ,\n",
       "        40.92, 41.64, 42.36, 43.08, 43.8 , 44.52, 45.24, 45.96, 46.68,\n",
       "        47.4 , 48.12, 48.84, 49.56, 50.28, 51.  ]),\n",
       " <a list of 50 Patch objects>)"
      ]
     },
     "execution_count": 12,
     "metadata": {},
     "output_type": "execute_result"
    },
    {
     "data": {
      "image/png": "[encoded data removed]",
      "text/plain": [
       "<Figure size 432x288 with 1 Axes>"
      ]
     },
     "metadata": {},
     "output_type": "display_data"
    }
   ],
   "source": [
    "#histograma para lambda 30\n",
    "N=1000;\n",
    "mu = l[2]  # parametro de forma \n",
    "plt.hist(st.poisson.rvs(mu,size=N),50,density=True)"
   ]
  },
  {
   "cell_type": "markdown",
   "metadata": {},
   "source": [
    "# 3\n",
    "Demostrar **Teoricamente** usando el método de máxima verosimilitud, que los estimadores para los parámetros $\\mu$ y $\\sigma$ de una distribución normal, estan dados por:\n",
    "\n",
    "$$\\hat \\mu = {1\\over n}\\sum_{i=1}^n x_i,\\quad \\hat  \\sigma^2={1\\over n}\\sum_{i=1}^n (x_i-\\hat \\mu)^2$$\n",
    "\n",
    "**Recuerde que:** La distribución normal es\n",
    "$$f(x\\mid \\mu ,\\sigma ^{2})={\\frac {1}{\\sqrt {2\\pi \\sigma ^{2}}}}e^{-{\\frac {(x-\\mu )^{2}}{2\\sigma ^{2}}}}$$\n",
    "\n",
    "Reporte su respuesta usando markdown-latex"
   ]
  },
  {
   "cell_type": "markdown",
   "metadata": {},
   "source": [
    "### Demostración máxima verosimilitud\n",
    "Donde\n",
    "  $$  \\sigma^{2}=varianza$$\n",
    "  $$\\mu=media$$\n",
    "Para una tupla de n números reales\n",
    "  \n",
    "$$L=(x_{1},x_{2},..x_{n},\\mu,\\sigma^{2})=\\prod_{i=1}^{n}{\\frac {1}{\\sqrt {2\\pi \\sigma ^{2}}}}e^{-{\\frac {(x-\\mu )^{2}}{2\\sigma ^{2}}}}=(\\frac{1}{\\sqrt {2\\pi \\sigma ^{2}}})^{n}e^{-{\\frac {\\sum(x_{i}-\\mu )^{2}}{2\\sigma ^{2}}}}$$\n",
    "\n",
    "Le calculamos el logaritmo:\n",
    "$$log(L(x_{1},x_{2},..x_{n},\\lambda))=-\\frac{n}{2}log(\\sigma^{2})-\\frac{n}{2}log(2\\pi)-\\frac{1}{2\\sigma^{2}}\\sum(x_{i}-\\mu )^{2}$$\n",
    "\n",
    "Derivamos la ecuación:\n",
    "\n",
    "Primero respecto a la media\n",
    "$$\\frac{\\delta log(L(x_{1},x_{2},..x_{n},\\lambda))}{\\delta \\mu}=\\frac{n}{\\sigma^{2}}\\sum(x_{i}-\\mu)$$\n",
    "\n",
    "Despues respecto a la varianza\n",
    "$$\\frac{\\delta log(L(x_{1},x_{2},..x_{n},\\lambda))}{\\delta \\sigma^{2}}=-\\frac{n}{2\\sigma^{2}}+\\frac{1}{2\\sigma^{4}}\\sum(x_{i}-\\mu )^{2}$$\n",
    "\n",
    "Anulandose y dando:\n",
    "$$\\hat \\mu = {1\\over n}\\sum_{i=1}^n x_i,\\quad \\hat  \\sigma^2={1\\over n}\\sum_{i=1}^n (x_i-\\hat \\mu)^2$$"
   ]
  },
  {
   "cell_type": "markdown",
   "metadata": {},
   "source": [
    "# <font color = red> Nota: </font>\n",
    "\n",
    "Recuerde que maximizar la función de máxima verosimilitud $L(\\theta)$ es equivalente a maximizar su logaritmo $l(\\theta)= ln(L(\\theta))$\n",
    "\n",
    "> Referencia: Resultados obtenidos del libro:  Paolo Brandimarte -Handbook in Monte Carlo Simulation"
   ]
  },
  {
   "cell_type": "markdown",
   "metadata": {},
   "source": [
    "# 4\n",
    "Un banco, de acuerdo a la ley, tienen la posibilidad de poder invertir las utilidades logradas por créditos de trabajo quirografarios en dos diferentes instrumentos de inversión: El primero es inversión en deuda que presenta una utilidad promedio del 23.5% con una desviación estándar de 1.1%. El segundo es inversión a plazo donde la rentabilidad esperada se comporta como una distribución uniforme y está entre el -2% y el 9%, pero nunca entre -0.5% y 0.5%. Calcular cuál es la mejor combinación posible, si la inversión será en múltiplos de 25%, es decir (inv1 25%, Inv2 75%)-(Inv1 50%,Inv2 50%)-(Inv1 75%, Inv2 25%), simular 1000 veces (escenarios) e indicar rendimientos promedio por combinación."
   ]
  },
  {
   "cell_type": "code",
   "execution_count": 13,
   "metadata": {},
   "outputs": [],
   "source": [
    "deuda=.235;stddeuda=.011\n",
    "#corto plazo\n",
    "mincp=-.02;maxcp=.09 #esto no puede estar entre -.005 y.005\n",
    "nacc=-.005;nacg=.005\n",
    "sims=1000\n",
    "rdto=0\n",
    "def inversion(invdeuda:'ponderacion que se invierte en deuda, lo que resta se invierte en corto plazo'):\n",
    "    global rdto\n",
    "    invplazo=1-invdeuda\n",
    "    for i in range(sims):\n",
    "        deu = np.random.normal(deuda,stddeuda)\n",
    "        cp = np.random.uniform(mincp,maxcp)\n",
    "\n",
    "        while cp>=nacc and cp<=nacg:\n",
    "            cp = np.random.uniform(mincp,maxcp) \n",
    "\n",
    "        inv = invdeuda*deu+invplazo*cp\n",
    "    rdto += inv\n",
    "    print(rdto)\n",
    "    return rdto\n",
    "\n"
   ]
  },
  {
   "cell_type": "code",
   "execution_count": 14,
   "metadata": {},
   "outputs": [
    {
     "name": "stdout",
     "output_type": "stream",
     "text": [
      "Help on function inversion in module __main__:\n",
      "\n",
      "inversion(invdeuda:'ponderacion que se invierte en deuda, lo que resta se invierte en corto plazo')\n",
      "\n"
     ]
    }
   ],
   "source": [
    "help(inversion)"
   ]
  },
  {
   "cell_type": "code",
   "execution_count": 15,
   "metadata": {},
   "outputs": [
    {
     "name": "stdout",
     "output_type": "stream",
     "text": [
      "0.04664044079235422\n",
      "Si el inversionista invierte: 0.25 en deuda y  0.75 en corto plazo, ganará:  4.66 %\n",
      "0.1439953086373866\n",
      "Si el inversionista invierte: 0.5 en deuda y  0.5 en corto plazo, ganará:  14.4 %\n",
      "0.20250401422065295\n",
      "Si el inversionista invierte: 0.75 en deuda y  0.25 en corto plazo, ganará:  20.25 %\n"
     ]
    }
   ],
   "source": [
    "rdto=0\n",
    "unc=.25\n",
    "dosc=.5\n",
    "tresc=.75\n",
    "r=inversion(unc)\n",
    "print('Si el inversionista invierte:',unc,'en deuda y ',1-unc,'en corto plazo, ganará: ',round(r*100,2),'%')\n",
    "\n",
    "rdto=0\n",
    "r=inversion(dosc)\n",
    "print('Si el inversionista invierte:',dosc,'en deuda y ',1-dosc,'en corto plazo, ganará: ',round(r*100,2),'%')\n",
    "rdto=0\n",
    "r=inversion(tresc)\n",
    "print('Si el inversionista invierte:',tresc,'en deuda y ',1-tresc,'en corto plazo, ganará: ',round(r*100,2),'%')\n",
    "# r=inversion(tresc)\n",
    "# r=r/sims\n",
    "# pond=[.25,.5,.75]\n",
    "#res=list(map(lambda x:inversion(x),pond))\n",
    "\n"
   ]
  },
  {
   "cell_type": "markdown",
   "metadata": {},
   "source": [
    "# 5\n",
    "Considere la siguiente función de distribución de probabilidad\n",
    "$$ f(x)=\\begin{cases}400e^{-400(x-1)},& \\text{para }x\\geq 1\\\\0,& \\text{otro caso}\\end{cases}$$\n",
    "\n",
    "a). Para realizar una comparación, realice el desarrollo analítico del valor esperado.\n",
    "\n",
    "b). Realice el desarrollo teórico para obtener muestras aletorias de esta dstribución usando el método de la función inversa. Con los resultados obtenidos, genere 100 muestras y  grafique el histograma de dichas muestras aleatorias obtenidas y a su vez la función de densidad f(x), para validar los resultados obtenidos.\n",
    "\n",
    "c). Repita el inciso anterior pero en esta ocasión utilice el método de aceptación y rechazo para generar las muestras aleatorias.\n",
    "\n",
    "**Se desea estimar la media de esta distribución, usando el método montecarlo crudo y sus técnicas de reducción de varianza con muestras de tamaño 10,100 y 1000. Estas cantidades de muestras para cada uno de los siguientes literales:** \n",
    "\n",
    "d). Use el método de montecarlo crudo para estimar la media.\n",
    "\n",
    "e). Use el método de muestreo estratificado con 5 estratos $0\\leq F(x)\\leq0.3, 0.3\\leq F(x)\\leq0.5, 0.5\\leq F(x)\\leq0.7, 0.7\\leq F(x)\\leq0.9 $ y $0.9\\leq F(x) \\leq 1$. Reparta el total de muestras en los estratos de la siguiente forma: estrato 1, 2, 3, 4, 5, 20%,20%,25%,15% y 20% de las muestras respectivamente.\n",
    "\n",
    "f). Use el método de los números complementarios.\n",
    "\n",
    "g). Finalmente use el método de estratificación en el cúal se divide en N estratos.\n",
    "\n",
    "h). Compare todos los resulados obtenidos con cada método en una tabla unsando la librería pandas, donde muestre segun la cantidad de términos usados, la aproximación de la media aproximada y su error relativo con el valor obtenido en el inciso a)."
   ]
  },
  {
   "cell_type": "markdown",
   "metadata": {},
   "source": [
    "a). Se debe de calcular el valor esperado de la función.\n",
    "\n",
    "$$ E(f(x))=\\int_a^b xf(x) dx $$.\n",
    "\n",
    "$$E[f(x)]=\\int_1^\\infty x 400e^{-400(x-1)} dx$$.\n",
    "\n",
    "\n",
    "Se integra la función en partes.\n",
    "\n",
    "\n",
    "$$u=x \\rightarrow du=dx$$          \n",
    "$$dv=400e^{-400(x-1)} dx \\rightarrow v=-e^{-400(x-1)}$$.\n",
    "\n",
    "\n",
    "\n",
    "\n",
    "$$= -xe^{-400(x-1)}\\Big|_1^\\infty\\ + \\int_1^\\infty e^{-400(x-1)}dx$$.\n",
    "\n",
    "\n",
    "$$= -xe^{-400(x-1)} + [\\frac{-1}{400}e^{-400(x-1)}]\\Big|_1^\\infty$$.\n",
    "\n",
    "$$= -xe^{-400(x-1)} -\\frac{1}{400}e^{-400(x-1)}\\Big|_1^\\infty$$.\n",
    "\n",
    "\n",
    "$$ = 0 + 1 + \\frac{1}{400} $$.\n",
    "\n",
    "$$= \\frac{401}{400} $$.\n",
    "\n",
    "$$ = 1.0025 $$."
   ]
  },
  {
   "cell_type": "markdown",
   "metadata": {},
   "source": [
    "b). Realice el desarrollo teórico para obtener muestras aletorias de esta dstribución usando el método de la función inversa. Con los resultados obtenidos, genere 100 muestras y  grafique el histograma de dichas muestras aleatorias obtenidas y a su vez la función de densidad f(x), para validar los resultados obtenidos."
   ]
  },
  {
   "cell_type": "code",
   "execution_count": 16,
   "metadata": {},
   "outputs": [
    {
     "name": "stdout",
     "output_type": "stream",
     "text": [
      "Histograma\n"
     ]
    },
    {
     "data": {
      "image/png": "[encoded data removed]",
      "text/plain": [
       "<Figure size 432x288 with 1 Axes>"
      ]
     },
     "metadata": {},
     "output_type": "display_data"
    },
    {
     "name": "stdout",
     "output_type": "stream",
     "text": [
      "media con 100 simulaciones de la inversa es: 1.00259152225007\n"
     ]
    }
   ],
   "source": [
    "sims=100\n",
    "print('Histograma')\n",
    "datos = np.random.rand(sims)\n",
    "d = np.linspace(1,1.025,sims)\n",
    "inversa = (-np.log(datos)/400)+1\n",
    "densidad = 400*np.exp(-400*(d-1))\n",
    "plt.hist(inversa,25)\n",
    "plt.plot(d,densidad)\n",
    "plt.show()\n",
    "invmean = np.mean(inversa)\n",
    "print('media con',sims,'simulaciones de la inversa es:',invmean)"
   ]
  },
  {
   "cell_type": "markdown",
   "metadata": {},
   "source": [
    "c). Repita el inciso anterior pero en esta ocasión utilice el método de aceptación y rechazo para generar las muestras aleatorias.\n",
    "\n",
    "**Se desea estimar la media de esta distribución, usando el método montecarlo crudo y sus técnicas de reducción de varianza con muestras de tamaño 10,100 y 1000. Estas cantidades de muestras para cada uno de los siguientes literales:** "
   ]
  },
  {
   "cell_type": "code",
   "execution_count": 17,
   "metadata": {},
   "outputs": [
    {
     "data": {
      "image/png": "[encoded data removed]",
      "text/plain": [
       "<Figure size 432x288 with 1 Axes>"
      ]
     },
     "metadata": {},
     "output_type": "display_data"
    },
    {
     "data": {
      "image/png": "[encoded data removed]",
      "text/plain": [
       "<Figure size 432x288 with 1 Axes>"
      ]
     },
     "metadata": {},
     "output_type": "display_data"
    },
    {
     "data": {
      "image/png": "[encoded data removed]",
      "text/plain": [
       "<Figure size 432x288 with 1 Axes>"
      ]
     },
     "metadata": {},
     "output_type": "display_data"
    },
    {
     "name": "stdout",
     "output_type": "stream",
     "text": [
      "media con aceptacion y rechazo para  10  muestras es: 1.0132346063249664\n",
      "media con aceptacion y rechazo para  100  muestras es: 1.0130769114963243\n",
      "media con aceptacion y rechazo para  1000  muestras es: 1.0134552879090468\n"
     ]
    }
   ],
   "source": [
    "c = [10,100,1000]\n",
    "f = lambda x: 400*np.exp(-400*(x-1))\n",
    "x = np.arange(1,1.025,0.001)\n",
    "plt.plot(x,f(x),'k')\n",
    "for i in range(c[0]):\n",
    "    u1 = np.random.uniform(1,1.025,1)\n",
    "    u2 = np.random.uniform(0,400,1)\n",
    "    if u2 <= f(u1):\n",
    "        plt.plot(u1,u2,'ob')\n",
    "    else:\n",
    "        plt.plot(u1,u2,'or')\n",
    "plt.show()\n",
    "aceprec0 = np.mean(u1)\n",
    "plt.plot(x,f(x),'k')\n",
    "for i in range(c[1]):\n",
    "    u1 = np.random.uniform(1,1.025,1)\n",
    "    u2 = np.random.uniform(0,400,1)\n",
    "    if u2 <= f(u1):\n",
    "        plt.plot(u1,u2,'ob')\n",
    "    else:\n",
    "        plt.plot(u1,u2,'or')\n",
    "plt.show()\n",
    "aceprec1 = np.mean(u1)\n",
    "plt.plot(x,f(x),'k')\n",
    "for i in range(c[2]):\n",
    "    u1 = np.random.uniform(1,1.025,1)\n",
    "    u2 = np.random.uniform(0,400,1)\n",
    "    if u2 <= f(u1):\n",
    "        plt.plot(u1,u2,'ob')\n",
    "    else:\n",
    "        plt.plot(u1,u2,'or')\n",
    "plt.show()\n",
    "aceprec2 = np.mean(u1)\n",
    "print('media con aceptacion y rechazo para ',c[0],' muestras es:',aceprec0)\n",
    "print('media con aceptacion y rechazo para ',c[1],' muestras es:',aceprec1)\n",
    "print('media con aceptacion y rechazo para ',c[2],' muestras es:',aceprec2)"
   ]
  },
  {
   "cell_type": "markdown",
   "metadata": {},
   "source": [
    "d). Use el método de montecarlo crudo para estimar la media.\n",
    "\n",
    "e). Use el método de muestreo estratificado con 5 estratos $0\\leq F(x)\\leq0.3, 0.3\\leq F(x)\\leq0.5, 0.5\\leq F(x)\\leq0.7, 0.7\\leq F(x)\\leq0.9 $ y $0.9\\leq F(x) \\leq 1$. Reparta el total de muestras en los estratos de la siguiente forma: estrato 1, 2, 3, 4, 5, 20%,20%,25%,15% y 20% de las muestras respectivamente.\n",
    "\n",
    "f). Use el método de los números complementarios.\n",
    "\n"
   ]
  },
  {
   "cell_type": "code",
   "execution_count": 18,
   "metadata": {},
   "outputs": [
    {
     "name": "stdout",
     "output_type": "stream",
     "text": [
      "Ejercicio para  1000 muestras.\n",
      "D) Media usando montecarlo estándar     = 0.9974201284474267\n",
      "E) Media usando montecarlo estratizado = 1.0166012847637236\n",
      "F) Media usando números complementarios = 0.9974201284474267\n"
     ]
    }
   ],
   "source": [
    "#funcion\n",
    "xi=lambda u:(np.log(u1)+400)/400\n",
    "\n",
    "N=d=1000\n",
    "\n",
    "\n",
    "# aproximar el valor de la integral usando montecarlo típico\n",
    "#u1=np.concatenate(r)#usando misma muestra\n",
    "u1 = np.random.rand(N)#grnerando la muestra\n",
    "f_u1 = list(map(xi,u1))\n",
    "media_montecarlo = np.mean(f_u1)\n",
    "#se necsita usar la misma muestra\n",
    "\n",
    "\n",
    "#aproximar por el montecarlo estratizado\n",
    "#estratos\n",
    "e1=int(round(N*.2,0))\n",
    "e2=int(round(N*.2,0))\n",
    "e3=int(round(N*.25,0))\n",
    "e4=int(round(N*.15,0))\n",
    "e5=int(round(N*.2,0))\n",
    "#e1\n",
    "r1 = np.random.uniform(0,0.3,e1)\n",
    "r2 = np.random.uniform(.3,.5,e2)\n",
    "r3 = np.random.uniform(.5,.7,e3)\n",
    "r4 = np.random.uniform(.7,.9,e3)\n",
    "r5 = np.random.uniform(.9,1,e3)\n",
    "r  = [r1,r2,r3,r4,r5]\n",
    "m  = range(len(r))  # Cantidad de estratos\n",
    "w  = [3/10/.6,3/10/.3,4/10/.1]\n",
    "#xi = list(map(lambda r:-np.log(r),r))\n",
    "x2=list(map(lambda r:np.array(list(map(xi,r))),r))\n",
    "muestras = list(map(lambda wi,xi:xi/wi,w,x2))\n",
    "\n",
    "mt_estrat=np.concatenate(muestras).mean()\n",
    "\n",
    "\n",
    "# Aproximación usando método de los números complementarios\n",
    "u2 = 1-u1\n",
    "#f_u2 = list(map(f,u2))\n",
    "f_u2 = list(map(xi,u2))\n",
    "media_complementario = (np.mean(f_u2)+media_montecarlo)/2\n",
    "\n",
    "print('Ejercicio para ',N,'muestras.')\n",
    "print('D) Media usando montecarlo estándar     =',media_montecarlo)\n",
    "print('E) Media usando montecarlo estratizado =',mt_estrat)\n",
    "print('F) Media usando números complementarios =',media_complementario)\n"
   ]
  },
  {
   "cell_type": "markdown",
   "metadata": {},
   "source": [
    "g). Finalmente use el método de estratificación en el cúal se divide en N estratos.\n",
    "\n",
    "h). Compare todos los resulados obtenidos con cada método en una tabla unsando la librería pandas, donde muestre segun la cantidad de términos usados, la aproximación de la media aproximada y su error relativo con el valor obtenido en el inciso a)."
   ]
  },
  {
   "cell_type": "code",
   "execution_count": 19,
   "metadata": {},
   "outputs": [],
   "source": [
    "\n",
    "def fmt_estrat(N:'Número de estratos'):\n",
    "    '''Función que regresa variables aleatorias generadas en N reciones'''\n",
    "    i = N\n",
    "    u2 = np.random.rand(i)\n",
    "    i2 = np.arange(0,i)\n",
    "    vals = (u2+i2)/i\n",
    "    return vals"
   ]
  },
  {
   "cell_type": "code",
   "execution_count": 20,
   "metadata": {},
   "outputs": [
    {
     "name": "stdout",
     "output_type": "stream",
     "text": [
      "Ejercicio F\n",
      "Estimacíon de la media para 2 estratos es 0.9974\n",
      "Estimacíon de la media para 50 estratos es 0.9974\n",
      "Estimacíon de la media para 500 estratos es 0.9974\n"
     ]
    }
   ],
   "source": [
    "print('Ejercicio F')\n",
    "estr=[2,50,500]\n",
    "muestras = list(map(fmt_estrat,estr))\n",
    "rdn = list(map(lambda m_i:list(map(lambda m:xi(m),m_i)),muestras))\n",
    "mean_estratos = list(map(lambda ei:np.mean(ei),rdn))\n",
    "# imprimo los resultados obtenidos para cada estrato\n",
    "prtn = list(map(lambda bi,mean:print('Estimacíon de la media para %i estratos es %2.4f'\n",
    "                         %(bi,mean)),estr,mean_estratos))\n",
    "#Al agregar más estratos se reduce la variación."
   ]
  },
  {
   "cell_type": "code",
   "execution_count": 21,
   "metadata": {},
   "outputs": [
    {
     "name": "stdout",
     "output_type": "stream",
     "text": [
      "Ejercicio G\n"
     ]
    },
    {
     "data": {
      "text/html": [
       "<div>\n",
       "<style scoped>\n",
       "    .dataframe tbody tr th:only-of-type {\n",
       "        vertical-align: middle;\n",
       "    }\n",
       "\n",
       "    .dataframe tbody tr th {\n",
       "        vertical-align: top;\n",
       "    }\n",
       "\n",
       "    .dataframe thead th {\n",
       "        text-align: right;\n",
       "    }\n",
       "</style>\n",
       "<table border=\"1\" class=\"dataframe\">\n",
       "  <thead>\n",
       "    <tr style=\"text-align: right;\">\n",
       "      <th></th>\n",
       "      <th>Cantidad de términos</th>\n",
       "      <th>Media Calculada</th>\n",
       "      <th>Error</th>\n",
       "    </tr>\n",
       "    <tr>\n",
       "      <th>Prueba</th>\n",
       "      <th></th>\n",
       "      <th></th>\n",
       "      <th></th>\n",
       "    </tr>\n",
       "  </thead>\n",
       "  <tbody>\n",
       "    <tr>\n",
       "      <th>Analítico</th>\n",
       "      <td>1</td>\n",
       "      <td>1.002500</td>\n",
       "      <td>0.000000</td>\n",
       "    </tr>\n",
       "    <tr>\n",
       "      <th>Función inversa</th>\n",
       "      <td>100</td>\n",
       "      <td>1.002592</td>\n",
       "      <td>0.000091</td>\n",
       "    </tr>\n",
       "    <tr>\n",
       "      <th>Aceptación y rechazo</th>\n",
       "      <td>10</td>\n",
       "      <td>1.013235</td>\n",
       "      <td>0.010708</td>\n",
       "    </tr>\n",
       "    <tr>\n",
       "      <th>Aceptación y rechazo</th>\n",
       "      <td>100</td>\n",
       "      <td>1.013077</td>\n",
       "      <td>0.010551</td>\n",
       "    </tr>\n",
       "    <tr>\n",
       "      <th>Aceptación y rechazo</th>\n",
       "      <td>1000</td>\n",
       "      <td>1.013455</td>\n",
       "      <td>0.010928</td>\n",
       "    </tr>\n",
       "    <tr>\n",
       "      <th>Montecarlo Crudo</th>\n",
       "      <td>1000</td>\n",
       "      <td>0.997420</td>\n",
       "      <td>0.005067</td>\n",
       "    </tr>\n",
       "    <tr>\n",
       "      <th>Muestreo Estrtificado</th>\n",
       "      <td>1000</td>\n",
       "      <td>1.016601</td>\n",
       "      <td>0.014066</td>\n",
       "    </tr>\n",
       "    <tr>\n",
       "      <th># Complementarios</th>\n",
       "      <td>1000</td>\n",
       "      <td>0.997420</td>\n",
       "      <td>0.005067</td>\n",
       "    </tr>\n",
       "    <tr>\n",
       "      <th>ME para n estratos</th>\n",
       "      <td>2</td>\n",
       "      <td>0.997420</td>\n",
       "      <td>0.005067</td>\n",
       "    </tr>\n",
       "    <tr>\n",
       "      <th>ME para n estratos</th>\n",
       "      <td>50</td>\n",
       "      <td>0.997420</td>\n",
       "      <td>0.005067</td>\n",
       "    </tr>\n",
       "    <tr>\n",
       "      <th>ME para n estratos</th>\n",
       "      <td>500</td>\n",
       "      <td>0.997420</td>\n",
       "      <td>0.005067</td>\n",
       "    </tr>\n",
       "  </tbody>\n",
       "</table>\n",
       "</div>"
      ],
      "text/plain": [
       "                       Cantidad de términos  Media Calculada     Error\n",
       "Prueba                                                                \n",
       "Analítico                                 1         1.002500  0.000000\n",
       "Función inversa                         100         1.002592  0.000091\n",
       "Aceptación y rechazo                     10         1.013235  0.010708\n",
       "Aceptación y rechazo                    100         1.013077  0.010551\n",
       "Aceptación y rechazo                   1000         1.013455  0.010928\n",
       "Montecarlo Crudo                       1000         0.997420  0.005067\n",
       "Muestreo Estrtificado                  1000         1.016601  0.014066\n",
       "# Complementarios                      1000         0.997420  0.005067\n",
       "ME para n estratos                        2         0.997420  0.005067\n",
       "ME para n estratos                       50         0.997420  0.005067\n",
       "ME para n estratos                      500         0.997420  0.005067"
      ]
     },
     "execution_count": 21,
     "metadata": {},
     "output_type": "execute_result"
    }
   ],
   "source": [
    "print('Ejercicio G')\n",
    "\n",
    "valuacion = ['Analítico', 'Función inversa','Aceptación y rechazo',\n",
    "             'Aceptación y rechazo','Aceptación y rechazo','Montecarlo Crudo','Muestreo Estrtificado',\n",
    "             '# Complementarios','ME para n estratos','ME para n estratos','ME para n estratos']\n",
    "muestras = [1,100,c[0],c[1],c[2],d,d,d,estr[0],estr[1],estr[2]]\n",
    "media = np.array([1.0025,invmean,aceprec0,aceprec1,aceprec2,media_montecarlo,mt_estrat,media_complementario,\n",
    "                 mean_estratos[0],mean_estratos[1],mean_estratos[2]])\n",
    "#muestras\n",
    "#media\n",
    "error = list(map(lambda x: abs((x-1.0025)/1.0025),media))\n",
    "#error\n",
    "df = pd.DataFrame(index=valuacion,columns=['Cantidad de términos','Media Calculada','Error'])\n",
    "df.index.name = \"Prueba\"\n",
    "df['Cantidad de términos'] = muestras\n",
    "df['Media Calculada'] = media\n",
    "df['Error'] = error\n",
    "df"
   ]
  },
  {
   "attachments": {
    "imagen.png": {
     "image/png": "[encoded data removed]"
    }
   },
   "cell_type": "markdown",
   "metadata": {},
   "source": [
    "# 6\n",
    "![imagen.png](attachment:imagen.png)\n",
    "\n",
    "## <font color = 'red'> Nota: </font> Use el método de integración montecarlo visto en clase.\n",
    "    \n",
    "a). Use el método de montecarlo para aproximar el valor de pi para muestras de tamaño 100,1000,10000,1000000 y comparelo con su valor real. \n",
    "\n",
    "b). Repita el inciso anterior usando todos los método de reducción de varianza utilizados en el ejercicio *6*, para constrastar los resultados . Explique sus resultados."
   ]
  },
  {
   "cell_type": "code",
   "execution_count": 22,
   "metadata": {},
   "outputs": [
    {
     "data": {
      "image/png": "[encoded data removed]",
      "text/plain": [
       "<Figure size 432x288 with 1 Axes>"
      ]
     },
     "metadata": {},
     "output_type": "display_data"
    }
   ],
   "source": [
    "piper=(np.pi)/4\n",
    "# tamano=[100,1000,10000,1000000]\n",
    "#le quite cero al ultimo, ya que arroja error de memoria.\n",
    "tamano=[100,1000,10000,100000]\n",
    "f = lambda x:np.sqrt(1-x**2)\n",
    "# Validación de la función creada\n",
    "x = np.arange(0,1,0.001)\n",
    "plt.plot(x,list(map(f,x)))\n",
    "plt.show()"
   ]
  },
  {
   "cell_type": "code",
   "execution_count": 23,
   "metadata": {},
   "outputs": [
    {
     "name": "stdout",
     "output_type": "stream",
     "text": [
      "Ejercicio para  100 muestras.\n",
      "Valor de pi real para el periodo 0->1:  0.7853981633974483\n",
      "Media usando montecarlo estándar     = 0.7858888667277569\n",
      "Media usando montecarlo estratizado = 0.7858888667277569\n",
      "Media usando números complementarios = 0.7858888667277569\n"
     ]
    }
   ],
   "source": [
    "xi = lambda u:np.sqrt(1-x**2)\n",
    "N=tamano[0]\n",
    "\n",
    "\n",
    "# aproximar el valor de la integral usando montecarlo típico\n",
    "#u1=np.concatenate(r)#usando misma muestra\n",
    "u1 = np.random.rand(N)#grnerando la muestra\n",
    "f_u1 = list(map(xi,u1))\n",
    "media_montecarlo = np.mean(f_u1)\n",
    "#se necsita usar la misma muestra\n",
    "\n",
    "\n",
    "#aproximar por el montecarlo estratizado\n",
    "#estratos\n",
    "e1=int(round(N*.3,0))\n",
    "e2=int(round(N*.3,0))\n",
    "e3=int(round(N*.4,0))\n",
    "#e1\n",
    "r1 = np.random.uniform(0,0.6,e1)\n",
    "r2 = np.random.uniform(.6,.9,e2)\n",
    "r3 = np.random.uniform(.9,1,e3)\n",
    "r  = [r1,r2,r3]\n",
    "m  = range(len(r))  # Cantidad de estratos\n",
    "w  = [3/10/.6,3/10/.3,4/10/.1]\n",
    "#xi = list(map(lambda r:-np.log(r),r))\n",
    "x2=list(map(lambda r:np.array(list(map(xi,r))),r))\n",
    "muestras = list(map(lambda wi,xi:xi/wi,w,x2))\n",
    "\n",
    "mt_estrat=np.concatenate(muestras).mean()\n",
    "\n",
    "\n",
    "# Aproximación usando método de los números complementarios\n",
    "u2 = 1-u1\n",
    "#f_u2 = list(map(f,u2))\n",
    "f_u2 = list(map(xi,u2))\n",
    "media_complementario = (np.mean(f_u2)+media_montecarlo)/2\n",
    "\n",
    "print('Ejercicio para ',N,'muestras.')\n",
    "print('Valor de pi real para el periodo 0->1: ',piper)\n",
    "print('Media usando montecarlo estándar     =',media_montecarlo)\n",
    "print('Media usando montecarlo estratizado =',mt_estrat)\n",
    "print('Media usando números complementarios =',media_complementario)"
   ]
  },
  {
   "cell_type": "code",
   "execution_count": 24,
   "metadata": {},
   "outputs": [
    {
     "name": "stdout",
     "output_type": "stream",
     "text": [
      "Ejercicio para  1000 muestras.\n",
      "Valor de pi real para el periodo 0->1:  0.7853981633974483\n",
      "Media usando montecarlo estándar     = 0.7858888667277568\n",
      "Media usando montecarlo estratizado = 0.7858888667277567\n",
      "Media usando números complementarios = 0.7858888667277568\n"
     ]
    }
   ],
   "source": [
    "xi = lambda u:np.sqrt(1-x**2)\n",
    "N=tamano[1]\n",
    "\n",
    "\n",
    "# aproximar el valor de la integral usando montecarlo típico\n",
    "#u1=np.concatenate(r)#usando misma muestra\n",
    "u1 = np.random.rand(N)#grnerando la muestra\n",
    "f_u1 = list(map(xi,u1))\n",
    "media_montecarlo = np.mean(f_u1)\n",
    "#se necsita usar la misma muestra\n",
    "\n",
    "\n",
    "#aproximar por el montecarlo estratizado\n",
    "#estratos\n",
    "e1=int(round(N*.3,0))\n",
    "e2=int(round(N*.3,0))\n",
    "e3=int(round(N*.4,0))\n",
    "#e1\n",
    "r1 = np.random.uniform(0,0.6,e1)\n",
    "r2 = np.random.uniform(.6,.9,e2)\n",
    "r3 = np.random.uniform(.9,1,e3)\n",
    "r  = [r1,r2,r3]\n",
    "m  = range(len(r))  # Cantidad de estratos\n",
    "w  = [3/10/.6,3/10/.3,4/10/.1]\n",
    "#xi = list(map(lambda r:-np.log(r),r))\n",
    "x2=list(map(lambda r:np.array(list(map(xi,r))),r))\n",
    "muestras = list(map(lambda wi,xi:xi/wi,w,x2))\n",
    "\n",
    "mt_estrat=np.concatenate(muestras).mean()\n",
    "\n",
    "\n",
    "# Aproximación usando método de los números complementarios\n",
    "u2 = 1-u1\n",
    "#f_u2 = list(map(f,u2))\n",
    "f_u2 = list(map(xi,u2))\n",
    "media_complementario = (np.mean(f_u2)+media_montecarlo)/2\n",
    "\n",
    "print('Ejercicio para ',N,'muestras.')\n",
    "print('Valor de pi real para el periodo 0->1: ',piper)\n",
    "print('Media usando montecarlo estándar     =',media_montecarlo)\n",
    "print('Media usando montecarlo estratizado =',mt_estrat)\n",
    "print('Media usando números complementarios =',media_complementario)"
   ]
  },
  {
   "cell_type": "code",
   "execution_count": 25,
   "metadata": {},
   "outputs": [
    {
     "name": "stdout",
     "output_type": "stream",
     "text": [
      "Ejercicio para  10000 muestras.\n",
      "Valor de pi real para el periodo 0->1:  0.7853981633974483\n",
      "Media usando montecarlo estándar     = 0.7858888667277576\n",
      "Media usando montecarlo estratizado = 0.7858888667277568\n",
      "Media usando números complementarios = 0.7858888667277576\n"
     ]
    }
   ],
   "source": [
    "xi = lambda u:np.sqrt(1-x**2)\n",
    "N=tamano[2]\n",
    "\n",
    "\n",
    "# aproximar el valor de la integral usando montecarlo típico\n",
    "#u1=np.concatenate(r)#usando misma muestra\n",
    "u1 = np.random.rand(N)#grnerando la muestra\n",
    "f_u1 = list(map(xi,u1))\n",
    "media_montecarlo = np.mean(f_u1)\n",
    "#se necsita usar la misma muestra\n",
    "\n",
    "\n",
    "#aproximar por el montecarlo estratizado\n",
    "#estratos\n",
    "e1=int(round(N*.3,0))\n",
    "e2=int(round(N*.3,0))\n",
    "e3=int(round(N*.4,0))\n",
    "#e1\n",
    "r1 = np.random.uniform(0,0.6,e1)\n",
    "r2 = np.random.uniform(.6,.9,e2)\n",
    "r3 = np.random.uniform(.9,1,e3)\n",
    "r  = [r1,r2,r3]\n",
    "m  = range(len(r))  # Cantidad de estratos\n",
    "w  = [3/10/.6,3/10/.3,4/10/.1]\n",
    "#xi = list(map(lambda r:-np.log(r),r))\n",
    "x2=list(map(lambda r:np.array(list(map(xi,r))),r))\n",
    "muestras = list(map(lambda wi,xi:xi/wi,w,x2))\n",
    "\n",
    "mt_estrat=np.concatenate(muestras).mean()\n",
    "\n",
    "\n",
    "# Aproximación usando método de los números complementarios\n",
    "u2 = 1-u1\n",
    "#f_u2 = list(map(f,u2))\n",
    "f_u2 = list(map(xi,u2))\n",
    "media_complementario = (np.mean(f_u2)+media_montecarlo)/2\n",
    "\n",
    "print('Ejercicio para ',N,'muestras.')\n",
    "print('Valor de pi real para el periodo 0->1: ',piper)\n",
    "print('Media usando montecarlo estándar     =',media_montecarlo)\n",
    "print('Media usando montecarlo estratizado =',mt_estrat)\n",
    "print('Media usando números complementarios =',media_complementario)"
   ]
  },
  {
   "cell_type": "code",
   "execution_count": 26,
   "metadata": {},
   "outputs": [
    {
     "name": "stdout",
     "output_type": "stream",
     "text": [
      "Ejercicio para  100000 muestras.\n",
      "Valor de pi real para el periodo 0->1:  0.7853981633974483\n",
      "Media usando montecarlo estándar     = 0.7858888667277706\n",
      "Media usando montecarlo estratizado = 0.7858888667277559\n",
      "Media usando números complementarios = 0.7858888667277706\n"
     ]
    }
   ],
   "source": [
    "xi = lambda u:np.sqrt(1-x**2)\n",
    "N=tamano[3]\n",
    "\n",
    "\n",
    "# aproximar el valor de la integral usando montecarlo típico\n",
    "#u1=np.concatenate(r)#usando misma muestra\n",
    "u1 = np.random.rand(N)#grnerando la muestra\n",
    "f_u1 = list(map(xi,u1))\n",
    "media_montecarlo = np.mean(f_u1)\n",
    "#se necsita usar la misma muestra\n",
    "\n",
    "\n",
    "#aproximar por el montecarlo estratizado\n",
    "#estratos\n",
    "e1=int(round(N*.3,0))\n",
    "e2=int(round(N*.3,0))\n",
    "e3=int(round(N*.4,0))\n",
    "#e1\n",
    "r1 = np.random.uniform(0,0.6,e1)\n",
    "r2 = np.random.uniform(.6,.9,e2)\n",
    "r3 = np.random.uniform(.9,1,e3)\n",
    "r  = [r1,r2,r3]\n",
    "m  = range(len(r))  # Cantidad de estratos\n",
    "w  = [3/10/.6,3/10/.3,4/10/.1]\n",
    "#xi = list(map(lambda r:-np.log(r),r))\n",
    "x2=list(map(lambda r:np.array(list(map(xi,r))),r))\n",
    "muestras = list(map(lambda wi,xi:xi/wi,w,x2))\n",
    "\n",
    "mt_estrat=np.concatenate(muestras).mean()\n",
    "\n",
    "\n",
    "# Aproximación usando método de los números complementarios\n",
    "u2 = 1-u1\n",
    "#f_u2 = list(map(f,u2))\n",
    "f_u2 = list(map(xi,u2))\n",
    "media_complementario = (np.mean(f_u2)+media_montecarlo)/2\n",
    "\n",
    "print('Ejercicio para ',N,'muestras.')\n",
    "print('Valor de pi real para el periodo 0->1: ',piper)\n",
    "print('Media usando montecarlo estándar     =',media_montecarlo)\n",
    "print('Media usando montecarlo estratizado =',mt_estrat)\n",
    "print('Media usando números complementarios =',media_complementario)\n",
    "#da error de memoria"
   ]
  },
  {
   "cell_type": "markdown",
   "metadata": {},
   "source": [
    "**Valor de los ejercicios**\n",
    "- 1- 2 puntos\n",
    "- 2- 2 puntos\n",
    "- 3- 1 punto\n",
    "- 4- 1 punto\n",
    "- 5- 3 puntos\n",
    "- 6- 1 punto"
   ]
  },
  {
   "cell_type": "markdown",
   "metadata": {},
   "source": [
    "<script>\n",
    "  $(document).ready(function(){\n",
    "    $('div.prompt').hide();\n",
    "    $('div.back-to-top').hide();\n",
    "    $('nav#menubar').hide();\n",
    "    $('.breadcrumb').hide();\n",
    "    $('.hidden-print').hide();\n",
    "  });\n",
    "</script>\n",
    "\n",
    "<footer id=\"attribution\" style=\"float:right; color:#808080; background:#fff;\">\n",
    "Created with Jupyter by Oscar David Jaramillo Zuluaga.\n",
    "</footer>"
   ]
  }
 ],
 "metadata": {
  "kernelspec": {
   "display_name": "Python 3",
   "language": "python",
   "name": "python3"
  },
  "language_info": {
   "codemirror_mode": {
    "name": "ipython",
    "version": 3
   },
   "file_extension": ".py",
   "mimetype": "text/x-python",
   "name": "python",
   "nbconvert_exporter": "python",
   "pygments_lexer": "ipython3",
   "version": "3.6.5"
  }
 },
 "nbformat": 4,
 "nbformat_minor": 2
}
