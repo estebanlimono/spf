{
 "cells": [
  {
   "cell_type": "markdown",
   "metadata": {},
   "source": [
    "## Tarea 12 Limon Ochoa Esteban"
   ]
  },
  {
   "cell_type": "code",
   "execution_count": 7,
   "metadata": {},
   "outputs": [],
   "source": [
    "#librerias\n",
    "import matplotlib.pyplot as plt\n",
    "import numpy as np\n",
    "import scipy.stats as st     # Librería estadística\n",
    "from scipy.stats import triang\n",
    "from math import factorial as fac # Importo la operación factorial\n",
    "from scipy.special import comb # Importamos la función combinatoria\n",
    "import pandas as pd\n",
    "%matplotlib inline"
   ]
  },
  {
   "cell_type": "markdown",
   "metadata": {},
   "source": [
    "### Casos de estudio\n",
    "Se tiene entonces la variable aleatoria $T$ la cual representa la duración del proyecto en semanas con media $\\mu_p$ y varianza $\\sigma_p^2$ y $d$ representa la fecha límite de entrega del proyecto, la cual es de 47 semanas.\n",
    "1. Suponer que $T$ distribuye normal y responder cual es la probabilidad $P(T\\leq d)$."
   ]
  },
  {
   "cell_type": "code",
   "execution_count": 2,
   "metadata": {},
   "outputs": [
    {
     "name": "stdout",
     "output_type": "stream",
     "text": [
      "P(T<=d)= 0.8413447460685429\n"
     ]
    }
   ],
   "source": [
    "######### Caso de estudio 1 ################\n",
    "up = 44; sigma = np.sqrt(9); d = 47\n",
    "P = st.norm(up,sigma).cdf(d)\n",
    "print('P(T<=d)=',P)\n",
    "P2 = st.beta\n",
    "P3=st.alpha"
   ]
  },
  {
   "cell_type": "markdown",
   "metadata": {},
   "source": [
    ">## <font color = 'red'> Tarea\n",
    ">1.Suponer que $T$ distribuye beta donde la media es $\\mu_p$ y varianza $\\sigma_p^2$ y responder cual es la probabilidad $P(T\\leq d)$.\n",
    "    ![imagen.png](attachment:imagen.png)\n",
    "\n",
    ">2.Suponer que $T$ distribuye triangular donde el valor mas probable es $\\mu_p$ el valor pesimista es $p=49$ y el valor optimista es $o=40$ y responder cual es la probabilidad $P(T\\leq d)$.\n",
    "\n",
    ">3.Una vez respondido los dos numerales anteriores, suponer que cada actividad es dependiente y su dependencia es mostrada en la figura donde se nombran los procesos, además considere que la distribución de cada actividad distribuye beta. Partiendo de la dependencia de las actividades, generar 10000 escenarios diferentes para cada actividad y utilizar montecarlo para responder ¿Cuál es la probabilidad $P(T\\leq d)$. Comparar con el resultado obtenido 1 y comentar las diferencias (CONCLUIR)\n",
    "\n",
    ">4.Repetir el literal 3 pero en este caso usando una distribución triangular.\n",
    "\n",
    "> **Nota:** en el archivo PDF que les puse al principio de esta clase, hay una posible solución que les puede ayudar a la hora de hacer su suposiciones y su programación.\n",
    "\n",
    "## Parámetros de entrega\n",
    "Se habilitará un enlace en moodle donde deben de subir su cuaderno de python con la solución dada. La fecha límite de recepción será el lunes 8 de octubre a las 6 pm."
   ]
  },
  {
   "cell_type": "markdown",
   "metadata": {},
   "source": [
    "\n",
    ">1.Suponer que $T$ distribuye beta donde la media es $\\mu_p$ y varianza $\\sigma_p^2$ y responder cual es la probabilidad $P(T\\leq d)$."
   ]
  },
  {
   "cell_type": "markdown",
   "metadata": {},
   "source": [
    "Use el siguient link para ver como se distribuye alpha y beta\n",
    "https://stats.stackexchange.com/questions/12232/calculating-the-parameters-of-a-beta-distribution-using-the-mean-and-variance\n",
    ">https://es.wikipedia.org/wiki/Distribuci%C3%B3n_beta"
   ]
  },
  {
   "cell_type": "code",
   "execution_count": 9,
   "metadata": {},
   "outputs": [
    {
     "name": "stdout",
     "output_type": "stream",
     "text": [
      "Bajo la distribucion gamma la probabilidad de que acabe en meno de  47 dias es de:  70.13 %\n"
     ]
    },
    {
     "name": "stderr",
     "output_type": "stream",
     "text": [
      "C:\\ProgramData\\Anaconda3\\lib\\site-packages\\matplotlib\\axes\\_axes.py:6462: UserWarning: The 'normed' kwarg is deprecated, and has been replaced by the 'density' kwarg.\n",
      "  warnings.warn(\"The 'normed' kwarg is deprecated, and has been \"\n"
     ]
    },
    {
     "data": {
      "text/plain": [
       "(array([0.00589356, 0.01339445, 0.03964757, 0.06268602, 0.08893915,\n",
       "        0.1216216 , 0.1435885 , 0.15162517, 0.1655554 , 0.16877007,\n",
       "        0.16769851, 0.17144896, 0.16126917, 0.14519583, 0.14626739,\n",
       "        0.13126561, 0.11251338, 0.10983449, 0.09161804, 0.08572448,\n",
       "        0.06268602, 0.05893558, 0.0487558 , 0.04179068, 0.03964757,\n",
       "        0.03053935, 0.01660912, 0.01982379, 0.01393023, 0.00803667,\n",
       "        0.01339445, 0.00750089, 0.00750089, 0.00428622, 0.00803667,\n",
       "        0.00321467, 0.00321467, 0.00053578, 0.        , 0.00160733,\n",
       "        0.00107156, 0.00107156, 0.00053578, 0.00053578, 0.        ,\n",
       "        0.        , 0.        , 0.        , 0.00053578, 0.00053578]),\n",
       " array([39.0583294 , 39.43161835, 39.80490729, 40.17819624, 40.55148519,\n",
       "        40.92477413, 41.29806308, 41.67135203, 42.04464098, 42.41792992,\n",
       "        42.79121887, 43.16450782, 43.53779677, 43.91108571, 44.28437466,\n",
       "        44.65766361, 45.03095256, 45.4042415 , 45.77753045, 46.1508194 ,\n",
       "        46.52410835, 46.89739729, 47.27068624, 47.64397519, 48.01726414,\n",
       "        48.39055308, 48.76384203, 49.13713098, 49.51041993, 49.88370887,\n",
       "        50.25699782, 50.63028677, 51.00357571, 51.37686466, 51.75015361,\n",
       "        52.12344256, 52.4967315 , 52.87002045, 53.2433094 , 53.61659835,\n",
       "        53.98988729, 54.36317624, 54.73646519, 55.10975414, 55.48304308,\n",
       "        55.85633203, 56.22962098, 56.60290993, 56.97619887, 57.34948782,\n",
       "        57.72277677]),\n",
       " <a list of 50 Patch objects>)"
      ]
     },
     "execution_count": 9,
     "metadata": {},
     "output_type": "execute_result"
    },
    {
     "data": {
      "image/png": "[encoded data removed]",
      "text/plain": [
       "<Figure size 432x288 with 1 Axes>"
      ]
     },
     "metadata": {},
     "output_type": "display_data"
    }
   ],
   "source": [
    "#1\n",
    "alp=6\n",
    "mu=44\n",
    "bet=1\n",
    "d=47\n",
    "P=st.gamma.cdf(d,mu-alp,alp,bet)\n",
    "print('Bajo la distribucion gamma la probabilidad de que acabe en meno de ',d,'dias es de: ',round(P*100,2),'%')\n",
    "#se encuentra en dirtribucion gamma como caso beta\n",
    "\n",
    "dist=st.gamma.rvs(alp,loc=mu-alp,scale=bet,size=5000)\n",
    "plt.hist(dist,50,normed=True)"
   ]
  },
  {
   "cell_type": "markdown",
   "metadata": {},
   "source": [
    ">2.Suponer que $T$ distribuye triangular donde el valor mas probable es $\\mu_p$ el valor pesimista es $p=49$ y el valor optimista es $o=40$ y responder cual es la probabilidad $P(T\\leq d)$.\n"
   ]
  },
  {
   "cell_type": "code",
   "execution_count": 4,
   "metadata": {},
   "outputs": [
    {
     "data": {
      "image/png": "[encoded data removed]",
      "text/plain": [
       "<Figure size 432x288 with 1 Axes>"
      ]
     },
     "metadata": {},
     "output_type": "display_data"
    },
    {
     "name": "stdout",
     "output_type": "stream",
     "text": [
      "Bajo la distribucion triangular la probabilidad de que acabe en meno de  47 dias es de:  91.11 %\n"
     ]
    }
   ],
   "source": [
    "#2\n",
    "d=47\n",
    "p=49\n",
    "o=40\n",
    "mean=44\n",
    "x=np.arange(o,p,0.1)\n",
    "plt.hist(st.triang.rvs(((mean-o)/(p-o)),o,p-o,1000),density=True,bins=50)\n",
    "plt.plot(x,st.triang.pdf(x,((mean-o)/(p-o)),o,p-o))\n",
    "plt.show()\n",
    "prob=st.triang.cdf(d,((mean-o)/(p-o)),o,p-o)\n",
    "print('Bajo la distribucion triangular la probabilidad de que acabe en meno de ',d,'dias es de: ',round(prob*100,2),'%')"
   ]
  },
  {
   "cell_type": "markdown",
   "metadata": {},
   "source": [
    ">3.Una vez respondido los dos numerales anteriores, suponer que cada actividad es dependiente y su dependencia es mostrada en la figura donde se nombran los procesos, además considere que la distribución de cada actividad distribuye beta. Partiendo de la dependencia de las actividades, generar 10000 escenarios diferentes para cada actividad y utilizar montecarlo para responder ¿Cuál es la probabilidad $P(T\\leq d)$. Comparar con el resultado obtenido 1 y comentar las diferencias (CONCLUIR)"
   ]
  },
  {
   "cell_type": "code",
   "execution_count": 28,
   "metadata": {},
   "outputs": [
    {
     "data": {
      "text/plain": [
       "0       42.555588\n",
       "1       51.452946\n",
       "2       41.058911\n",
       "3       39.504556\n",
       "4       44.784995\n",
       "5       40.086704\n",
       "6       40.395974\n",
       "7       40.855773\n",
       "8       41.715594\n",
       "9       37.574346\n",
       "10      39.645410\n",
       "11      42.243122\n",
       "12      44.440360\n",
       "13      39.373184\n",
       "14      43.462811\n",
       "15      39.212512\n",
       "16      40.233186\n",
       "17      41.555626\n",
       "18      44.675428\n",
       "19      41.226016\n",
       "20      46.001397\n",
       "21      41.274350\n",
       "22      43.547874\n",
       "23      38.806924\n",
       "24      38.957949\n",
       "25      46.105463\n",
       "26      41.149561\n",
       "27      46.292381\n",
       "28      40.669360\n",
       "29      42.686349\n",
       "          ...    \n",
       "9970    44.813609\n",
       "9971    44.872992\n",
       "9972    38.693303\n",
       "9973    38.171290\n",
       "9974    42.507763\n",
       "9975    40.560782\n",
       "9976    44.684965\n",
       "9977    42.005136\n",
       "9978    45.229312\n",
       "9979    40.295613\n",
       "9980    41.955416\n",
       "9981    39.728702\n",
       "9982    38.567814\n",
       "9983    42.115483\n",
       "9984    45.184145\n",
       "9985    41.658031\n",
       "9986    44.123381\n",
       "9987    38.138863\n",
       "9988    42.948963\n",
       "9989    41.009564\n",
       "9990    40.832578\n",
       "9991    37.476233\n",
       "9992    43.149711\n",
       "9993    44.256437\n",
       "9994    40.255857\n",
       "9995    40.780367\n",
       "9996    43.042191\n",
       "9997    39.787445\n",
       "9998    44.628953\n",
       "9999    42.824034\n",
       "Length: 10000, dtype: float64"
      ]
     },
     "execution_count": 28,
     "metadata": {},
     "output_type": "execute_result"
    }
   ],
   "source": [
    "sim=10000\n",
    "bet=1\n",
    "# st.gamma.rvs(alp,loc=mu-alp,scale=bet,size=5000)\n",
    "a=pd.DataFrame(st.gamma.rvs(1/3,loc=2-1/3,scale=bet,size=sim))\n",
    "b=pd.DataFrame(st.gamma.rvs(1,loc=(2-1),scale=bet,size=sim))\n",
    "c=pd.DataFrame(st.gamma.rvs((2),loc=10-2,scale=bet,size=sim))\n",
    "e=pd.DataFrame(st.gamma.rvs((2/3),loc=4-(2/3),scale=bet,size=sim))\n",
    "f=pd.DataFrame(st.gamma.rvs((1),loc=5-1,scale=bet,size=sim))\n",
    "j=pd.DataFrame(st.gamma.rvs((1),loc=8-1,scale=bet,size=sim))\n",
    "l=pd.DataFrame(st.gamma.rvs((1),loc=5-1,scale=bet,size=sim))\n",
    "n=pd.DataFrame(st.gamma.rvs((2/3),loc=6-(2/3),scale=bet,size=sim))\n",
    "#concatenar los datos como en clase 13\n",
    "todos=pd.concat([a,b,c,e,f,j,l,n],axis=1)\n",
    "sumat=todos.sum(axis=1)\n",
    "sumat"
   ]
  },
  {
   "cell_type": "markdown",
   "metadata": {},
   "source": [
    ">4.Repetir el literal 3 pero en este caso usando una distribución triangular."
   ]
  },
  {
   "cell_type": "code",
   "execution_count": 33,
   "metadata": {},
   "outputs": [
    {
     "data": {
      "text/plain": [
       "0      79.493260\n",
       "1      82.235985\n",
       "2      80.225712\n",
       "3      87.879425\n",
       "4      85.597929\n",
       "5      79.554666\n",
       "6      74.217784\n",
       "7      80.118029\n",
       "8      86.411117\n",
       "9      83.237843\n",
       "10     83.920473\n",
       "11     86.730024\n",
       "12     83.959996\n",
       "13     87.674944\n",
       "14     77.117399\n",
       "15     75.766858\n",
       "16     78.468434\n",
       "17     88.948840\n",
       "18     78.445427\n",
       "19     75.252651\n",
       "20     80.850838\n",
       "21     94.095352\n",
       "22     87.598629\n",
       "23     78.323958\n",
       "24     76.859932\n",
       "25     86.593277\n",
       "26     84.688727\n",
       "27     81.602692\n",
       "28     84.924042\n",
       "29     88.929976\n",
       "         ...    \n",
       "970    78.042490\n",
       "971    84.875694\n",
       "972    94.612813\n",
       "973    78.446928\n",
       "974    82.732858\n",
       "975    80.184365\n",
       "976    90.623969\n",
       "977    78.625479\n",
       "978    88.901136\n",
       "979    83.920735\n",
       "980    95.617372\n",
       "981    80.287954\n",
       "982    85.165748\n",
       "983    84.929363\n",
       "984    79.908966\n",
       "985    75.712395\n",
       "986    79.507030\n",
       "987    79.702935\n",
       "988    89.672665\n",
       "989    86.864616\n",
       "990    89.490590\n",
       "991    83.359323\n",
       "992    82.563881\n",
       "993    87.136214\n",
       "994    83.325606\n",
       "995    82.454769\n",
       "996    77.147700\n",
       "997    79.014523\n",
       "998    81.999636\n",
       "999    75.276431\n",
       "Length: 1000, dtype: float64"
      ]
     },
     "execution_count": 33,
     "metadata": {},
     "output_type": "execute_result"
    }
   ],
   "source": [
    "sim=1000\n",
    "a,b,c=1,2,3\n",
    "fa=pd.DataFrame(st.triang.rvs((b-a)/(c-a),a,c-a,size=sim))\n",
    "a,b,c=2,3.5,8\n",
    "fb=pd.DataFrame(st.triang.rvs((b-a)/(c-a),a,c-a,size=sim))\n",
    "a,b,c=6,9,18\n",
    "fc=pd.DataFrame(st.triang.rvs((b-a)/(c-a),a,c-a,size=sim))\n",
    "a,b,c=4,8.5,10\n",
    "d=pd.DataFrame(st.triang.rvs((b-a)/(c-a),a,c-a,size=sim))\n",
    "a,b,c=1,4.5,5\n",
    "e=pd.DataFrame(st.triang.rvs((b-a)/(c-a),a,c-a,size=sim))\n",
    "a,b,c=4,4,10\n",
    "f=pd.DataFrame(st.triang.rvs((b-a)/(c-a),a,c-a,size=sim))\n",
    "a,b,c=5,6.5,11\n",
    "g=pd.DataFrame(st.triang.rvs((b-a)/(c-a),a,c-a,size=sim))\n",
    "a,b,c=5,8,17\n",
    "h=pd.DataFrame(st.triang.rvs((b-a)/(c-a),a,c-a,size=sim))\n",
    "a,b,c=3,7.5,9\n",
    "i=pd.DataFrame(st.triang.rvs((b-a)/(c-a),a,c-a,size=sim))\n",
    "a,b,c=3,9,9\n",
    "j=pd.DataFrame(st.triang.rvs((b-a)/(c-a),a,c-a,size=sim))\n",
    "a,b,c=4,4,4.0000001\n",
    "#por aproximacion\n",
    "k=pd.DataFrame(st.triang.rvs((b-a)/(c-a),a,c-a,size=sim))\n",
    "a,b,c=1,5.5,7\n",
    "l=pd.DataFrame(st.triang.rvs((b-a)/(c-a),a,c-a,size=sim))\n",
    "a,b,c=1,2,3\n",
    "m=pd.DataFrame(st.triang.rvs((b-a)/(c-a),a,c-a,size=sim))\n",
    "a,b,c=5,5.5,9\n",
    "n=pd.DataFrame(st.triang.rvs((b-a)/(c-a),a,c-a,size=sim))\n",
    "todos=pd.concat([fa,fb,fc,d,e,f,g,h,i,j,k,l,m,n],axis=1)\n",
    "sumat=todos.sum(axis=1)\n",
    "sumat"
   ]
  },
  {
   "cell_type": "code",
   "execution_count": null,
   "metadata": {},
   "outputs": [],
   "source": []
  }
 ],
 "metadata": {
  "kernelspec": {
   "display_name": "Python 3",
   "language": "python",
   "name": "python3"
  },
  "language_info": {
   "codemirror_mode": {
    "name": "ipython",
    "version": 3
   },
   "file_extension": ".py",
   "mimetype": "text/x-python",
   "name": "python",
   "nbconvert_exporter": "python",
   "pygments_lexer": "ipython3",
   "version": "3.6.5"
  }
 },
 "nbformat": 4,
 "nbformat_minor": 2
}
