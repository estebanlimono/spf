{
 "cells": [
  {
   "cell_type": "markdown",
   "metadata": {},
   "source": [
    "<img style=\"float: right; margin: 0px 0px 15px 15px;\" src=\"https://encrypted-tbn0.gstatic.com/images?q=tbn:ANd9GcSQt6eQo8JPYzYO4p6WmxLtccdtJ4X8WR6GzVVKbsMjyGvUDEn1mg\" width=\"300px\" height=\"100px\" />\n",
    "\n",
    "# Trabajando con opciones"
   ]
  },
  {
   "cell_type": "markdown",
   "metadata": {},
   "source": [
    "Una opción puede negociarse en el mercado secundario por lo que es importante determinar su valor $V_t$ para cada tiempo $t\\in [0, T]$. La ganancia que obtiene quién adquiere la opción se llama función de pago o \"payoff\" y claramente depende del valor del subyacente. \n",
    "\n",
    "Hay una gran variedad de opciones en el mercado y éstas se clasiflcan según su función de pago y la forma en que pueden ejercerse.  Las opciones que tienen como función de pago a\n",
    "$$ P(S(t),t)=max\\{S(T)-K,0\\} \\rightarrow \\text{En el caso de Call}$$ \n",
    "$$ P(S(t),t)=max\\{K-S(T),0\\} \\rightarrow \\text{En el caso de Put}$$ \n",
    "se llaman opciones **Vainilla**, con $h:[0,\\infty) \\to [0,\\infty)$.\n",
    "\n",
    "La opción se llama **europea** si puede ejercerse sólo en la fecha de vencimiento.\n",
    "\n",
    "Se dice que una opción es **americana** si puede ejercerse en cualquier momento antes o en la fecha de vencimiento.\n",
    "\n",
    "Una opción compleja popular son las llamadas **opciones asiáticas** cuyos pagos dependen de todas las trayectorias del precio de los activos subyacentes. Las opciones cuyos pagos dependen de las trayectorias de los precios de los activos subyacentes se denominan opciones dependientes de la ruta.\n",
    "\n",
    "Principalmente, se puede resumir que las dos razones con más peso de importancia para utilizar opciones son el **aseguramiento** y la **especulación**.\n",
    "\n",
    "## Opciones Plan Vainilla: opción de compra y opción de venta europea\n",
    "\n",
    "Una opción vainilla o estándar es una opción normal de compra o venta que no tiene características especiales o inusuales. Puede ser para tamaños y vencimientos estandarizados, y negociarse en un intercambio.\n",
    "En comparación con otras estructuras de opciones, las opciones de vanilla no son sofisticadas o complicadas.\n"
   ]
  },
  {
   "cell_type": "markdown",
   "metadata": {},
   "source": [
    "## 1. ¿Cómo descargar datos de opciones?"
   ]
  },
  {
   "cell_type": "code",
   "execution_count": 1,
   "metadata": {},
   "outputs": [],
   "source": [
    "#importar los paquetes que se van a usar\n",
    "import pandas as pd\n",
    "pd.core.common.is_list_like = pd.api.types.is_list_like# hack para que jale pd data reader\n",
    "import pandas_datareader.data as web\n",
    "import numpy as np\n",
    "import datetime\n",
    "import matplotlib.pyplot as plt\n",
    "import scipy.stats as st\n",
    "import seaborn as sns\n",
    "%matplotlib inline\n",
    "#algunas opciones para Pandas\n",
    "pd.set_option('display.notebook_repr_html', True)\n",
    "pd.set_option('display.max_columns', 6)\n",
    "pd.set_option('display.max_rows', 10)\n",
    "pd.set_option('display.width', 78)\n",
    "pd.set_option('precision', 3)"
   ]
  },
  {
   "cell_type": "markdown",
   "metadata": {},
   "source": [
    "Usando el paquete `pandas_datareader` también podemos descargar datos de opciones. Por ejemplo, descarguemos los datos de las opciones cuyo activo subyacente son las acciones de Apple"
   ]
  },
  {
   "cell_type": "code",
   "execution_count": 2,
   "metadata": {},
   "outputs": [
    {
     "data": {
      "text/html": [
       "<div>\n",
       "<style scoped>\n",
       "    .dataframe tbody tr th:only-of-type {\n",
       "        vertical-align: middle;\n",
       "    }\n",
       "\n",
       "    .dataframe tbody tr th {\n",
       "        vertical-align: top;\n",
       "    }\n",
       "\n",
       "    .dataframe thead th {\n",
       "        text-align: right;\n",
       "    }\n",
       "</style>\n",
       "<table border=\"1\" class=\"dataframe\">\n",
       "  <thead>\n",
       "    <tr style=\"text-align: right;\">\n",
       "      <th></th>\n",
       "      <th>Strike</th>\n",
       "      <th>Type</th>\n",
       "      <th>Symbol</th>\n",
       "      <th>...</th>\n",
       "      <th>Quote_Time</th>\n",
       "      <th>Last_Trade_Date</th>\n",
       "      <th>JSON</th>\n",
       "    </tr>\n",
       "    <tr>\n",
       "      <th>Expiry</th>\n",
       "      <th></th>\n",
       "      <th></th>\n",
       "      <th></th>\n",
       "      <th></th>\n",
       "      <th></th>\n",
       "      <th></th>\n",
       "      <th></th>\n",
       "    </tr>\n",
       "  </thead>\n",
       "  <tbody>\n",
       "    <tr>\n",
       "      <th>2019-01-18</th>\n",
       "      <td>2.5</td>\n",
       "      <td>call</td>\n",
       "      <td>AAPL190118C00002500</td>\n",
       "      <td>...</td>\n",
       "      <td>2018-11-02 20:00:02</td>\n",
       "      <td>2018-10-15 19:47:03</td>\n",
       "      <td>{'contractSymbol': 'AAPL190118C00002500', 'str...</td>\n",
       "    </tr>\n",
       "    <tr>\n",
       "      <th>2019-04-18</th>\n",
       "      <td>2.5</td>\n",
       "      <td>call</td>\n",
       "      <td>AAPL190418C00002500</td>\n",
       "      <td>...</td>\n",
       "      <td>2018-11-02 20:00:02</td>\n",
       "      <td>2018-09-22 03:52:17</td>\n",
       "      <td>{'contractSymbol': 'AAPL190418C00002500', 'str...</td>\n",
       "    </tr>\n",
       "    <tr>\n",
       "      <th>2019-01-18</th>\n",
       "      <td>5.0</td>\n",
       "      <td>call</td>\n",
       "      <td>AAPL190118C00005000</td>\n",
       "      <td>...</td>\n",
       "      <td>2018-11-02 20:00:02</td>\n",
       "      <td>2018-09-08 03:58:48</td>\n",
       "      <td>{'contractSymbol': 'AAPL190118C00005000', 'str...</td>\n",
       "    </tr>\n",
       "    <tr>\n",
       "      <th>2019-01-18</th>\n",
       "      <td>7.5</td>\n",
       "      <td>put</td>\n",
       "      <td>AAPL190118P00007500</td>\n",
       "      <td>...</td>\n",
       "      <td>2018-11-02 20:00:02</td>\n",
       "      <td>2018-09-22 03:52:38</td>\n",
       "      <td>{'contractSymbol': 'AAPL190118P00007500', 'str...</td>\n",
       "    </tr>\n",
       "    <tr>\n",
       "      <th>2019-01-18</th>\n",
       "      <td>10.0</td>\n",
       "      <td>call</td>\n",
       "      <td>AAPL190118C00010000</td>\n",
       "      <td>...</td>\n",
       "      <td>2018-11-02 20:00:02</td>\n",
       "      <td>2018-10-30 19:29:06</td>\n",
       "      <td>{'contractSymbol': 'AAPL190118C00010000', 'str...</td>\n",
       "    </tr>\n",
       "    <tr>\n",
       "      <th>...</th>\n",
       "      <td>...</td>\n",
       "      <td>...</td>\n",
       "      <td>...</td>\n",
       "      <td>...</td>\n",
       "      <td>...</td>\n",
       "      <td>...</td>\n",
       "      <td>...</td>\n",
       "    </tr>\n",
       "    <tr>\n",
       "      <th>2019-04-18</th>\n",
       "      <td>410.0</td>\n",
       "      <td>call</td>\n",
       "      <td>AAPL190418C00410000</td>\n",
       "      <td>...</td>\n",
       "      <td>2018-11-02 20:00:02</td>\n",
       "      <td>2018-10-18 15:46:39</td>\n",
       "      <td>{'contractSymbol': 'AAPL190418C00410000', 'str...</td>\n",
       "    </tr>\n",
       "    <tr>\n",
       "      <th>2019-04-18</th>\n",
       "      <td>420.0</td>\n",
       "      <td>call</td>\n",
       "      <td>AAPL190418C00420000</td>\n",
       "      <td>...</td>\n",
       "      <td>2018-11-02 20:00:02</td>\n",
       "      <td>2018-10-26 14:59:37</td>\n",
       "      <td>{'contractSymbol': 'AAPL190418C00420000', 'str...</td>\n",
       "    </tr>\n",
       "    <tr>\n",
       "      <th>2019-04-18</th>\n",
       "      <td>420.0</td>\n",
       "      <td>put</td>\n",
       "      <td>AAPL190418P00420000</td>\n",
       "      <td>...</td>\n",
       "      <td>2018-11-02 20:00:02</td>\n",
       "      <td>2018-11-02 14:23:03</td>\n",
       "      <td>{'contractSymbol': 'AAPL190418P00420000', 'str...</td>\n",
       "    </tr>\n",
       "    <tr>\n",
       "      <th>2019-04-18</th>\n",
       "      <td>425.0</td>\n",
       "      <td>call</td>\n",
       "      <td>AAPL190418C00425000</td>\n",
       "      <td>...</td>\n",
       "      <td>2018-11-02 20:00:02</td>\n",
       "      <td>2018-11-02 13:30:50</td>\n",
       "      <td>{'contractSymbol': 'AAPL190418C00425000', 'str...</td>\n",
       "    </tr>\n",
       "    <tr>\n",
       "      <th>2019-04-18</th>\n",
       "      <td>425.0</td>\n",
       "      <td>put</td>\n",
       "      <td>AAPL190418P00425000</td>\n",
       "      <td>...</td>\n",
       "      <td>2018-11-02 20:00:02</td>\n",
       "      <td>2018-10-29 19:49:02</td>\n",
       "      <td>{'contractSymbol': 'AAPL190418P00425000', 'str...</td>\n",
       "    </tr>\n",
       "  </tbody>\n",
       "</table>\n",
       "<p>882 rows × 18 columns</p>\n",
       "</div>"
      ],
      "text/plain": [
       "            Strike  Type               Symbol  \\\n",
       "Expiry                                          \n",
       "2019-01-18     2.5  call  AAPL190118C00002500   \n",
       "2019-04-18     2.5  call  AAPL190418C00002500   \n",
       "2019-01-18     5.0  call  AAPL190118C00005000   \n",
       "2019-01-18     7.5   put  AAPL190118P00007500   \n",
       "2019-01-18    10.0  call  AAPL190118C00010000   \n",
       "...            ...   ...                  ...   \n",
       "2019-04-18   410.0  call  AAPL190418C00410000   \n",
       "2019-04-18   420.0  call  AAPL190418C00420000   \n",
       "2019-04-18   420.0   put  AAPL190418P00420000   \n",
       "2019-04-18   425.0  call  AAPL190418C00425000   \n",
       "2019-04-18   425.0   put  AAPL190418P00425000   \n",
       "\n",
       "                                  ...                          \\\n",
       "Expiry                            ...                           \n",
       "2019-01-18                        ...                           \n",
       "2019-04-18                        ...                           \n",
       "2019-01-18                        ...                           \n",
       "2019-01-18                        ...                           \n",
       "2019-01-18                        ...                           \n",
       "...                               ...                           \n",
       "2019-04-18                        ...                           \n",
       "2019-04-18                        ...                           \n",
       "2019-04-18                        ...                           \n",
       "2019-04-18                        ...                           \n",
       "2019-04-18                        ...                           \n",
       "\n",
       "                    Quote_Time     Last_Trade_Date  \\\n",
       "Expiry                                               \n",
       "2019-01-18 2018-11-02 20:00:02 2018-10-15 19:47:03   \n",
       "2019-04-18 2018-11-02 20:00:02 2018-09-22 03:52:17   \n",
       "2019-01-18 2018-11-02 20:00:02 2018-09-08 03:58:48   \n",
       "2019-01-18 2018-11-02 20:00:02 2018-09-22 03:52:38   \n",
       "2019-01-18 2018-11-02 20:00:02 2018-10-30 19:29:06   \n",
       "...                        ...                 ...   \n",
       "2019-04-18 2018-11-02 20:00:02 2018-10-18 15:46:39   \n",
       "2019-04-18 2018-11-02 20:00:02 2018-10-26 14:59:37   \n",
       "2019-04-18 2018-11-02 20:00:02 2018-11-02 14:23:03   \n",
       "2019-04-18 2018-11-02 20:00:02 2018-11-02 13:30:50   \n",
       "2019-04-18 2018-11-02 20:00:02 2018-10-29 19:49:02   \n",
       "\n",
       "                                                         JSON  \n",
       "Expiry                                                         \n",
       "2019-01-18  {'contractSymbol': 'AAPL190118C00002500', 'str...  \n",
       "2019-04-18  {'contractSymbol': 'AAPL190418C00002500', 'str...  \n",
       "2019-01-18  {'contractSymbol': 'AAPL190118C00005000', 'str...  \n",
       "2019-01-18  {'contractSymbol': 'AAPL190118P00007500', 'str...  \n",
       "2019-01-18  {'contractSymbol': 'AAPL190118C00010000', 'str...  \n",
       "...                                                       ...  \n",
       "2019-04-18  {'contractSymbol': 'AAPL190418C00410000', 'str...  \n",
       "2019-04-18  {'contractSymbol': 'AAPL190418C00420000', 'str...  \n",
       "2019-04-18  {'contractSymbol': 'AAPL190418P00420000', 'str...  \n",
       "2019-04-18  {'contractSymbol': 'AAPL190418C00425000', 'str...  \n",
       "2019-04-18  {'contractSymbol': 'AAPL190418P00425000', 'str...  \n",
       "\n",
       "[882 rows x 18 columns]"
      ]
     },
     "execution_count": 2,
     "metadata": {},
     "output_type": "execute_result"
    }
   ],
   "source": [
    "aapl = web.YahooOptions('AAPL')\n",
    "aapl_opt = aapl.get_all_data().reset_index()\n",
    "aapl_opt.set_index('Expiry')\n",
    "# aapl\n",
    "# closes = web.YahooDailyReader(ticker, start_date, end_date).read().sort_index('major_axis')"
   ]
  },
  {
   "cell_type": "code",
   "execution_count": 3,
   "metadata": {},
   "outputs": [
    {
     "data": {
      "text/plain": [
       "{'contractSymbol': 'AAPL200117C00140000',\n",
       " 'strike': 140.0,\n",
       " 'currency': 'USD',\n",
       " 'lastPrice': 71.65,\n",
       " 'change': -12.349998,\n",
       " 'percentChange': -14.702379,\n",
       " 'volume': 26,\n",
       " 'openInterest': 5240,\n",
       " 'bid': 70.0,\n",
       " 'ask': 72.35,\n",
       " 'contractSize': 'REGULAR',\n",
       " 'expiration': 1579219200,\n",
       " 'lastTradeDate': 1541188429,\n",
       " 'impliedVolatility': 0.34348190704345705,\n",
       " 'inTheMoney': True}"
      ]
     },
     "execution_count": 3,
     "metadata": {},
     "output_type": "execute_result"
    }
   ],
   "source": [
    "# aapl_opt.loc[0, 'JSON']\n",
    "aapl_opt.loc[200, 'JSON']"
   ]
  },
  {
   "cell_type": "markdown",
   "metadata": {},
   "source": [
    "Una vez tenemos la información, podemos consultar de qué tipo son las opciones"
   ]
  },
  {
   "cell_type": "code",
   "execution_count": 4,
   "metadata": {},
   "outputs": [
    {
     "data": {
      "text/plain": [
       "0      call\n",
       "1      call\n",
       "2      call\n",
       "3       put\n",
       "4      call\n",
       "       ... \n",
       "877    call\n",
       "878    call\n",
       "879     put\n",
       "880    call\n",
       "881     put\n",
       "Name: Type, Length: 882, dtype: object"
      ]
     },
     "execution_count": 4,
     "metadata": {},
     "output_type": "execute_result"
    }
   ],
   "source": [
    "aapl_opt.loc[:, 'Type']"
   ]
  },
  {
   "cell_type": "markdown",
   "metadata": {},
   "source": [
    "o en que fecha expiran"
   ]
  },
  {
   "cell_type": "code",
   "execution_count": 5,
   "metadata": {},
   "outputs": [
    {
     "data": {
      "text/plain": [
       "0     2019-01-18\n",
       "1     2019-04-18\n",
       "2     2019-01-18\n",
       "3     2019-01-18\n",
       "4     2019-01-18\n",
       "         ...    \n",
       "877   2019-04-18\n",
       "878   2019-04-18\n",
       "879   2019-04-18\n",
       "880   2019-04-18\n",
       "881   2019-04-18\n",
       "Name: Expiry, Length: 882, dtype: datetime64[ns]"
      ]
     },
     "execution_count": 5,
     "metadata": {},
     "output_type": "execute_result"
    }
   ],
   "source": [
    "aapl_opt.loc[:, 'Expiry']"
   ]
  },
  {
   "cell_type": "markdown",
   "metadata": {},
   "source": [
    "Por otra parte, podríamos querer consultar todas las opciones de compra (call) que expiran en cierta fecha (2019-04-18)"
   ]
  },
  {
   "cell_type": "code",
   "execution_count": 6,
   "metadata": {},
   "outputs": [
    {
     "data": {
      "text/html": [
       "<div>\n",
       "<style scoped>\n",
       "    .dataframe tbody tr th:only-of-type {\n",
       "        vertical-align: middle;\n",
       "    }\n",
       "\n",
       "    .dataframe tbody tr th {\n",
       "        vertical-align: top;\n",
       "    }\n",
       "\n",
       "    .dataframe thead th {\n",
       "        text-align: right;\n",
       "    }\n",
       "</style>\n",
       "<table border=\"1\" class=\"dataframe\">\n",
       "  <thead>\n",
       "    <tr style=\"text-align: right;\">\n",
       "      <th></th>\n",
       "      <th>Strike</th>\n",
       "      <th>Expiry</th>\n",
       "      <th>Type</th>\n",
       "      <th>...</th>\n",
       "      <th>Quote_Time</th>\n",
       "      <th>Last_Trade_Date</th>\n",
       "      <th>JSON</th>\n",
       "    </tr>\n",
       "  </thead>\n",
       "  <tbody>\n",
       "    <tr>\n",
       "      <th>1</th>\n",
       "      <td>2.5</td>\n",
       "      <td>2019-04-18</td>\n",
       "      <td>call</td>\n",
       "      <td>...</td>\n",
       "      <td>2018-11-02 20:00:02</td>\n",
       "      <td>2018-09-22 03:52:17</td>\n",
       "      <td>{'contractSymbol': 'AAPL190418C00002500', 'str...</td>\n",
       "    </tr>\n",
       "    <tr>\n",
       "      <th>22</th>\n",
       "      <td>60.0</td>\n",
       "      <td>2019-04-18</td>\n",
       "      <td>call</td>\n",
       "      <td>...</td>\n",
       "      <td>2018-11-02 20:00:02</td>\n",
       "      <td>2018-09-01 03:55:05</td>\n",
       "      <td>{'contractSymbol': 'AAPL190418C00060000', 'str...</td>\n",
       "    </tr>\n",
       "    <tr>\n",
       "      <th>26</th>\n",
       "      <td>65.0</td>\n",
       "      <td>2019-04-18</td>\n",
       "      <td>call</td>\n",
       "      <td>...</td>\n",
       "      <td>2018-11-02 20:00:02</td>\n",
       "      <td>2018-09-01 03:55:05</td>\n",
       "      <td>{'contractSymbol': 'AAPL190418C00065000', 'str...</td>\n",
       "    </tr>\n",
       "    <tr>\n",
       "      <th>64</th>\n",
       "      <td>95.0</td>\n",
       "      <td>2019-04-18</td>\n",
       "      <td>call</td>\n",
       "      <td>...</td>\n",
       "      <td>2018-11-02 20:00:02</td>\n",
       "      <td>2018-10-13 03:48:47</td>\n",
       "      <td>{'contractSymbol': 'AAPL190418C00095000', 'str...</td>\n",
       "    </tr>\n",
       "    <tr>\n",
       "      <th>79</th>\n",
       "      <td>100.0</td>\n",
       "      <td>2019-04-18</td>\n",
       "      <td>call</td>\n",
       "      <td>...</td>\n",
       "      <td>2018-11-02 20:00:02</td>\n",
       "      <td>2018-10-08 15:25:47</td>\n",
       "      <td>{'contractSymbol': 'AAPL190418C00100000', 'str...</td>\n",
       "    </tr>\n",
       "    <tr>\n",
       "      <th>...</th>\n",
       "      <td>...</td>\n",
       "      <td>...</td>\n",
       "      <td>...</td>\n",
       "      <td>...</td>\n",
       "      <td>...</td>\n",
       "      <td>...</td>\n",
       "      <td>...</td>\n",
       "    </tr>\n",
       "    <tr>\n",
       "      <th>875</th>\n",
       "      <td>400.0</td>\n",
       "      <td>2019-04-18</td>\n",
       "      <td>call</td>\n",
       "      <td>...</td>\n",
       "      <td>2018-11-02 20:00:02</td>\n",
       "      <td>2018-11-02 19:56:28</td>\n",
       "      <td>{'contractSymbol': 'AAPL190418C00400000', 'str...</td>\n",
       "    </tr>\n",
       "    <tr>\n",
       "      <th>876</th>\n",
       "      <td>405.0</td>\n",
       "      <td>2019-04-18</td>\n",
       "      <td>call</td>\n",
       "      <td>...</td>\n",
       "      <td>2018-11-02 20:00:02</td>\n",
       "      <td>2018-10-05 15:02:57</td>\n",
       "      <td>{'contractSymbol': 'AAPL190418C00405000', 'str...</td>\n",
       "    </tr>\n",
       "    <tr>\n",
       "      <th>877</th>\n",
       "      <td>410.0</td>\n",
       "      <td>2019-04-18</td>\n",
       "      <td>call</td>\n",
       "      <td>...</td>\n",
       "      <td>2018-11-02 20:00:02</td>\n",
       "      <td>2018-10-18 15:46:39</td>\n",
       "      <td>{'contractSymbol': 'AAPL190418C00410000', 'str...</td>\n",
       "    </tr>\n",
       "    <tr>\n",
       "      <th>878</th>\n",
       "      <td>420.0</td>\n",
       "      <td>2019-04-18</td>\n",
       "      <td>call</td>\n",
       "      <td>...</td>\n",
       "      <td>2018-11-02 20:00:02</td>\n",
       "      <td>2018-10-26 14:59:37</td>\n",
       "      <td>{'contractSymbol': 'AAPL190418C00420000', 'str...</td>\n",
       "    </tr>\n",
       "    <tr>\n",
       "      <th>880</th>\n",
       "      <td>425.0</td>\n",
       "      <td>2019-04-18</td>\n",
       "      <td>call</td>\n",
       "      <td>...</td>\n",
       "      <td>2018-11-02 20:00:02</td>\n",
       "      <td>2018-11-02 13:30:50</td>\n",
       "      <td>{'contractSymbol': 'AAPL190418C00425000', 'str...</td>\n",
       "    </tr>\n",
       "  </tbody>\n",
       "</table>\n",
       "<p>66 rows × 19 columns</p>\n",
       "</div>"
      ],
      "text/plain": [
       "     Strike     Expiry  Type  \\\n",
       "1       2.5 2019-04-18  call   \n",
       "22     60.0 2019-04-18  call   \n",
       "26     65.0 2019-04-18  call   \n",
       "64     95.0 2019-04-18  call   \n",
       "79    100.0 2019-04-18  call   \n",
       "..      ...        ...   ...   \n",
       "875   400.0 2019-04-18  call   \n",
       "876   405.0 2019-04-18  call   \n",
       "877   410.0 2019-04-18  call   \n",
       "878   420.0 2019-04-18  call   \n",
       "880   425.0 2019-04-18  call   \n",
       "\n",
       "                           ...                                  Quote_Time  \\\n",
       "1                          ...                         2018-11-02 20:00:02   \n",
       "22                         ...                         2018-11-02 20:00:02   \n",
       "26                         ...                         2018-11-02 20:00:02   \n",
       "64                         ...                         2018-11-02 20:00:02   \n",
       "79                         ...                         2018-11-02 20:00:02   \n",
       "..                         ...                                         ...   \n",
       "875                        ...                         2018-11-02 20:00:02   \n",
       "876                        ...                         2018-11-02 20:00:02   \n",
       "877                        ...                         2018-11-02 20:00:02   \n",
       "878                        ...                         2018-11-02 20:00:02   \n",
       "880                        ...                         2018-11-02 20:00:02   \n",
       "\n",
       "        Last_Trade_Date                                               JSON  \n",
       "1   2018-09-22 03:52:17  {'contractSymbol': 'AAPL190418C00002500', 'str...  \n",
       "22  2018-09-01 03:55:05  {'contractSymbol': 'AAPL190418C00060000', 'str...  \n",
       "26  2018-09-01 03:55:05  {'contractSymbol': 'AAPL190418C00065000', 'str...  \n",
       "64  2018-10-13 03:48:47  {'contractSymbol': 'AAPL190418C00095000', 'str...  \n",
       "79  2018-10-08 15:25:47  {'contractSymbol': 'AAPL190418C00100000', 'str...  \n",
       "..                  ...                                                ...  \n",
       "875 2018-11-02 19:56:28  {'contractSymbol': 'AAPL190418C00400000', 'str...  \n",
       "876 2018-10-05 15:02:57  {'contractSymbol': 'AAPL190418C00405000', 'str...  \n",
       "877 2018-10-18 15:46:39  {'contractSymbol': 'AAPL190418C00410000', 'str...  \n",
       "878 2018-10-26 14:59:37  {'contractSymbol': 'AAPL190418C00420000', 'str...  \n",
       "880 2018-11-02 13:30:50  {'contractSymbol': 'AAPL190418C00425000', 'str...  \n",
       "\n",
       "[66 rows x 19 columns]"
      ]
     },
     "execution_count": 6,
     "metadata": {},
     "output_type": "execute_result"
    }
   ],
   "source": [
    "call06 = aapl_opt.loc[(aapl_opt.Expiry=='2019-04-18') & (aapl_opt.Type=='call')]\n",
    "call06"
   ]
  },
  {
   "cell_type": "markdown",
   "metadata": {},
   "source": [
    "## 2. ¿Qué es la volatilidad implícita?"
   ]
  },
  {
   "cell_type": "markdown",
   "metadata": {},
   "source": [
    "**Volatilidad:** desviación estándar de los rendimientos.\n",
    "- ¿Cómo se calcula?\n",
    "- ¿Para qué calcular la volatilidad?"
   ]
  },
  {
   "attachments": {
    "imagen.png": {
     "image/png": "[encoded data removed]"
    }
   },
   "cell_type": "markdown",
   "metadata": {},
   "source": [
    "- **Para valuar derivados**, por ejemplo **opciones**.\n",
    "- Método de valuación de riesgo neutral (se supone que el precio del activo $S_t$ no se ve afectado por el riesgo de mercado).\n",
    "\n",
    "Recorderis de cuantitativas:\n",
    "1. Ecuación de Black-Scholes\n",
    "$$ dS(t) = \\mu S(t) + \\sigma S(t)dW_t$$\n",
    "2. Solución de la ecuación\n",
    "\n",
    "El valor de una opción Europea de vainilla $V_t$ puede obtenerse por:\n",
    "$$V_t = F(t,S_t)$$ donde\n",
    "![imagen.png](attachment:imagen.png)\n",
    "3. Opción de compra europea, suponiendo que los precios del activo son lognormales\n",
    "4. Opción de venta europea, suponiendo que los precios del activo son lognormales"
   ]
  },
  {
   "cell_type": "markdown",
   "metadata": {},
   "source": [
    "Entonces, ¿qué es la **volatilidad implícita**?\n",
    "\n",
    "La volatilidad es una medida de la incertidumbre sobre el comportamiento futuro de un activo, que se mide habitualmente como la desviación típica de la rentabilidad de dicho activo. "
   ]
  },
  {
   "cell_type": "code",
   "execution_count": 7,
   "metadata": {},
   "outputs": [
    {
     "data": {
      "image/png": "[encoded data removed]",
      "text/plain": [
       "<Figure size 576x432 with 1 Axes>"
      ]
     },
     "metadata": {},
     "output_type": "display_data"
    }
   ],
   "source": [
    "ax = call06.set_index('Strike').loc[:, 'IV'].plot(figsize=(8,6))\n",
    "ax.axvline(call06.Underlying_Price.iloc[0], color='g');\n",
    "#call06.Underlying_Price"
   ]
  },
  {
   "cell_type": "code",
   "execution_count": 8,
   "metadata": {},
   "outputs": [
    {
     "data": {
      "text/html": [
       "<div>\n",
       "<style scoped>\n",
       "    .dataframe tbody tr th:only-of-type {\n",
       "        vertical-align: middle;\n",
       "    }\n",
       "\n",
       "    .dataframe tbody tr th {\n",
       "        vertical-align: top;\n",
       "    }\n",
       "\n",
       "    .dataframe thead th {\n",
       "        text-align: right;\n",
       "    }\n",
       "</style>\n",
       "<table border=\"1\" class=\"dataframe\">\n",
       "  <thead>\n",
       "    <tr style=\"text-align: right;\">\n",
       "      <th></th>\n",
       "      <th>Strike</th>\n",
       "      <th>Expiry</th>\n",
       "      <th>Type</th>\n",
       "      <th>...</th>\n",
       "      <th>Quote_Time</th>\n",
       "      <th>Last_Trade_Date</th>\n",
       "      <th>JSON</th>\n",
       "    </tr>\n",
       "  </thead>\n",
       "  <tbody>\n",
       "    <tr>\n",
       "      <th>14</th>\n",
       "      <td>50.0</td>\n",
       "      <td>2019-04-18</td>\n",
       "      <td>put</td>\n",
       "      <td>...</td>\n",
       "      <td>2018-11-02 20:00:02</td>\n",
       "      <td>2018-08-25 03:51:03</td>\n",
       "      <td>{'contractSymbol': 'AAPL190418P00050000', 'str...</td>\n",
       "    </tr>\n",
       "    <tr>\n",
       "      <th>18</th>\n",
       "      <td>55.0</td>\n",
       "      <td>2019-04-18</td>\n",
       "      <td>put</td>\n",
       "      <td>...</td>\n",
       "      <td>2018-11-02 20:00:02</td>\n",
       "      <td>2018-08-25 03:51:03</td>\n",
       "      <td>{'contractSymbol': 'AAPL190418P00055000', 'str...</td>\n",
       "    </tr>\n",
       "    <tr>\n",
       "      <th>27</th>\n",
       "      <td>65.0</td>\n",
       "      <td>2019-04-18</td>\n",
       "      <td>put</td>\n",
       "      <td>...</td>\n",
       "      <td>2018-11-02 20:00:02</td>\n",
       "      <td>2018-09-01 03:55:35</td>\n",
       "      <td>{'contractSymbol': 'AAPL190418P00065000', 'str...</td>\n",
       "    </tr>\n",
       "    <tr>\n",
       "      <th>32</th>\n",
       "      <td>70.0</td>\n",
       "      <td>2019-04-18</td>\n",
       "      <td>put</td>\n",
       "      <td>...</td>\n",
       "      <td>2018-11-02 20:00:02</td>\n",
       "      <td>2018-09-22 03:52:53</td>\n",
       "      <td>{'contractSymbol': 'AAPL190418P00070000', 'str...</td>\n",
       "    </tr>\n",
       "    <tr>\n",
       "      <th>41</th>\n",
       "      <td>80.0</td>\n",
       "      <td>2019-04-18</td>\n",
       "      <td>put</td>\n",
       "      <td>...</td>\n",
       "      <td>2018-11-02 20:00:02</td>\n",
       "      <td>2018-09-29 03:56:14</td>\n",
       "      <td>{'contractSymbol': 'AAPL190418P00080000', 'str...</td>\n",
       "    </tr>\n",
       "    <tr>\n",
       "      <th>...</th>\n",
       "      <td>...</td>\n",
       "      <td>...</td>\n",
       "      <td>...</td>\n",
       "      <td>...</td>\n",
       "      <td>...</td>\n",
       "      <td>...</td>\n",
       "      <td>...</td>\n",
       "    </tr>\n",
       "    <tr>\n",
       "      <th>824</th>\n",
       "      <td>325.0</td>\n",
       "      <td>2019-04-18</td>\n",
       "      <td>put</td>\n",
       "      <td>...</td>\n",
       "      <td>2018-11-02 20:00:02</td>\n",
       "      <td>2018-09-08 03:44:29</td>\n",
       "      <td>{'contractSymbol': 'AAPL190418P00325000', 'str...</td>\n",
       "    </tr>\n",
       "    <tr>\n",
       "      <th>828</th>\n",
       "      <td>330.0</td>\n",
       "      <td>2019-04-18</td>\n",
       "      <td>put</td>\n",
       "      <td>...</td>\n",
       "      <td>2018-11-02 20:00:02</td>\n",
       "      <td>2018-09-08 03:44:29</td>\n",
       "      <td>{'contractSymbol': 'AAPL190418P00330000', 'str...</td>\n",
       "    </tr>\n",
       "    <tr>\n",
       "      <th>851</th>\n",
       "      <td>350.0</td>\n",
       "      <td>2019-04-18</td>\n",
       "      <td>put</td>\n",
       "      <td>...</td>\n",
       "      <td>2018-11-02 20:00:02</td>\n",
       "      <td>2018-09-15 03:48:34</td>\n",
       "      <td>{'contractSymbol': 'AAPL190418P00350000', 'str...</td>\n",
       "    </tr>\n",
       "    <tr>\n",
       "      <th>879</th>\n",
       "      <td>420.0</td>\n",
       "      <td>2019-04-18</td>\n",
       "      <td>put</td>\n",
       "      <td>...</td>\n",
       "      <td>2018-11-02 20:00:02</td>\n",
       "      <td>2018-11-02 14:23:03</td>\n",
       "      <td>{'contractSymbol': 'AAPL190418P00420000', 'str...</td>\n",
       "    </tr>\n",
       "    <tr>\n",
       "      <th>881</th>\n",
       "      <td>425.0</td>\n",
       "      <td>2019-04-18</td>\n",
       "      <td>put</td>\n",
       "      <td>...</td>\n",
       "      <td>2018-11-02 20:00:02</td>\n",
       "      <td>2018-10-29 19:49:02</td>\n",
       "      <td>{'contractSymbol': 'AAPL190418P00425000', 'str...</td>\n",
       "    </tr>\n",
       "  </tbody>\n",
       "</table>\n",
       "<p>53 rows × 19 columns</p>\n",
       "</div>"
      ],
      "text/plain": [
       "     Strike     Expiry Type  \\\n",
       "14     50.0 2019-04-18  put   \n",
       "18     55.0 2019-04-18  put   \n",
       "27     65.0 2019-04-18  put   \n",
       "32     70.0 2019-04-18  put   \n",
       "41     80.0 2019-04-18  put   \n",
       "..      ...        ...  ...   \n",
       "824   325.0 2019-04-18  put   \n",
       "828   330.0 2019-04-18  put   \n",
       "851   350.0 2019-04-18  put   \n",
       "879   420.0 2019-04-18  put   \n",
       "881   425.0 2019-04-18  put   \n",
       "\n",
       "                           ...                                  Quote_Time  \\\n",
       "14                         ...                         2018-11-02 20:00:02   \n",
       "18                         ...                         2018-11-02 20:00:02   \n",
       "27                         ...                         2018-11-02 20:00:02   \n",
       "32                         ...                         2018-11-02 20:00:02   \n",
       "41                         ...                         2018-11-02 20:00:02   \n",
       "..                         ...                                         ...   \n",
       "824                        ...                         2018-11-02 20:00:02   \n",
       "828                        ...                         2018-11-02 20:00:02   \n",
       "851                        ...                         2018-11-02 20:00:02   \n",
       "879                        ...                         2018-11-02 20:00:02   \n",
       "881                        ...                         2018-11-02 20:00:02   \n",
       "\n",
       "        Last_Trade_Date                                               JSON  \n",
       "14  2018-08-25 03:51:03  {'contractSymbol': 'AAPL190418P00050000', 'str...  \n",
       "18  2018-08-25 03:51:03  {'contractSymbol': 'AAPL190418P00055000', 'str...  \n",
       "27  2018-09-01 03:55:35  {'contractSymbol': 'AAPL190418P00065000', 'str...  \n",
       "32  2018-09-22 03:52:53  {'contractSymbol': 'AAPL190418P00070000', 'str...  \n",
       "41  2018-09-29 03:56:14  {'contractSymbol': 'AAPL190418P00080000', 'str...  \n",
       "..                  ...                                                ...  \n",
       "824 2018-09-08 03:44:29  {'contractSymbol': 'AAPL190418P00325000', 'str...  \n",
       "828 2018-09-08 03:44:29  {'contractSymbol': 'AAPL190418P00330000', 'str...  \n",
       "851 2018-09-15 03:48:34  {'contractSymbol': 'AAPL190418P00350000', 'str...  \n",
       "879 2018-11-02 14:23:03  {'contractSymbol': 'AAPL190418P00420000', 'str...  \n",
       "881 2018-10-29 19:49:02  {'contractSymbol': 'AAPL190418P00425000', 'str...  \n",
       "\n",
       "[53 rows x 19 columns]"
      ]
     },
     "execution_count": 8,
     "metadata": {},
     "output_type": "execute_result"
    }
   ],
   "source": [
    "put06 = aapl_opt.loc[(aapl_opt.Expiry=='2019-04-18') & (aapl_opt.Type=='put')]\n",
    "put06"
   ]
  },
  {
   "cell_type": "code",
   "execution_count": 9,
   "metadata": {},
   "outputs": [
    {
     "data": {
      "text/plain": [
       "<matplotlib.lines.Line2D at 0x2f10f707d68>"
      ]
     },
     "execution_count": 9,
     "metadata": {},
     "output_type": "execute_result"
    },
    {
     "data": {
      "image/png": "[encoded data removed]",
      "text/plain": [
       "<Figure size 576x432 with 1 Axes>"
      ]
     },
     "metadata": {},
     "output_type": "display_data"
    }
   ],
   "source": [
    "ax = put06.set_index('Strike').loc[:, 'IV'].plot(figsize=(8,6))\n",
    "ax.axvline(put06.Underlying_Price.iloc[0], color='g')"
   ]
  },
  {
   "cell_type": "markdown",
   "metadata": {},
   "source": [
    "Con lo que hemos aprendido, deberíamos ser capaces de crear una función que nos devuelva un `DataFrame` de `pandas` con los precios de cierre ajustados de ciertas compañías en ciertas fechas:\n",
    "- Escribir la función a continuación"
   ]
  },
  {
   "cell_type": "code",
   "execution_count": 10,
   "metadata": {},
   "outputs": [],
   "source": [
    "# Función para descargar precios de cierre ajustados de varios activos a la vez:\n",
    "def get_historical_closes(tickers, start_date=None, end_date=None, freq=None):\n",
    "    # Fecha inicio por defecto (start_date='2010-01-01') y fecha fin por defecto (end_date=today)\n",
    "    # Frecuencia de muestreo por defecto (freq='d')\n",
    "    # Importamos paquetes necesarios\n",
    "    import pandas as pd\n",
    "    pd.core.common.is_list_like = pd.api.types.is_list_like\n",
    "    import pandas_datareader.data as web  \n",
    "    # Creamos DataFrame vacío de precios, con el índice de las fechas\n",
    "    closes = pd.DataFrame(columns = tickers, index=web.YahooDailyReader(symbols=tickers[0], start=start_date, end=end_date, interval=freq).read().index)\n",
    "    # Agregamos cada uno de los precios con YahooDailyReader\n",
    "    for ticker in tickers:\n",
    "        df = web.YahooDailyReader(symbols=ticker, start=start_date, end=end_date, interval=freq).read()\n",
    "        closes[ticker]=df['Adj Close']\n",
    "    closes.index_name = 'Date'\n",
    "    closes = closes.sort_index()\n",
    "    return closes"
   ]
  },
  {
   "cell_type": "markdown",
   "metadata": {},
   "source": [
    "- Obtener como ejemplo los precios de cierre de Apple del año pasado hasta la fecha. Graficar..."
   ]
  },
  {
   "cell_type": "code",
   "execution_count": 12,
   "metadata": {},
   "outputs": [
    {
     "data": {
      "image/png": "[encoded data removed]",
      "text/plain": [
       "<Figure size 576x360 with 1 Axes>"
      ]
     },
     "metadata": {},
     "output_type": "display_data"
    }
   ],
   "source": [
    "ticker = ['AAPL']\n",
    "start_date = '2017-01-01'\n",
    "\n",
    "closes_aapl = get_historical_closes(ticker, start_date,freq='d')\n",
    "closes_aapl.plot(figsize=(8,5));\n",
    "plt.legend(ticker);"
   ]
  },
  {
   "cell_type": "markdown",
   "metadata": {},
   "source": [
    "- Escribir una función que pasándole el histórico de precios devuelva los rendimientos logarítmicos:"
   ]
  },
  {
   "cell_type": "code",
   "execution_count": 13,
   "metadata": {},
   "outputs": [],
   "source": [
    "def calc_daily_ret(closes):\n",
    "    return np.log(closes/closes.shift(1)).iloc[1:]"
   ]
  },
  {
   "cell_type": "markdown",
   "metadata": {},
   "source": [
    "- Graficar..."
   ]
  },
  {
   "cell_type": "code",
   "execution_count": 14,
   "metadata": {},
   "outputs": [
    {
     "data": {
      "image/png": "[encoded data removed]",
      "text/plain": [
       "<Figure size 576x432 with 1 Axes>"
      ]
     },
     "metadata": {},
     "output_type": "display_data"
    }
   ],
   "source": [
    "ret_aapl = calc_daily_ret(closes_aapl)\n",
    "ret_aapl.plot(figsize=(8,6));"
   ]
  },
  {
   "cell_type": "markdown",
   "metadata": {},
   "source": [
    "También, descargar datos de opciones de Apple:"
   ]
  },
  {
   "cell_type": "code",
   "execution_count": 15,
   "metadata": {
    "scrolled": false
   },
   "outputs": [
    {
     "data": {
      "text/html": [
       "<div>\n",
       "<style scoped>\n",
       "    .dataframe tbody tr th:only-of-type {\n",
       "        vertical-align: middle;\n",
       "    }\n",
       "\n",
       "    .dataframe tbody tr th {\n",
       "        vertical-align: top;\n",
       "    }\n",
       "\n",
       "    .dataframe thead th {\n",
       "        text-align: right;\n",
       "    }\n",
       "</style>\n",
       "<table border=\"1\" class=\"dataframe\">\n",
       "  <thead>\n",
       "    <tr style=\"text-align: right;\">\n",
       "      <th></th>\n",
       "      <th>Strike</th>\n",
       "      <th>Type</th>\n",
       "      <th>Symbol</th>\n",
       "      <th>...</th>\n",
       "      <th>Quote_Time</th>\n",
       "      <th>Last_Trade_Date</th>\n",
       "      <th>JSON</th>\n",
       "    </tr>\n",
       "    <tr>\n",
       "      <th>Expiry</th>\n",
       "      <th></th>\n",
       "      <th></th>\n",
       "      <th></th>\n",
       "      <th></th>\n",
       "      <th></th>\n",
       "      <th></th>\n",
       "      <th></th>\n",
       "    </tr>\n",
       "  </thead>\n",
       "  <tbody>\n",
       "    <tr>\n",
       "      <th>2018-11-09</th>\n",
       "      <td>185.0</td>\n",
       "      <td>put</td>\n",
       "      <td>AAPL181109P00185000</td>\n",
       "      <td>...</td>\n",
       "      <td>2018-11-02 20:00:02</td>\n",
       "      <td>2018-11-02 19:59:59</td>\n",
       "      <td>{'contractSymbol': 'AAPL181109P00185000', 'str...</td>\n",
       "    </tr>\n",
       "    <tr>\n",
       "      <th>2018-11-09</th>\n",
       "      <td>225.0</td>\n",
       "      <td>put</td>\n",
       "      <td>AAPL181109P00225000</td>\n",
       "      <td>...</td>\n",
       "      <td>2018-11-02 20:00:02</td>\n",
       "      <td>2018-11-02 19:57:53</td>\n",
       "      <td>{'contractSymbol': 'AAPL181109P00225000', 'str...</td>\n",
       "    </tr>\n",
       "    <tr>\n",
       "      <th>2018-11-09</th>\n",
       "      <td>187.5</td>\n",
       "      <td>put</td>\n",
       "      <td>AAPL181109P00187500</td>\n",
       "      <td>...</td>\n",
       "      <td>2018-11-02 20:00:02</td>\n",
       "      <td>2018-11-02 19:59:46</td>\n",
       "      <td>{'contractSymbol': 'AAPL181109P00187500', 'str...</td>\n",
       "    </tr>\n",
       "    <tr>\n",
       "      <th>2018-11-09</th>\n",
       "      <td>242.5</td>\n",
       "      <td>put</td>\n",
       "      <td>AAPL181109P00242500</td>\n",
       "      <td>...</td>\n",
       "      <td>2018-11-02 20:00:02</td>\n",
       "      <td>2018-11-02 13:51:11</td>\n",
       "      <td>{'contractSymbol': 'AAPL181109P00242500', 'str...</td>\n",
       "    </tr>\n",
       "    <tr>\n",
       "      <th>2018-11-09</th>\n",
       "      <td>190.0</td>\n",
       "      <td>put</td>\n",
       "      <td>AAPL181109P00190000</td>\n",
       "      <td>...</td>\n",
       "      <td>2018-11-02 20:00:02</td>\n",
       "      <td>2018-11-02 19:59:59</td>\n",
       "      <td>{'contractSymbol': 'AAPL181109P00190000', 'str...</td>\n",
       "    </tr>\n",
       "    <tr>\n",
       "      <th>...</th>\n",
       "      <td>...</td>\n",
       "      <td>...</td>\n",
       "      <td>...</td>\n",
       "      <td>...</td>\n",
       "      <td>...</td>\n",
       "      <td>...</td>\n",
       "      <td>...</td>\n",
       "    </tr>\n",
       "    <tr>\n",
       "      <th>2021-01-15</th>\n",
       "      <td>260.0</td>\n",
       "      <td>put</td>\n",
       "      <td>AAPL210115P00260000</td>\n",
       "      <td>...</td>\n",
       "      <td>2018-11-02 20:00:02</td>\n",
       "      <td>2018-10-30 13:46:04</td>\n",
       "      <td>{'contractSymbol': 'AAPL210115P00260000', 'str...</td>\n",
       "    </tr>\n",
       "    <tr>\n",
       "      <th>2021-01-15</th>\n",
       "      <td>135.0</td>\n",
       "      <td>put</td>\n",
       "      <td>AAPL210115P00135000</td>\n",
       "      <td>...</td>\n",
       "      <td>2018-11-02 20:00:02</td>\n",
       "      <td>2018-10-26 14:33:17</td>\n",
       "      <td>{'contractSymbol': 'AAPL210115P00135000', 'str...</td>\n",
       "    </tr>\n",
       "    <tr>\n",
       "      <th>2021-01-15</th>\n",
       "      <td>135.0</td>\n",
       "      <td>call</td>\n",
       "      <td>AAPL210115C00135000</td>\n",
       "      <td>...</td>\n",
       "      <td>2018-11-02 20:00:02</td>\n",
       "      <td>2018-11-02 19:14:40</td>\n",
       "      <td>{'contractSymbol': 'AAPL210115C00135000', 'str...</td>\n",
       "    </tr>\n",
       "    <tr>\n",
       "      <th>2021-01-15</th>\n",
       "      <td>255.0</td>\n",
       "      <td>put</td>\n",
       "      <td>AAPL210115P00255000</td>\n",
       "      <td>...</td>\n",
       "      <td>2018-11-02 20:00:02</td>\n",
       "      <td>2018-09-29 03:56:48</td>\n",
       "      <td>{'contractSymbol': 'AAPL210115P00255000', 'str...</td>\n",
       "    </tr>\n",
       "    <tr>\n",
       "      <th>2021-01-15</th>\n",
       "      <td>200.0</td>\n",
       "      <td>put</td>\n",
       "      <td>AAPL210115P00200000</td>\n",
       "      <td>...</td>\n",
       "      <td>2018-11-02 20:00:02</td>\n",
       "      <td>2018-11-02 19:58:33</td>\n",
       "      <td>{'contractSymbol': 'AAPL210115P00200000', 'str...</td>\n",
       "    </tr>\n",
       "  </tbody>\n",
       "</table>\n",
       "<p>882 rows × 18 columns</p>\n",
       "</div>"
      ],
      "text/plain": [
       "            Strike  Type               Symbol  \\\n",
       "Expiry                                          \n",
       "2018-11-09   185.0   put  AAPL181109P00185000   \n",
       "2018-11-09   225.0   put  AAPL181109P00225000   \n",
       "2018-11-09   187.5   put  AAPL181109P00187500   \n",
       "2018-11-09   242.5   put  AAPL181109P00242500   \n",
       "2018-11-09   190.0   put  AAPL181109P00190000   \n",
       "...            ...   ...                  ...   \n",
       "2021-01-15   260.0   put  AAPL210115P00260000   \n",
       "2021-01-15   135.0   put  AAPL210115P00135000   \n",
       "2021-01-15   135.0  call  AAPL210115C00135000   \n",
       "2021-01-15   255.0   put  AAPL210115P00255000   \n",
       "2021-01-15   200.0   put  AAPL210115P00200000   \n",
       "\n",
       "                                  ...                          \\\n",
       "Expiry                            ...                           \n",
       "2018-11-09                        ...                           \n",
       "2018-11-09                        ...                           \n",
       "2018-11-09                        ...                           \n",
       "2018-11-09                        ...                           \n",
       "2018-11-09                        ...                           \n",
       "...                               ...                           \n",
       "2021-01-15                        ...                           \n",
       "2021-01-15                        ...                           \n",
       "2021-01-15                        ...                           \n",
       "2021-01-15                        ...                           \n",
       "2021-01-15                        ...                           \n",
       "\n",
       "                    Quote_Time     Last_Trade_Date  \\\n",
       "Expiry                                               \n",
       "2018-11-09 2018-11-02 20:00:02 2018-11-02 19:59:59   \n",
       "2018-11-09 2018-11-02 20:00:02 2018-11-02 19:57:53   \n",
       "2018-11-09 2018-11-02 20:00:02 2018-11-02 19:59:46   \n",
       "2018-11-09 2018-11-02 20:00:02 2018-11-02 13:51:11   \n",
       "2018-11-09 2018-11-02 20:00:02 2018-11-02 19:59:59   \n",
       "...                        ...                 ...   \n",
       "2021-01-15 2018-11-02 20:00:02 2018-10-30 13:46:04   \n",
       "2021-01-15 2018-11-02 20:00:02 2018-10-26 14:33:17   \n",
       "2021-01-15 2018-11-02 20:00:02 2018-11-02 19:14:40   \n",
       "2021-01-15 2018-11-02 20:00:02 2018-09-29 03:56:48   \n",
       "2021-01-15 2018-11-02 20:00:02 2018-11-02 19:58:33   \n",
       "\n",
       "                                                         JSON  \n",
       "Expiry                                                         \n",
       "2018-11-09  {'contractSymbol': 'AAPL181109P00185000', 'str...  \n",
       "2018-11-09  {'contractSymbol': 'AAPL181109P00225000', 'str...  \n",
       "2018-11-09  {'contractSymbol': 'AAPL181109P00187500', 'str...  \n",
       "2018-11-09  {'contractSymbol': 'AAPL181109P00242500', 'str...  \n",
       "2018-11-09  {'contractSymbol': 'AAPL181109P00190000', 'str...  \n",
       "...                                                       ...  \n",
       "2021-01-15  {'contractSymbol': 'AAPL210115P00260000', 'str...  \n",
       "2021-01-15  {'contractSymbol': 'AAPL210115P00135000', 'str...  \n",
       "2021-01-15  {'contractSymbol': 'AAPL210115C00135000', 'str...  \n",
       "2021-01-15  {'contractSymbol': 'AAPL210115P00255000', 'str...  \n",
       "2021-01-15  {'contractSymbol': 'AAPL210115P00200000', 'str...  \n",
       "\n",
       "[882 rows x 18 columns]"
      ]
     },
     "execution_count": 15,
     "metadata": {},
     "output_type": "execute_result"
    }
   ],
   "source": [
    "aapl = web.YahooOptions('AAPL')\n",
    "aapl_opt = aapl.get_all_data().reset_index()\n",
    "aapl_opt.set_index('Expiry').sort_index()"
   ]
  },
  {
   "cell_type": "code",
   "execution_count": 16,
   "metadata": {},
   "outputs": [
    {
     "data": {
      "text/html": [
       "<div>\n",
       "<style scoped>\n",
       "    .dataframe tbody tr th:only-of-type {\n",
       "        vertical-align: middle;\n",
       "    }\n",
       "\n",
       "    .dataframe tbody tr th {\n",
       "        vertical-align: top;\n",
       "    }\n",
       "\n",
       "    .dataframe thead th {\n",
       "        text-align: right;\n",
       "    }\n",
       "</style>\n",
       "<table border=\"1\" class=\"dataframe\">\n",
       "  <thead>\n",
       "    <tr style=\"text-align: right;\">\n",
       "      <th></th>\n",
       "      <th>Strike</th>\n",
       "      <th>Expiry</th>\n",
       "      <th>Type</th>\n",
       "      <th>...</th>\n",
       "      <th>Quote_Time</th>\n",
       "      <th>Last_Trade_Date</th>\n",
       "      <th>JSON</th>\n",
       "    </tr>\n",
       "  </thead>\n",
       "  <tbody>\n",
       "    <tr>\n",
       "      <th>517</th>\n",
       "      <td>220.0</td>\n",
       "      <td>2019-02-15</td>\n",
       "      <td>call</td>\n",
       "      <td>...</td>\n",
       "      <td>2018-11-02 20:00:02</td>\n",
       "      <td>2018-11-02 19:59:59</td>\n",
       "      <td>{'contractSymbol': 'AAPL190215C00220000', 'str...</td>\n",
       "    </tr>\n",
       "  </tbody>\n",
       "</table>\n",
       "<p>1 rows × 19 columns</p>\n",
       "</div>"
      ],
      "text/plain": [
       "     Strike     Expiry  Type  \\\n",
       "517   220.0 2019-02-15  call   \n",
       "\n",
       "                           ...                                  Quote_Time  \\\n",
       "517                        ...                         2018-11-02 20:00:02   \n",
       "\n",
       "        Last_Trade_Date                                               JSON  \n",
       "517 2018-11-02 19:59:59  {'contractSymbol': 'AAPL190215C00220000', 'str...  \n",
       "\n",
       "[1 rows x 19 columns]"
      ]
     },
     "execution_count": 16,
     "metadata": {},
     "output_type": "execute_result"
    }
   ],
   "source": [
    "aapl_opt.loc[(aapl_opt.Type=='call') & (aapl_opt.Strike==220) & (aapl_opt.Expiry=='2019-02-15')]\n",
    "#quiero caluar una opcion put en 220 USD PARA EL 15 DE FEBRERO DE 2019, LAS ACCIONES DE APPLE CUESTAN 207 USD01-11-2018"
   ]
  },
  {
   "cell_type": "code",
   "execution_count": 17,
   "metadata": {
    "scrolled": true
   },
   "outputs": [
    {
     "data": {
      "text/plain": [
       "{'contractSymbol': 'AAPL190118C00225000',\n",
       " 'strike': 225.0,\n",
       " 'currency': 'USD',\n",
       " 'lastPrice': 3.8,\n",
       " 'change': -6.91,\n",
       " 'percentChange': -64.519135,\n",
       " 'volume': 6441,\n",
       " 'openInterest': 23183,\n",
       " 'bid': 3.6,\n",
       " 'ask': 4.3,\n",
       " 'contractSize': 'REGULAR',\n",
       " 'expiration': 1547769600,\n",
       " 'lastTradeDate': 1541188799,\n",
       " 'impliedVolatility': 0.2788158056640625,\n",
       " 'inTheMoney': False}"
      ]
     },
     "execution_count": 17,
     "metadata": {},
     "output_type": "execute_result"
    }
   ],
   "source": [
    "opcion_valuar = aapl_opt.loc[536]\n",
    "opcion_valuar['JSON']"
   ]
  },
  {
   "cell_type": "markdown",
   "metadata": {},
   "source": [
    "# Simulación de precios usando rendimiento simple y logarítmico "
   ]
  },
  {
   "cell_type": "markdown",
   "metadata": {},
   "source": [
    "* Comenzaremos por suponer que los rendimientos son un p.e. estacionario que distribuyen $\\mathcal{N}(\\mu,\\sigma)$."
   ]
  },
  {
   "cell_type": "code",
   "execution_count": 18,
   "metadata": {},
   "outputs": [
    {
     "data": {
      "text/html": [
       "<div>\n",
       "<style scoped>\n",
       "    .dataframe tbody tr th:only-of-type {\n",
       "        vertical-align: middle;\n",
       "    }\n",
       "\n",
       "    .dataframe tbody tr th {\n",
       "        vertical-align: top;\n",
       "    }\n",
       "\n",
       "    .dataframe thead th {\n",
       "        text-align: right;\n",
       "    }\n",
       "</style>\n",
       "<table border=\"1\" class=\"dataframe\">\n",
       "  <thead>\n",
       "    <tr style=\"text-align: right;\">\n",
       "      <th></th>\n",
       "      <th>AAPL</th>\n",
       "    </tr>\n",
       "    <tr>\n",
       "      <th>Date</th>\n",
       "      <th></th>\n",
       "    </tr>\n",
       "  </thead>\n",
       "  <tbody>\n",
       "    <tr>\n",
       "      <th>2017-01-03</th>\n",
       "      <td>113.014</td>\n",
       "    </tr>\n",
       "    <tr>\n",
       "      <th>2017-01-04</th>\n",
       "      <td>112.887</td>\n",
       "    </tr>\n",
       "    <tr>\n",
       "      <th>2017-01-05</th>\n",
       "      <td>113.462</td>\n",
       "    </tr>\n",
       "    <tr>\n",
       "      <th>2017-01-06</th>\n",
       "      <td>114.726</td>\n",
       "    </tr>\n",
       "    <tr>\n",
       "      <th>2017-01-09</th>\n",
       "      <td>115.777</td>\n",
       "    </tr>\n",
       "    <tr>\n",
       "      <th>...</th>\n",
       "      <td>...</td>\n",
       "    </tr>\n",
       "    <tr>\n",
       "      <th>2018-10-29</th>\n",
       "      <td>212.240</td>\n",
       "    </tr>\n",
       "    <tr>\n",
       "      <th>2018-10-30</th>\n",
       "      <td>213.300</td>\n",
       "    </tr>\n",
       "    <tr>\n",
       "      <th>2018-10-31</th>\n",
       "      <td>218.860</td>\n",
       "    </tr>\n",
       "    <tr>\n",
       "      <th>2018-11-01</th>\n",
       "      <td>222.220</td>\n",
       "    </tr>\n",
       "    <tr>\n",
       "      <th>2018-11-02</th>\n",
       "      <td>207.480</td>\n",
       "    </tr>\n",
       "  </tbody>\n",
       "</table>\n",
       "<p>464 rows × 1 columns</p>\n",
       "</div>"
      ],
      "text/plain": [
       "               AAPL\n",
       "Date               \n",
       "2017-01-03  113.014\n",
       "2017-01-04  112.887\n",
       "2017-01-05  113.462\n",
       "2017-01-06  114.726\n",
       "2017-01-09  115.777\n",
       "...             ...\n",
       "2018-10-29  212.240\n",
       "2018-10-30  213.300\n",
       "2018-10-31  218.860\n",
       "2018-11-01  222.220\n",
       "2018-11-02  207.480\n",
       "\n",
       "[464 rows x 1 columns]"
      ]
     },
     "execution_count": 18,
     "metadata": {},
     "output_type": "execute_result"
    }
   ],
   "source": [
    "# Descargamos los precios de apple\n",
    "ticker = ['AAPL']\n",
    "start_date = '2017-01-01'\n",
    "\n",
    "closes_aapl = get_historical_closes(ticker, start_date,freq='d')\n",
    "closes_aapl"
   ]
  },
  {
   "cell_type": "markdown",
   "metadata": {},
   "source": [
    "- **Rendimiento Simple**"
   ]
  },
  {
   "cell_type": "code",
   "execution_count": 19,
   "metadata": {
    "scrolled": false
   },
   "outputs": [
    {
     "data": {
      "text/html": [
       "<div>\n",
       "<style scoped>\n",
       "    .dataframe tbody tr th:only-of-type {\n",
       "        vertical-align: middle;\n",
       "    }\n",
       "\n",
       "    .dataframe tbody tr th {\n",
       "        vertical-align: top;\n",
       "    }\n",
       "\n",
       "    .dataframe thead th {\n",
       "        text-align: right;\n",
       "    }\n",
       "</style>\n",
       "<table border=\"1\" class=\"dataframe\">\n",
       "  <thead>\n",
       "    <tr style=\"text-align: right;\">\n",
       "      <th></th>\n",
       "      <th>AAPL</th>\n",
       "    </tr>\n",
       "    <tr>\n",
       "      <th>Date</th>\n",
       "      <th></th>\n",
       "    </tr>\n",
       "  </thead>\n",
       "  <tbody>\n",
       "    <tr>\n",
       "      <th>2017-01-04</th>\n",
       "      <td>-0.001</td>\n",
       "    </tr>\n",
       "    <tr>\n",
       "      <th>2017-01-05</th>\n",
       "      <td>0.005</td>\n",
       "    </tr>\n",
       "    <tr>\n",
       "      <th>2017-01-06</th>\n",
       "      <td>0.011</td>\n",
       "    </tr>\n",
       "    <tr>\n",
       "      <th>2017-01-09</th>\n",
       "      <td>0.009</td>\n",
       "    </tr>\n",
       "    <tr>\n",
       "      <th>2017-01-10</th>\n",
       "      <td>0.001</td>\n",
       "    </tr>\n",
       "    <tr>\n",
       "      <th>...</th>\n",
       "      <td>...</td>\n",
       "    </tr>\n",
       "    <tr>\n",
       "      <th>2018-10-29</th>\n",
       "      <td>-0.019</td>\n",
       "    </tr>\n",
       "    <tr>\n",
       "      <th>2018-10-30</th>\n",
       "      <td>0.005</td>\n",
       "    </tr>\n",
       "    <tr>\n",
       "      <th>2018-10-31</th>\n",
       "      <td>0.026</td>\n",
       "    </tr>\n",
       "    <tr>\n",
       "      <th>2018-11-01</th>\n",
       "      <td>0.015</td>\n",
       "    </tr>\n",
       "    <tr>\n",
       "      <th>2018-11-02</th>\n",
       "      <td>-0.066</td>\n",
       "    </tr>\n",
       "  </tbody>\n",
       "</table>\n",
       "<p>463 rows × 1 columns</p>\n",
       "</div>"
      ],
      "text/plain": [
       "             AAPL\n",
       "Date             \n",
       "2017-01-04 -0.001\n",
       "2017-01-05  0.005\n",
       "2017-01-06  0.011\n",
       "2017-01-09  0.009\n",
       "2017-01-10  0.001\n",
       "...           ...\n",
       "2018-10-29 -0.019\n",
       "2018-10-30  0.005\n",
       "2018-10-31  0.026\n",
       "2018-11-01  0.015\n",
       "2018-11-02 -0.066\n",
       "\n",
       "[463 rows x 1 columns]"
      ]
     },
     "execution_count": 19,
     "metadata": {},
     "output_type": "execute_result"
    }
   ],
   "source": [
    "# Obtenemos el rendimiento simple\n",
    "Ri = closes_aapl.pct_change(1).iloc[1:]\n",
    "# Obtenemos su media y desviación estándar de los rendimientos\n",
    "mu_R = Ri.mean()[0]\n",
    "sigma_R = Ri.std()[0]\n",
    "Ri"
   ]
  },
  {
   "cell_type": "code",
   "execution_count": 20,
   "metadata": {},
   "outputs": [
    {
     "data": {
      "text/plain": [
       "DatetimeIndex(['2018-10-29', '2018-10-30', '2018-10-31', '2018-11-01',\n",
       "               '2018-11-02', '2018-11-03', '2018-11-04', '2018-11-05',\n",
       "               '2018-11-06', '2018-11-07',\n",
       "               ...\n",
       "               '2019-02-05', '2019-02-06', '2019-02-07', '2019-02-08',\n",
       "               '2019-02-09', '2019-02-10', '2019-02-11', '2019-02-12',\n",
       "               '2019-02-13', '2019-02-14'],\n",
       "              dtype='datetime64[ns]', length=109, freq='D')"
      ]
     },
     "execution_count": 20,
     "metadata": {},
     "output_type": "execute_result"
    }
   ],
   "source": [
    "ndays = 109\n",
    "nscen = 10\n",
    "dates = pd.date_range('2018-10-29', periods = ndays)\n",
    "dates"
   ]
  },
  {
   "cell_type": "code",
   "execution_count": 21,
   "metadata": {},
   "outputs": [
    {
     "data": {
      "text/html": [
       "<div>\n",
       "<style scoped>\n",
       "    .dataframe tbody tr th:only-of-type {\n",
       "        vertical-align: middle;\n",
       "    }\n",
       "\n",
       "    .dataframe tbody tr th {\n",
       "        vertical-align: top;\n",
       "    }\n",
       "\n",
       "    .dataframe thead th {\n",
       "        text-align: right;\n",
       "    }\n",
       "</style>\n",
       "<table border=\"1\" class=\"dataframe\">\n",
       "  <thead>\n",
       "    <tr style=\"text-align: right;\">\n",
       "      <th></th>\n",
       "      <th>0</th>\n",
       "      <th>1</th>\n",
       "      <th>2</th>\n",
       "      <th>...</th>\n",
       "      <th>7</th>\n",
       "      <th>8</th>\n",
       "      <th>9</th>\n",
       "    </tr>\n",
       "  </thead>\n",
       "  <tbody>\n",
       "    <tr>\n",
       "      <th>2018-10-29</th>\n",
       "      <td>-9.017e-03</td>\n",
       "      <td>-9.506e-03</td>\n",
       "      <td>1.000e-02</td>\n",
       "      <td>...</td>\n",
       "      <td>1.835e-02</td>\n",
       "      <td>8.718e-03</td>\n",
       "      <td>-1.212e-02</td>\n",
       "    </tr>\n",
       "    <tr>\n",
       "      <th>2018-10-30</th>\n",
       "      <td>-4.211e-05</td>\n",
       "      <td>-2.855e-05</td>\n",
       "      <td>-2.710e-04</td>\n",
       "      <td>...</td>\n",
       "      <td>-2.010e-06</td>\n",
       "      <td>-2.079e-04</td>\n",
       "      <td>-1.155e-04</td>\n",
       "    </tr>\n",
       "    <tr>\n",
       "      <th>2018-10-31</th>\n",
       "      <td>2.712e-07</td>\n",
       "      <td>-3.549e-07</td>\n",
       "      <td>1.373e-06</td>\n",
       "      <td>...</td>\n",
       "      <td>2.632e-08</td>\n",
       "      <td>1.143e-06</td>\n",
       "      <td>-1.197e-07</td>\n",
       "    </tr>\n",
       "    <tr>\n",
       "      <th>2018-11-01</th>\n",
       "      <td>2.907e-09</td>\n",
       "      <td>2.193e-09</td>\n",
       "      <td>1.140e-08</td>\n",
       "      <td>...</td>\n",
       "      <td>3.301e-10</td>\n",
       "      <td>2.207e-08</td>\n",
       "      <td>-1.679e-09</td>\n",
       "    </tr>\n",
       "    <tr>\n",
       "      <th>2018-11-02</th>\n",
       "      <td>5.096e-11</td>\n",
       "      <td>1.120e-11</td>\n",
       "      <td>2.099e-10</td>\n",
       "      <td>...</td>\n",
       "      <td>2.411e-12</td>\n",
       "      <td>7.796e-10</td>\n",
       "      <td>3.912e-11</td>\n",
       "    </tr>\n",
       "    <tr>\n",
       "      <th>...</th>\n",
       "      <td>...</td>\n",
       "      <td>...</td>\n",
       "      <td>...</td>\n",
       "      <td>...</td>\n",
       "      <td>...</td>\n",
       "      <td>...</td>\n",
       "      <td>...</td>\n",
       "    </tr>\n",
       "    <tr>\n",
       "      <th>2019-02-10</th>\n",
       "      <td>-4.403e-232</td>\n",
       "      <td>-1.842e-225</td>\n",
       "      <td>-6.025e-232</td>\n",
       "      <td>...</td>\n",
       "      <td>-8.891e-230</td>\n",
       "      <td>-6.862e-229</td>\n",
       "      <td>-5.508e-223</td>\n",
       "    </tr>\n",
       "    <tr>\n",
       "      <th>2019-02-11</th>\n",
       "      <td>-3.486e-234</td>\n",
       "      <td>4.236e-228</td>\n",
       "      <td>-4.421e-234</td>\n",
       "      <td>...</td>\n",
       "      <td>-1.896e-231</td>\n",
       "      <td>-1.089e-230</td>\n",
       "      <td>1.465e-225</td>\n",
       "    </tr>\n",
       "    <tr>\n",
       "      <th>2019-02-12</th>\n",
       "      <td>3.404e-236</td>\n",
       "      <td>3.774e-230</td>\n",
       "      <td>-2.007e-236</td>\n",
       "      <td>...</td>\n",
       "      <td>-2.388e-233</td>\n",
       "      <td>-2.909e-233</td>\n",
       "      <td>-1.135e-228</td>\n",
       "    </tr>\n",
       "    <tr>\n",
       "      <th>2019-02-13</th>\n",
       "      <td>-2.709e-238</td>\n",
       "      <td>-4.883e-233</td>\n",
       "      <td>-3.460e-238</td>\n",
       "      <td>...</td>\n",
       "      <td>3.218e-235</td>\n",
       "      <td>4.195e-235</td>\n",
       "      <td>2.184e-230</td>\n",
       "    </tr>\n",
       "    <tr>\n",
       "      <th>2019-02-14</th>\n",
       "      <td>3.647e-240</td>\n",
       "      <td>1.067e-234</td>\n",
       "      <td>1.491e-240</td>\n",
       "      <td>...</td>\n",
       "      <td>-2.925e-237</td>\n",
       "      <td>3.916e-237</td>\n",
       "      <td>-7.352e-232</td>\n",
       "    </tr>\n",
       "  </tbody>\n",
       "</table>\n",
       "<p>109 rows × 10 columns</p>\n",
       "</div>"
      ],
      "text/plain": [
       "                     0           1           2     ...               7  \\\n",
       "2018-10-29  -9.017e-03  -9.506e-03   1.000e-02     ...       1.835e-02   \n",
       "2018-10-30  -4.211e-05  -2.855e-05  -2.710e-04     ...      -2.010e-06   \n",
       "2018-10-31   2.712e-07  -3.549e-07   1.373e-06     ...       2.632e-08   \n",
       "2018-11-01   2.907e-09   2.193e-09   1.140e-08     ...       3.301e-10   \n",
       "2018-11-02   5.096e-11   1.120e-11   2.099e-10     ...       2.411e-12   \n",
       "...                ...         ...         ...     ...             ...   \n",
       "2019-02-10 -4.403e-232 -1.842e-225 -6.025e-232     ...     -8.891e-230   \n",
       "2019-02-11 -3.486e-234  4.236e-228 -4.421e-234     ...     -1.896e-231   \n",
       "2019-02-12  3.404e-236  3.774e-230 -2.007e-236     ...     -2.388e-233   \n",
       "2019-02-13 -2.709e-238 -4.883e-233 -3.460e-238     ...      3.218e-235   \n",
       "2019-02-14  3.647e-240  1.067e-234  1.491e-240     ...     -2.925e-237   \n",
       "\n",
       "                     8           9  \n",
       "2018-10-29   8.718e-03  -1.212e-02  \n",
       "2018-10-30  -2.079e-04  -1.155e-04  \n",
       "2018-10-31   1.143e-06  -1.197e-07  \n",
       "2018-11-01   2.207e-08  -1.679e-09  \n",
       "2018-11-02   7.796e-10   3.912e-11  \n",
       "...                ...         ...  \n",
       "2019-02-10 -6.862e-229 -5.508e-223  \n",
       "2019-02-11 -1.089e-230  1.465e-225  \n",
       "2019-02-12 -2.909e-233 -1.135e-228  \n",
       "2019-02-13  4.195e-235  2.184e-230  \n",
       "2019-02-14  3.916e-237 -7.352e-232  \n",
       "\n",
       "[109 rows x 10 columns]"
      ]
     },
     "execution_count": 21,
     "metadata": {},
     "output_type": "execute_result"
    }
   ],
   "source": [
    "dt = 1; # Rendimiento diario \n",
    "Z = np.random.randn(ndays,nscen)  # Z ~ N(0,1)\n",
    "# Simulación normal de los rendimientos\n",
    "Ri_dt = pd.DataFrame(mu_R*dt+Z*sigma_R*np.sqrt(dt),index=dates)\n",
    "Ri_dt.cumprod()"
   ]
  },
  {
   "cell_type": "code",
   "execution_count": 22,
   "metadata": {},
   "outputs": [
    {
     "data": {
      "image/png": "[encoded data removed]",
      "text/plain": [
       "<Figure size 576x432 with 1 Axes>"
      ]
     },
     "metadata": {},
     "output_type": "display_data"
    }
   ],
   "source": [
    "# Simulación del precio\n",
    "S_0 = closes_aapl.iloc[-1,0]\n",
    "S_T = S_0*(1+Ri_dt).cumprod()\n",
    "\n",
    "# Se muestran los precios simulados con los precios descargados\n",
    "pd.concat([closes_aapl,S_T]).plot(figsize=(8,6));\n",
    "plt.title('Simulación de precios usando rendimiento simple');"
   ]
  },
  {
   "cell_type": "markdown",
   "metadata": {},
   "source": [
    "- **Rendimiento logarítmico**"
   ]
  },
  {
   "cell_type": "code",
   "execution_count": 23,
   "metadata": {},
   "outputs": [
    {
     "data": {
      "text/html": [
       "<div>\n",
       "<style scoped>\n",
       "    .dataframe tbody tr th:only-of-type {\n",
       "        vertical-align: middle;\n",
       "    }\n",
       "\n",
       "    .dataframe tbody tr th {\n",
       "        vertical-align: top;\n",
       "    }\n",
       "\n",
       "    .dataframe thead th {\n",
       "        text-align: right;\n",
       "    }\n",
       "</style>\n",
       "<table border=\"1\" class=\"dataframe\">\n",
       "  <thead>\n",
       "    <tr style=\"text-align: right;\">\n",
       "      <th></th>\n",
       "      <th>0</th>\n",
       "      <th>1</th>\n",
       "      <th>2</th>\n",
       "      <th>...</th>\n",
       "      <th>7</th>\n",
       "      <th>8</th>\n",
       "      <th>9</th>\n",
       "    </tr>\n",
       "  </thead>\n",
       "  <tbody>\n",
       "    <tr>\n",
       "      <th>2018-10-29</th>\n",
       "      <td>0.008</td>\n",
       "      <td>0.007</td>\n",
       "      <td>0.011</td>\n",
       "      <td>...</td>\n",
       "      <td>-0.011</td>\n",
       "      <td>0.013</td>\n",
       "      <td>2.381e-04</td>\n",
       "    </tr>\n",
       "    <tr>\n",
       "      <th>2018-10-30</th>\n",
       "      <td>0.026</td>\n",
       "      <td>0.025</td>\n",
       "      <td>-0.054</td>\n",
       "      <td>...</td>\n",
       "      <td>0.008</td>\n",
       "      <td>-0.034</td>\n",
       "      <td>1.215e-02</td>\n",
       "    </tr>\n",
       "    <tr>\n",
       "      <th>2018-10-31</th>\n",
       "      <td>0.038</td>\n",
       "      <td>0.032</td>\n",
       "      <td>-0.039</td>\n",
       "      <td>...</td>\n",
       "      <td>0.005</td>\n",
       "      <td>-0.020</td>\n",
       "      <td>3.110e-02</td>\n",
       "    </tr>\n",
       "    <tr>\n",
       "      <th>2018-11-01</th>\n",
       "      <td>0.048</td>\n",
       "      <td>0.045</td>\n",
       "      <td>-0.026</td>\n",
       "      <td>...</td>\n",
       "      <td>0.011</td>\n",
       "      <td>-0.034</td>\n",
       "      <td>3.384e-02</td>\n",
       "    </tr>\n",
       "    <tr>\n",
       "      <th>2018-11-02</th>\n",
       "      <td>0.041</td>\n",
       "      <td>0.063</td>\n",
       "      <td>-0.037</td>\n",
       "      <td>...</td>\n",
       "      <td>0.027</td>\n",
       "      <td>-0.137</td>\n",
       "      <td>-1.097e-02</td>\n",
       "    </tr>\n",
       "    <tr>\n",
       "      <th>...</th>\n",
       "      <td>...</td>\n",
       "      <td>...</td>\n",
       "      <td>...</td>\n",
       "      <td>...</td>\n",
       "      <td>...</td>\n",
       "      <td>...</td>\n",
       "      <td>...</td>\n",
       "    </tr>\n",
       "    <tr>\n",
       "      <th>2019-02-10</th>\n",
       "      <td>0.410</td>\n",
       "      <td>0.176</td>\n",
       "      <td>0.483</td>\n",
       "      <td>...</td>\n",
       "      <td>0.087</td>\n",
       "      <td>-0.250</td>\n",
       "      <td>-8.618e-02</td>\n",
       "    </tr>\n",
       "    <tr>\n",
       "      <th>2019-02-11</th>\n",
       "      <td>0.429</td>\n",
       "      <td>0.192</td>\n",
       "      <td>0.506</td>\n",
       "      <td>...</td>\n",
       "      <td>0.058</td>\n",
       "      <td>-0.257</td>\n",
       "      <td>-6.982e-02</td>\n",
       "    </tr>\n",
       "    <tr>\n",
       "      <th>2019-02-12</th>\n",
       "      <td>0.431</td>\n",
       "      <td>0.207</td>\n",
       "      <td>0.531</td>\n",
       "      <td>...</td>\n",
       "      <td>0.067</td>\n",
       "      <td>-0.240</td>\n",
       "      <td>-5.256e-02</td>\n",
       "    </tr>\n",
       "    <tr>\n",
       "      <th>2019-02-13</th>\n",
       "      <td>0.438</td>\n",
       "      <td>0.224</td>\n",
       "      <td>0.531</td>\n",
       "      <td>...</td>\n",
       "      <td>0.061</td>\n",
       "      <td>-0.243</td>\n",
       "      <td>-7.445e-02</td>\n",
       "    </tr>\n",
       "    <tr>\n",
       "      <th>2019-02-14</th>\n",
       "      <td>0.429</td>\n",
       "      <td>0.184</td>\n",
       "      <td>0.549</td>\n",
       "      <td>...</td>\n",
       "      <td>0.071</td>\n",
       "      <td>-0.234</td>\n",
       "      <td>-1.691e-01</td>\n",
       "    </tr>\n",
       "  </tbody>\n",
       "</table>\n",
       "<p>109 rows × 10 columns</p>\n",
       "</div>"
      ],
      "text/plain": [
       "                0      1      2    ...          7      8          9\n",
       "2018-10-29  0.008  0.007  0.011    ...     -0.011  0.013  2.381e-04\n",
       "2018-10-30  0.026  0.025 -0.054    ...      0.008 -0.034  1.215e-02\n",
       "2018-10-31  0.038  0.032 -0.039    ...      0.005 -0.020  3.110e-02\n",
       "2018-11-01  0.048  0.045 -0.026    ...      0.011 -0.034  3.384e-02\n",
       "2018-11-02  0.041  0.063 -0.037    ...      0.027 -0.137 -1.097e-02\n",
       "...           ...    ...    ...    ...        ...    ...        ...\n",
       "2019-02-10  0.410  0.176  0.483    ...      0.087 -0.250 -8.618e-02\n",
       "2019-02-11  0.429  0.192  0.506    ...      0.058 -0.257 -6.982e-02\n",
       "2019-02-12  0.431  0.207  0.531    ...      0.067 -0.240 -5.256e-02\n",
       "2019-02-13  0.438  0.224  0.531    ...      0.061 -0.243 -7.445e-02\n",
       "2019-02-14  0.429  0.184  0.549    ...      0.071 -0.234 -1.691e-01\n",
       "\n",
       "[109 rows x 10 columns]"
      ]
     },
     "execution_count": 23,
     "metadata": {},
     "output_type": "execute_result"
    },
    {
     "data": {
      "image/png": "[encoded data removed]",
      "text/plain": [
       "<Figure size 576x432 with 1 Axes>"
      ]
     },
     "metadata": {},
     "output_type": "display_data"
    }
   ],
   "source": [
    "ri = calc_daily_ret(closes_aapl)\n",
    "# Usando la media y desviación estándar de los rendimientos logarítmicos\n",
    "mu_r = ri.mean()[0]\n",
    "sigma_r = ri.std()[0]\n",
    "\n",
    "# # Usando la equivalencia teórica\n",
    "# mu_r2 = mu_R - (sigma_R**2)/2\n",
    "\n",
    "sim_ret_ri = pd.DataFrame(mu_r*dt+Z*sigma_r*np.sqrt(dt), index=dates)\n",
    "# sim_ret_ri\n",
    "# Simulación del precio\n",
    "S_0 = closes_aapl.iloc[-1,0]\n",
    "S_T2 = S_0*np.exp(sim_ret_ri.cumsum())\n",
    "\n",
    "# Se muestran los precios simulados con los precios descargados\n",
    "pd.concat([closes_aapl,S_T2]).plot(figsize=(8,6));\n",
    "plt.title('Simulación de precios usando rendimiento logarítmico');\n",
    "S_T-S_T2"
   ]
  },
  {
   "cell_type": "code",
   "execution_count": 24,
   "metadata": {},
   "outputs": [
    {
     "name": "stdout",
     "output_type": "stream",
     "text": [
      "Las std usando rendimientos logarítmicos y simples son iguales\n"
     ]
    },
    {
     "data": {
      "text/plain": [
       "(0.013555054847592646, 0.013537847782589606)"
      ]
     },
     "execution_count": 24,
     "metadata": {},
     "output_type": "execute_result"
    }
   ],
   "source": [
    "print('Las std usando rendimientos logarítmicos y simples son iguales')\n",
    "sigma_R,sigma_r"
   ]
  },
  {
   "cell_type": "markdown",
   "metadata": {},
   "source": [
    "## 2. Valuación usando simulación: modelo normal para los rendimientos"
   ]
  },
  {
   "cell_type": "markdown",
   "metadata": {},
   "source": [
    "- Hallar media y desviación estándar muestral de los rendimientos logarítmicos"
   ]
  },
  {
   "cell_type": "code",
   "execution_count": 25,
   "metadata": {
    "scrolled": true
   },
   "outputs": [
    {
     "data": {
      "text/plain": [
       "(0.0013121468005006648, 0.013537847782589606)"
      ]
     },
     "execution_count": 25,
     "metadata": {},
     "output_type": "execute_result"
    }
   ],
   "source": [
    "mu = ret_aapl.mean()[0]\n",
    "sigma = ret_aapl.std()[0]\n",
    "mu, sigma"
   ]
  },
  {
   "cell_type": "markdown",
   "metadata": {},
   "source": [
    "No se toma la media sino la tasa libre de riesgo\n",
    "> Referencia: https://www.treasury.gov/resource-center/data-chart-center/interest-rates/Pages/TextView.aspx?data=yield"
   ]
  },
  {
   "cell_type": "code",
   "execution_count": 26,
   "metadata": {},
   "outputs": [],
   "source": [
    "# Tasa de bonos de 1 yr de fecha 10/01/18 -> 2.60%\n",
    "r = 0.0260/360 # Tasa diaria"
   ]
  },
  {
   "cell_type": "markdown",
   "metadata": {},
   "source": [
    "- Simularemos el tiempo de contrato (días=109) desde 29/10/18 hasta 15/02/19, 10 escenarios:\n",
    "> Calculador de fechas: https://es.calcuworld.com/calendarios/calculadora-de-tiempo-entre-dos-fechas/\n",
    "    \n",
    "    - Generar fechas"
   ]
  },
  {
   "cell_type": "code",
   "execution_count": 27,
   "metadata": {},
   "outputs": [
    {
     "data": {
      "text/plain": [
       "DatetimeIndex(['2018-10-29', '2018-10-30', '2018-10-31', '2018-11-01',\n",
       "               '2018-11-02', '2018-11-03', '2018-11-04', '2018-11-05',\n",
       "               '2018-11-06', '2018-11-07',\n",
       "               ...\n",
       "               '2019-02-05', '2019-02-06', '2019-02-07', '2019-02-08',\n",
       "               '2019-02-09', '2019-02-10', '2019-02-11', '2019-02-12',\n",
       "               '2019-02-13', '2019-02-14'],\n",
       "              dtype='datetime64[ns]', length=109, freq='D')"
      ]
     },
     "execution_count": 27,
     "metadata": {},
     "output_type": "execute_result"
    }
   ],
   "source": [
    "ndays = 109\n",
    "nscen = 10\n",
    "dates = pd.date_range('2018-10-29', periods = ndays)\n",
    "dates"
   ]
  },
  {
   "cell_type": "markdown",
   "metadata": {},
   "source": [
    "- Generamos 10 escenarios de rendimientos simulados y guardamos en un dataframe"
   ]
  },
  {
   "cell_type": "code",
   "execution_count": 28,
   "metadata": {
    "scrolled": false
   },
   "outputs": [
    {
     "data": {
      "text/html": [
       "<div>\n",
       "<style scoped>\n",
       "    .dataframe tbody tr th:only-of-type {\n",
       "        vertical-align: middle;\n",
       "    }\n",
       "\n",
       "    .dataframe tbody tr th {\n",
       "        vertical-align: top;\n",
       "    }\n",
       "\n",
       "    .dataframe thead th {\n",
       "        text-align: right;\n",
       "    }\n",
       "</style>\n",
       "<table border=\"1\" class=\"dataframe\">\n",
       "  <thead>\n",
       "    <tr style=\"text-align: right;\">\n",
       "      <th></th>\n",
       "      <th>0</th>\n",
       "      <th>1</th>\n",
       "      <th>2</th>\n",
       "      <th>...</th>\n",
       "      <th>7</th>\n",
       "      <th>8</th>\n",
       "      <th>9</th>\n",
       "    </tr>\n",
       "  </thead>\n",
       "  <tbody>\n",
       "    <tr>\n",
       "      <th>2018-10-29</th>\n",
       "      <td>0.015</td>\n",
       "      <td>-0.026</td>\n",
       "      <td>0.005</td>\n",
       "      <td>...</td>\n",
       "      <td>0.024</td>\n",
       "      <td>1.433e-02</td>\n",
       "      <td>-0.003</td>\n",
       "    </tr>\n",
       "    <tr>\n",
       "      <th>2018-10-30</th>\n",
       "      <td>0.024</td>\n",
       "      <td>-0.003</td>\n",
       "      <td>0.012</td>\n",
       "      <td>...</td>\n",
       "      <td>0.033</td>\n",
       "      <td>4.170e-03</td>\n",
       "      <td>-0.005</td>\n",
       "    </tr>\n",
       "    <tr>\n",
       "      <th>2018-10-31</th>\n",
       "      <td>0.018</td>\n",
       "      <td>-0.006</td>\n",
       "      <td>0.014</td>\n",
       "      <td>...</td>\n",
       "      <td>0.030</td>\n",
       "      <td>-1.983e-04</td>\n",
       "      <td>-0.008</td>\n",
       "    </tr>\n",
       "    <tr>\n",
       "      <th>2018-11-01</th>\n",
       "      <td>0.018</td>\n",
       "      <td>-0.004</td>\n",
       "      <td>0.019</td>\n",
       "      <td>...</td>\n",
       "      <td>0.027</td>\n",
       "      <td>4.645e-03</td>\n",
       "      <td>-0.010</td>\n",
       "    </tr>\n",
       "    <tr>\n",
       "      <th>2018-11-02</th>\n",
       "      <td>0.013</td>\n",
       "      <td>-0.016</td>\n",
       "      <td>0.040</td>\n",
       "      <td>...</td>\n",
       "      <td>0.011</td>\n",
       "      <td>3.129e-03</td>\n",
       "      <td>0.013</td>\n",
       "    </tr>\n",
       "    <tr>\n",
       "      <th>...</th>\n",
       "      <td>...</td>\n",
       "      <td>...</td>\n",
       "      <td>...</td>\n",
       "      <td>...</td>\n",
       "      <td>...</td>\n",
       "      <td>...</td>\n",
       "      <td>...</td>\n",
       "    </tr>\n",
       "    <tr>\n",
       "      <th>2019-02-10</th>\n",
       "      <td>0.285</td>\n",
       "      <td>-0.025</td>\n",
       "      <td>0.168</td>\n",
       "      <td>...</td>\n",
       "      <td>-0.052</td>\n",
       "      <td>2.384e-01</td>\n",
       "      <td>-0.112</td>\n",
       "    </tr>\n",
       "    <tr>\n",
       "      <th>2019-02-11</th>\n",
       "      <td>0.260</td>\n",
       "      <td>-0.045</td>\n",
       "      <td>0.158</td>\n",
       "      <td>...</td>\n",
       "      <td>-0.062</td>\n",
       "      <td>2.351e-01</td>\n",
       "      <td>-0.130</td>\n",
       "    </tr>\n",
       "    <tr>\n",
       "      <th>2019-02-12</th>\n",
       "      <td>0.228</td>\n",
       "      <td>-0.048</td>\n",
       "      <td>0.157</td>\n",
       "      <td>...</td>\n",
       "      <td>-0.064</td>\n",
       "      <td>2.276e-01</td>\n",
       "      <td>-0.145</td>\n",
       "    </tr>\n",
       "    <tr>\n",
       "      <th>2019-02-13</th>\n",
       "      <td>0.253</td>\n",
       "      <td>-0.054</td>\n",
       "      <td>0.166</td>\n",
       "      <td>...</td>\n",
       "      <td>-0.054</td>\n",
       "      <td>2.129e-01</td>\n",
       "      <td>-0.167</td>\n",
       "    </tr>\n",
       "    <tr>\n",
       "      <th>2019-02-14</th>\n",
       "      <td>0.260</td>\n",
       "      <td>-0.043</td>\n",
       "      <td>0.151</td>\n",
       "      <td>...</td>\n",
       "      <td>-0.060</td>\n",
       "      <td>2.260e-01</td>\n",
       "      <td>-0.166</td>\n",
       "    </tr>\n",
       "  </tbody>\n",
       "</table>\n",
       "<p>109 rows × 10 columns</p>\n",
       "</div>"
      ],
      "text/plain": [
       "                0      1      2  ...        7          8      9\n",
       "2018-10-29  0.015 -0.026  0.005  ...    0.024  1.433e-02 -0.003\n",
       "2018-10-30  0.024 -0.003  0.012  ...    0.033  4.170e-03 -0.005\n",
       "2018-10-31  0.018 -0.006  0.014  ...    0.030 -1.983e-04 -0.008\n",
       "2018-11-01  0.018 -0.004  0.019  ...    0.027  4.645e-03 -0.010\n",
       "2018-11-02  0.013 -0.016  0.040  ...    0.011  3.129e-03  0.013\n",
       "...           ...    ...    ...  ...      ...        ...    ...\n",
       "2019-02-10  0.285 -0.025  0.168  ...   -0.052  2.384e-01 -0.112\n",
       "2019-02-11  0.260 -0.045  0.158  ...   -0.062  2.351e-01 -0.130\n",
       "2019-02-12  0.228 -0.048  0.157  ...   -0.064  2.276e-01 -0.145\n",
       "2019-02-13  0.253 -0.054  0.166  ...   -0.054  2.129e-01 -0.167\n",
       "2019-02-14  0.260 -0.043  0.151  ...   -0.060  2.260e-01 -0.166\n",
       "\n",
       "[109 rows x 10 columns]"
      ]
     },
     "execution_count": 28,
     "metadata": {},
     "output_type": "execute_result"
    }
   ],
   "source": [
    "sim_ret = pd.DataFrame(sigma*np.random.randn(ndays,nscen)+r, index=dates)\n",
    "sim_ret.cumsum()\n",
    "# Las columnas son los escenarios y las filas son las días de contrato"
   ]
  },
  {
   "cell_type": "markdown",
   "metadata": {},
   "source": [
    "- Con los rendimientos simulados, calcular los escenarios de precios respectivos:"
   ]
  },
  {
   "cell_type": "code",
   "execution_count": 29,
   "metadata": {},
   "outputs": [
    {
     "data": {
      "text/html": [
       "<div>\n",
       "<style scoped>\n",
       "    .dataframe tbody tr th:only-of-type {\n",
       "        vertical-align: middle;\n",
       "    }\n",
       "\n",
       "    .dataframe tbody tr th {\n",
       "        vertical-align: top;\n",
       "    }\n",
       "\n",
       "    .dataframe thead th {\n",
       "        text-align: right;\n",
       "    }\n",
       "</style>\n",
       "<table border=\"1\" class=\"dataframe\">\n",
       "  <thead>\n",
       "    <tr style=\"text-align: right;\">\n",
       "      <th></th>\n",
       "      <th>0</th>\n",
       "      <th>1</th>\n",
       "      <th>2</th>\n",
       "      <th>...</th>\n",
       "      <th>7</th>\n",
       "      <th>8</th>\n",
       "      <th>9</th>\n",
       "    </tr>\n",
       "  </thead>\n",
       "  <tbody>\n",
       "    <tr>\n",
       "      <th>2018-10-29</th>\n",
       "      <td>210.524</td>\n",
       "      <td>202.242</td>\n",
       "      <td>208.458</td>\n",
       "      <td>...</td>\n",
       "      <td>212.608</td>\n",
       "      <td>210.475</td>\n",
       "      <td>206.868</td>\n",
       "    </tr>\n",
       "    <tr>\n",
       "      <th>2018-10-30</th>\n",
       "      <td>212.476</td>\n",
       "      <td>206.927</td>\n",
       "      <td>210.069</td>\n",
       "      <td>...</td>\n",
       "      <td>214.374</td>\n",
       "      <td>208.347</td>\n",
       "      <td>206.461</td>\n",
       "    </tr>\n",
       "    <tr>\n",
       "      <th>2018-10-31</th>\n",
       "      <td>211.346</td>\n",
       "      <td>206.220</td>\n",
       "      <td>210.335</td>\n",
       "      <td>...</td>\n",
       "      <td>213.778</td>\n",
       "      <td>207.439</td>\n",
       "      <td>205.898</td>\n",
       "    </tr>\n",
       "    <tr>\n",
       "      <th>2018-11-01</th>\n",
       "      <td>211.185</td>\n",
       "      <td>206.598</td>\n",
       "      <td>211.479</td>\n",
       "      <td>...</td>\n",
       "      <td>213.165</td>\n",
       "      <td>208.446</td>\n",
       "      <td>205.376</td>\n",
       "    </tr>\n",
       "    <tr>\n",
       "      <th>2018-11-02</th>\n",
       "      <td>210.112</td>\n",
       "      <td>204.128</td>\n",
       "      <td>215.930</td>\n",
       "      <td>...</td>\n",
       "      <td>209.844</td>\n",
       "      <td>208.130</td>\n",
       "      <td>210.106</td>\n",
       "    </tr>\n",
       "    <tr>\n",
       "      <th>...</th>\n",
       "      <td>...</td>\n",
       "      <td>...</td>\n",
       "      <td>...</td>\n",
       "      <td>...</td>\n",
       "      <td>...</td>\n",
       "      <td>...</td>\n",
       "      <td>...</td>\n",
       "    </tr>\n",
       "    <tr>\n",
       "      <th>2019-02-10</th>\n",
       "      <td>275.869</td>\n",
       "      <td>202.277</td>\n",
       "      <td>245.442</td>\n",
       "      <td>...</td>\n",
       "      <td>196.880</td>\n",
       "      <td>263.340</td>\n",
       "      <td>185.434</td>\n",
       "    </tr>\n",
       "    <tr>\n",
       "      <th>2019-02-11</th>\n",
       "      <td>269.206</td>\n",
       "      <td>198.434</td>\n",
       "      <td>242.936</td>\n",
       "      <td>...</td>\n",
       "      <td>195.038</td>\n",
       "      <td>262.482</td>\n",
       "      <td>182.125</td>\n",
       "    </tr>\n",
       "    <tr>\n",
       "      <th>2019-02-12</th>\n",
       "      <td>260.715</td>\n",
       "      <td>197.746</td>\n",
       "      <td>242.781</td>\n",
       "      <td>...</td>\n",
       "      <td>194.604</td>\n",
       "      <td>260.500</td>\n",
       "      <td>179.489</td>\n",
       "    </tr>\n",
       "    <tr>\n",
       "      <th>2019-02-13</th>\n",
       "      <td>267.307</td>\n",
       "      <td>196.493</td>\n",
       "      <td>244.900</td>\n",
       "      <td>...</td>\n",
       "      <td>196.658</td>\n",
       "      <td>256.704</td>\n",
       "      <td>175.544</td>\n",
       "    </tr>\n",
       "    <tr>\n",
       "      <th>2019-02-14</th>\n",
       "      <td>269.164</td>\n",
       "      <td>198.832</td>\n",
       "      <td>241.288</td>\n",
       "      <td>...</td>\n",
       "      <td>195.308</td>\n",
       "      <td>260.087</td>\n",
       "      <td>175.764</td>\n",
       "    </tr>\n",
       "  </tbody>\n",
       "</table>\n",
       "<p>109 rows × 10 columns</p>\n",
       "</div>"
      ],
      "text/plain": [
       "                  0        1        2   ...           7        8        9\n",
       "2018-10-29  210.524  202.242  208.458   ...     212.608  210.475  206.868\n",
       "2018-10-30  212.476  206.927  210.069   ...     214.374  208.347  206.461\n",
       "2018-10-31  211.346  206.220  210.335   ...     213.778  207.439  205.898\n",
       "2018-11-01  211.185  206.598  211.479   ...     213.165  208.446  205.376\n",
       "2018-11-02  210.112  204.128  215.930   ...     209.844  208.130  210.106\n",
       "...             ...      ...      ...   ...         ...      ...      ...\n",
       "2019-02-10  275.869  202.277  245.442   ...     196.880  263.340  185.434\n",
       "2019-02-11  269.206  198.434  242.936   ...     195.038  262.482  182.125\n",
       "2019-02-12  260.715  197.746  242.781   ...     194.604  260.500  179.489\n",
       "2019-02-13  267.307  196.493  244.900   ...     196.658  256.704  175.544\n",
       "2019-02-14  269.164  198.832  241.288   ...     195.308  260.087  175.764\n",
       "\n",
       "[109 rows x 10 columns]"
      ]
     },
     "execution_count": 29,
     "metadata": {},
     "output_type": "execute_result"
    }
   ],
   "source": [
    "S0 = closes_aapl.iloc[-1,0]  # Condición inicial del precio a simular\n",
    "sim_closes = S0*np.exp(sim_ret.cumsum())\n",
    "sim_closes"
   ]
  },
  {
   "cell_type": "markdown",
   "metadata": {},
   "source": [
    "- Graficar:"
   ]
  },
  {
   "cell_type": "code",
   "execution_count": 30,
   "metadata": {},
   "outputs": [],
   "source": [
    "#sim_closes.plot(figsize=(8,6));"
   ]
  },
  {
   "cell_type": "code",
   "execution_count": 31,
   "metadata": {
    "scrolled": false
   },
   "outputs": [
    {
     "data": {
      "image/png": "[encoded data removed]",
      "text/plain": [
       "<Figure size 576x432 with 1 Axes>"
      ]
     },
     "metadata": {},
     "output_type": "display_data"
    }
   ],
   "source": [
    "# Se muestran los precios simulados con los precios descargados\n",
    "pd.concat([closes_aapl,sim_closes]).plot(figsize=(8,6));"
   ]
  },
  {
   "cell_type": "code",
   "execution_count": 32,
   "metadata": {},
   "outputs": [
    {
     "data": {
      "text/plain": [
       "{'contractSymbol': 'AAPL190118C00225000',\n",
       " 'strike': 225.0,\n",
       " 'currency': 'USD',\n",
       " 'lastPrice': 3.8,\n",
       " 'change': -6.91,\n",
       " 'percentChange': -64.519135,\n",
       " 'volume': 6441,\n",
       " 'openInterest': 23183,\n",
       " 'bid': 3.6,\n",
       " 'ask': 4.3,\n",
       " 'contractSize': 'REGULAR',\n",
       " 'expiration': 1547769600,\n",
       " 'lastTradeDate': 1541188799,\n",
       " 'impliedVolatility': 0.2788158056640625,\n",
       " 'inTheMoney': False}"
      ]
     },
     "execution_count": 32,
     "metadata": {},
     "output_type": "execute_result"
    }
   ],
   "source": [
    "opcion_valuar['JSON']"
   ]
  },
  {
   "cell_type": "code",
   "execution_count": 33,
   "metadata": {},
   "outputs": [],
   "source": [
    "K=200  # strike price\n",
    "ndays = 109 \n",
    "nscen = 100000\n",
    "dates = pd.date_range('2018-10-29', periods = ndays)\n",
    "S0 = closes_aapl.iloc[-1,0]  # Condición inicial del precio a simular\n",
    "\n",
    "sim_ret = pd.DataFrame(sigma*np.random.randn(ndays,nscen)+r,index=dates)\n",
    "sim_closes = S0*np.exp(sim_ret.cumsum())\n",
    "#strike = pd.DataFrame({'Strike':K*np.ones(ndays)}, index=dates)\n",
    "#simul = pd.concat([closes_aapl.T,strike.T,sim_closes.T]).T\n",
    "#simul.plot(figsize=(8,6),legend=False);"
   ]
  },
  {
   "cell_type": "code",
   "execution_count": 34,
   "metadata": {},
   "outputs": [
    {
     "data": {
      "image/png": "[encoded data removed]",
      "text/plain": [
       "<Figure size 432x288 with 1 Axes>"
      ]
     },
     "metadata": {},
     "output_type": "display_data"
    }
   ],
   "source": [
    "strike = pd.DataFrame(K*np.ones([ndays,nscen]), index=dates)\n",
    "call = pd.DataFrame({'Prima':np.exp(-r*ndays) \\\n",
    "              *np.fmax(sim_closes-strike,np.zeros([ndays,nscen])).T.mean()}, index=dates)\n",
    "call.plot();"
   ]
  },
  {
   "cell_type": "markdown",
   "metadata": {},
   "source": [
    "La valuación de la opción es:"
   ]
  },
  {
   "cell_type": "code",
   "execution_count": 35,
   "metadata": {},
   "outputs": [
    {
     "data": {
      "text/plain": [
       "Prima    17.968\n",
       "Name: 2019-02-14 00:00:00, dtype: float64"
      ]
     },
     "execution_count": 35,
     "metadata": {},
     "output_type": "execute_result"
    }
   ],
   "source": [
    "call.iloc[-1]"
   ]
  },
  {
   "cell_type": "markdown",
   "metadata": {},
   "source": [
    "Intervalo de confianza del 99%"
   ]
  },
  {
   "cell_type": "code",
   "execution_count": 36,
   "metadata": {
    "scrolled": true
   },
   "outputs": [
    {
     "name": "stdout",
     "output_type": "stream",
     "text": [
      "(17.723280160955735, 18.21276540326986)\n",
      "(17.723280160955735, 18.21276540326986)\n"
     ]
    }
   ],
   "source": [
    "confianza = 0.99\n",
    "sigma_est = sim_closes.iloc[-1].sem()\n",
    "mean_est = call.iloc[-1].Prima\n",
    "i1 = st.t.interval(confianza,nscen-1, loc=mean_est, scale=sigma_est)\n",
    "i2 = st.norm.interval(confianza, loc=mean_est, scale=sigma_est)\n",
    "print(i1)\n",
    "print(i1)\n"
   ]
  },
  {
   "cell_type": "markdown",
   "metadata": {},
   "source": [
    "### Análisis de la distribución de los rendimientos"
   ]
  },
  {
   "cell_type": "code",
   "execution_count": 37,
   "metadata": {},
   "outputs": [
    {
     "data": {
      "image/png": "[encoded data removed]",
      "text/plain": [
       "<Figure size 432x288 with 1 Axes>"
      ]
     },
     "metadata": {},
     "output_type": "display_data"
    }
   ],
   "source": [
    "ren = calc_daily_ret(closes_aapl) # rendimientos \n",
    "y,x,des = plt.hist(ren['AAPL'],bins=50,density=True,label='Histograma rendimientos')\n",
    "\n",
    "mu_fit,sd_fit = st.norm.fit(ren) # Se ajustan los parámetros de una normal\n",
    "# Valores máximo y mínimo de los rendiemientos a generar\n",
    "ren_max = max(x);ren_min = min(x)\n",
    "# Vector de rendimientos generados\n",
    "ren_gen = np.arange(ren_min,ren_max,0.001)\n",
    "# Generación de la normal ajustado con los parámetros encontrados\n",
    "curve_fit = st.norm.pdf(ren_gen,loc=mu_fit,scale=sd_fit)\n",
    "plt.plot(ren_gen,curve_fit,label='Distribución ajustada')\n",
    "plt.legend()\n",
    "plt.show()\n"
   ]
  },
  {
   "cell_type": "code",
   "execution_count": 38,
   "metadata": {},
   "outputs": [
    {
     "data": {
      "image/png": "[encoded data removed]",
      "text/plain": [
       "<Figure size 432x288 with 1 Axes>"
      ]
     },
     "metadata": {},
     "output_type": "display_data"
    }
   ],
   "source": [
    "st.probplot(ren['AAPL'], dist='norm', plot=plt);"
   ]
  },
  {
   "cell_type": "markdown",
   "metadata": {},
   "source": [
    "## 3. Valuación usando simulación: uso del histograma de rendimientos\n",
    "\n",
    "Todo el análisis anterior se mantiene. Solo cambia la forma de generar los números aleatorios para la simulación montecarlo.\n",
    "\n",
    "Ahora, generemos un histograma de los rendimientos diarios para generar valores aleatorios de los rendimientos simulados."
   ]
  },
  {
   "cell_type": "markdown",
   "metadata": {},
   "source": [
    "- Primero, cantidad de días y número de escenarios de simulación"
   ]
  },
  {
   "cell_type": "code",
   "execution_count": 39,
   "metadata": {},
   "outputs": [],
   "source": [
    "ndays = 109 \n",
    "nscen = 10"
   ]
  },
  {
   "cell_type": "markdown",
   "metadata": {},
   "source": [
    "- Del histograma anterior, ya conocemos las probabilidades de ocurrencia, lo que se llamó como variable `y`"
   ]
  },
  {
   "cell_type": "code",
   "execution_count": 40,
   "metadata": {},
   "outputs": [],
   "source": [
    "prob = y/np.sum(y)\n",
    "values = x[1:]"
   ]
  },
  {
   "cell_type": "markdown",
   "metadata": {},
   "source": [
    "- Con esto, generamos los números aleatorios correspondientes a los rendimientos (tantos como días por número de escenarios)."
   ]
  },
  {
   "cell_type": "code",
   "execution_count": 41,
   "metadata": {},
   "outputs": [
    {
     "data": {
      "text/html": [
       "<div>\n",
       "<style scoped>\n",
       "    .dataframe tbody tr th:only-of-type {\n",
       "        vertical-align: middle;\n",
       "    }\n",
       "\n",
       "    .dataframe tbody tr th {\n",
       "        vertical-align: top;\n",
       "    }\n",
       "\n",
       "    .dataframe thead th {\n",
       "        text-align: right;\n",
       "    }\n",
       "</style>\n",
       "<table border=\"1\" class=\"dataframe\">\n",
       "  <thead>\n",
       "    <tr style=\"text-align: right;\">\n",
       "      <th></th>\n",
       "      <th>0</th>\n",
       "      <th>1</th>\n",
       "      <th>2</th>\n",
       "      <th>...</th>\n",
       "      <th>7</th>\n",
       "      <th>8</th>\n",
       "      <th>9</th>\n",
       "    </tr>\n",
       "  </thead>\n",
       "  <tbody>\n",
       "    <tr>\n",
       "      <th>2018-10-29</th>\n",
       "      <td>-7.276e-03</td>\n",
       "      <td>0.011</td>\n",
       "      <td>-0.007</td>\n",
       "      <td>...</td>\n",
       "      <td>0.016</td>\n",
       "      <td>3.933e-04</td>\n",
       "      <td>5.506e-03</td>\n",
       "    </tr>\n",
       "    <tr>\n",
       "      <th>2018-10-30</th>\n",
       "      <td>2.950e-03</td>\n",
       "      <td>-0.010</td>\n",
       "      <td>-0.025</td>\n",
       "      <td>...</td>\n",
       "      <td>0.003</td>\n",
       "      <td>2.950e-03</td>\n",
       "      <td>1.062e-02</td>\n",
       "    </tr>\n",
       "    <tr>\n",
       "      <th>2018-10-31</th>\n",
       "      <td>3.933e-04</td>\n",
       "      <td>0.008</td>\n",
       "      <td>0.008</td>\n",
       "      <td>...</td>\n",
       "      <td>0.008</td>\n",
       "      <td>2.085e-02</td>\n",
       "      <td>3.933e-04</td>\n",
       "    </tr>\n",
       "    <tr>\n",
       "      <th>2018-11-01</th>\n",
       "      <td>3.933e-04</td>\n",
       "      <td>-0.002</td>\n",
       "      <td>0.016</td>\n",
       "      <td>...</td>\n",
       "      <td>-0.007</td>\n",
       "      <td>1.062e-02</td>\n",
       "      <td>-7.276e-03</td>\n",
       "    </tr>\n",
       "    <tr>\n",
       "      <th>2018-11-02</th>\n",
       "      <td>3.933e-04</td>\n",
       "      <td>0.011</td>\n",
       "      <td>0.006</td>\n",
       "      <td>...</td>\n",
       "      <td>-0.002</td>\n",
       "      <td>1.062e-02</td>\n",
       "      <td>1.829e-02</td>\n",
       "    </tr>\n",
       "    <tr>\n",
       "      <th>...</th>\n",
       "      <td>...</td>\n",
       "      <td>...</td>\n",
       "      <td>...</td>\n",
       "      <td>...</td>\n",
       "      <td>...</td>\n",
       "      <td>...</td>\n",
       "      <td>...</td>\n",
       "    </tr>\n",
       "    <tr>\n",
       "      <th>2019-02-10</th>\n",
       "      <td>3.933e-04</td>\n",
       "      <td>0.003</td>\n",
       "      <td>0.003</td>\n",
       "      <td>...</td>\n",
       "      <td>0.003</td>\n",
       "      <td>8.063e-03</td>\n",
       "      <td>1.062e-02</td>\n",
       "    </tr>\n",
       "    <tr>\n",
       "      <th>2019-02-11</th>\n",
       "      <td>-1.495e-02</td>\n",
       "      <td>0.003</td>\n",
       "      <td>-0.010</td>\n",
       "      <td>...</td>\n",
       "      <td>0.018</td>\n",
       "      <td>5.506e-03</td>\n",
       "      <td>1.573e-02</td>\n",
       "    </tr>\n",
       "    <tr>\n",
       "      <th>2019-02-12</th>\n",
       "      <td>-2.163e-03</td>\n",
       "      <td>-0.002</td>\n",
       "      <td>-0.005</td>\n",
       "      <td>...</td>\n",
       "      <td>0.011</td>\n",
       "      <td>-9.833e-03</td>\n",
       "      <td>8.063e-03</td>\n",
       "    </tr>\n",
       "    <tr>\n",
       "      <th>2019-02-13</th>\n",
       "      <td>3.618e-02</td>\n",
       "      <td>0.008</td>\n",
       "      <td>0.021</td>\n",
       "      <td>...</td>\n",
       "      <td>0.008</td>\n",
       "      <td>3.933e-04</td>\n",
       "      <td>-2.163e-03</td>\n",
       "    </tr>\n",
       "    <tr>\n",
       "      <th>2019-02-14</th>\n",
       "      <td>-1.495e-02</td>\n",
       "      <td>0.044</td>\n",
       "      <td>-0.010</td>\n",
       "      <td>...</td>\n",
       "      <td>0.003</td>\n",
       "      <td>-1.495e-02</td>\n",
       "      <td>2.950e-03</td>\n",
       "    </tr>\n",
       "  </tbody>\n",
       "</table>\n",
       "<p>109 rows × 10 columns</p>\n",
       "</div>"
      ],
      "text/plain": [
       "                    0      1      2    ...          7          8          9\n",
       "2018-10-29 -7.276e-03  0.011 -0.007    ...      0.016  3.933e-04  5.506e-03\n",
       "2018-10-30  2.950e-03 -0.010 -0.025    ...      0.003  2.950e-03  1.062e-02\n",
       "2018-10-31  3.933e-04  0.008  0.008    ...      0.008  2.085e-02  3.933e-04\n",
       "2018-11-01  3.933e-04 -0.002  0.016    ...     -0.007  1.062e-02 -7.276e-03\n",
       "2018-11-02  3.933e-04  0.011  0.006    ...     -0.002  1.062e-02  1.829e-02\n",
       "...               ...    ...    ...    ...        ...        ...        ...\n",
       "2019-02-10  3.933e-04  0.003  0.003    ...      0.003  8.063e-03  1.062e-02\n",
       "2019-02-11 -1.495e-02  0.003 -0.010    ...      0.018  5.506e-03  1.573e-02\n",
       "2019-02-12 -2.163e-03 -0.002 -0.005    ...      0.011 -9.833e-03  8.063e-03\n",
       "2019-02-13  3.618e-02  0.008  0.021    ...      0.008  3.933e-04 -2.163e-03\n",
       "2019-02-14 -1.495e-02  0.044 -0.010    ...      0.003 -1.495e-02  2.950e-03\n",
       "\n",
       "[109 rows x 10 columns]"
      ]
     },
     "execution_count": 41,
     "metadata": {},
     "output_type": "execute_result"
    }
   ],
   "source": [
    "ret = np.random.choice(values, ndays*nscen, p=prob)\n",
    "dates = pd.date_range('2018-10-29',periods=ndays)\n",
    "sim_ret_hist = pd.DataFrame(ret.reshape((ndays,nscen)),index=dates)\n",
    "sim_ret_hist"
   ]
  },
  {
   "cell_type": "code",
   "execution_count": 42,
   "metadata": {
    "scrolled": false
   },
   "outputs": [
    {
     "data": {
      "text/html": [
       "<div>\n",
       "<style scoped>\n",
       "    .dataframe tbody tr th:only-of-type {\n",
       "        vertical-align: middle;\n",
       "    }\n",
       "\n",
       "    .dataframe tbody tr th {\n",
       "        vertical-align: top;\n",
       "    }\n",
       "\n",
       "    .dataframe thead th {\n",
       "        text-align: right;\n",
       "    }\n",
       "</style>\n",
       "<table border=\"1\" class=\"dataframe\">\n",
       "  <thead>\n",
       "    <tr style=\"text-align: right;\">\n",
       "      <th></th>\n",
       "      <th>0</th>\n",
       "      <th>1</th>\n",
       "      <th>2</th>\n",
       "      <th>...</th>\n",
       "      <th>7</th>\n",
       "      <th>8</th>\n",
       "      <th>9</th>\n",
       "    </tr>\n",
       "  </thead>\n",
       "  <tbody>\n",
       "    <tr>\n",
       "      <th>2018-10-29</th>\n",
       "      <td>205.976</td>\n",
       "      <td>209.695</td>\n",
       "      <td>205.976</td>\n",
       "      <td>...</td>\n",
       "      <td>210.770</td>\n",
       "      <td>207.562</td>\n",
       "      <td>208.626</td>\n",
       "    </tr>\n",
       "    <tr>\n",
       "      <th>2018-10-30</th>\n",
       "      <td>206.584</td>\n",
       "      <td>207.643</td>\n",
       "      <td>200.856</td>\n",
       "      <td>...</td>\n",
       "      <td>211.393</td>\n",
       "      <td>208.175</td>\n",
       "      <td>210.853</td>\n",
       "    </tr>\n",
       "    <tr>\n",
       "      <th>2018-10-31</th>\n",
       "      <td>206.666</td>\n",
       "      <td>209.324</td>\n",
       "      <td>202.482</td>\n",
       "      <td>...</td>\n",
       "      <td>213.104</td>\n",
       "      <td>212.560</td>\n",
       "      <td>210.936</td>\n",
       "    </tr>\n",
       "    <tr>\n",
       "      <th>2018-11-01</th>\n",
       "      <td>206.747</td>\n",
       "      <td>208.872</td>\n",
       "      <td>205.692</td>\n",
       "      <td>...</td>\n",
       "      <td>211.559</td>\n",
       "      <td>214.829</td>\n",
       "      <td>209.407</td>\n",
       "    </tr>\n",
       "    <tr>\n",
       "      <th>2018-11-02</th>\n",
       "      <td>206.828</td>\n",
       "      <td>211.102</td>\n",
       "      <td>206.828</td>\n",
       "      <td>...</td>\n",
       "      <td>211.102</td>\n",
       "      <td>217.123</td>\n",
       "      <td>213.272</td>\n",
       "    </tr>\n",
       "    <tr>\n",
       "      <th>...</th>\n",
       "      <td>...</td>\n",
       "      <td>...</td>\n",
       "      <td>...</td>\n",
       "      <td>...</td>\n",
       "      <td>...</td>\n",
       "      <td>...</td>\n",
       "      <td>...</td>\n",
       "    </tr>\n",
       "    <tr>\n",
       "      <th>2019-02-10</th>\n",
       "      <td>298.407</td>\n",
       "      <td>255.318</td>\n",
       "      <td>268.712</td>\n",
       "      <td>...</td>\n",
       "      <td>272.866</td>\n",
       "      <td>279.932</td>\n",
       "      <td>237.074</td>\n",
       "    </tr>\n",
       "    <tr>\n",
       "      <th>2019-02-11</th>\n",
       "      <td>293.980</td>\n",
       "      <td>256.072</td>\n",
       "      <td>266.083</td>\n",
       "      <td>...</td>\n",
       "      <td>277.902</td>\n",
       "      <td>281.477</td>\n",
       "      <td>240.833</td>\n",
       "    </tr>\n",
       "    <tr>\n",
       "      <th>2019-02-12</th>\n",
       "      <td>293.345</td>\n",
       "      <td>255.519</td>\n",
       "      <td>264.830</td>\n",
       "      <td>...</td>\n",
       "      <td>280.869</td>\n",
       "      <td>278.723</td>\n",
       "      <td>242.783</td>\n",
       "    </tr>\n",
       "    <tr>\n",
       "      <th>2019-02-13</th>\n",
       "      <td>304.154</td>\n",
       "      <td>257.588</td>\n",
       "      <td>270.409</td>\n",
       "      <td>...</td>\n",
       "      <td>283.143</td>\n",
       "      <td>278.833</td>\n",
       "      <td>242.258</td>\n",
       "    </tr>\n",
       "    <tr>\n",
       "      <th>2019-02-14</th>\n",
       "      <td>299.642</td>\n",
       "      <td>269.135</td>\n",
       "      <td>267.763</td>\n",
       "      <td>...</td>\n",
       "      <td>283.979</td>\n",
       "      <td>274.696</td>\n",
       "      <td>242.974</td>\n",
       "    </tr>\n",
       "  </tbody>\n",
       "</table>\n",
       "<p>109 rows × 10 columns</p>\n",
       "</div>"
      ],
      "text/plain": [
       "                  0        1        2   ...           7        8        9\n",
       "2018-10-29  205.976  209.695  205.976   ...     210.770  207.562  208.626\n",
       "2018-10-30  206.584  207.643  200.856   ...     211.393  208.175  210.853\n",
       "2018-10-31  206.666  209.324  202.482   ...     213.104  212.560  210.936\n",
       "2018-11-01  206.747  208.872  205.692   ...     211.559  214.829  209.407\n",
       "2018-11-02  206.828  211.102  206.828   ...     211.102  217.123  213.272\n",
       "...             ...      ...      ...   ...         ...      ...      ...\n",
       "2019-02-10  298.407  255.318  268.712   ...     272.866  279.932  237.074\n",
       "2019-02-11  293.980  256.072  266.083   ...     277.902  281.477  240.833\n",
       "2019-02-12  293.345  255.519  264.830   ...     280.869  278.723  242.783\n",
       "2019-02-13  304.154  257.588  270.409   ...     283.143  278.833  242.258\n",
       "2019-02-14  299.642  269.135  267.763   ...     283.979  274.696  242.974\n",
       "\n",
       "[109 rows x 10 columns]"
      ]
     },
     "execution_count": 42,
     "metadata": {},
     "output_type": "execute_result"
    }
   ],
   "source": [
    "sim_closes_hist = (closes_aapl.iloc[-1,0])*np.exp(sim_ret_hist.cumsum())\n",
    "sim_closes_hist"
   ]
  },
  {
   "cell_type": "code",
   "execution_count": 44,
   "metadata": {},
   "outputs": [
    {
     "data": {
      "image/png": "[encoded data removed]",
      "text/plain": [
       "<Figure size 576x432 with 1 Axes>"
      ]
     },
     "metadata": {},
     "output_type": "display_data"
    }
   ],
   "source": [
    "sim_closes_hist.plot(figsize=(8,6),legend=False);"
   ]
  },
  {
   "cell_type": "code",
   "execution_count": 45,
   "metadata": {},
   "outputs": [
    {
     "data": {
      "text/plain": [
       "Text(0.5,1,'Simulación usando el histograma de los rendimientos')"
      ]
     },
     "execution_count": 45,
     "metadata": {},
     "output_type": "execute_result"
    },
    {
     "data": {
      "image/png": "[encoded data removed]",
      "text/plain": [
       "<Figure size 576x432 with 1 Axes>"
      ]
     },
     "metadata": {},
     "output_type": "display_data"
    }
   ],
   "source": [
    "pd.concat([closes_aapl,sim_closes_hist]).plot(figsize=(8,6),legend=False);\n",
    "plt.title('Simulación usando el histograma de los rendimientos')"
   ]
  },
  {
   "cell_type": "code",
   "execution_count": 46,
   "metadata": {},
   "outputs": [],
   "source": [
    "K=200\n",
    "ndays = 109\n",
    "nscen = 10000\n",
    "freq, values = np.histogram(ret_aapl+r-mu, bins=2000)\n",
    "prob = freq/np.sum(freq)\n",
    "ret=np.random.choice(values[1:],ndays*nscen,p=prob)\n",
    "dates=pd.date_range('2018-10-29',periods=ndays)\n",
    "sim_ret_hist = pd.DataFrame(ret.reshape((ndays,nscen)),index=dates)\n",
    "sim_closes_hist = (closes_aapl.iloc[-1,0])*np.exp(sim_ret_hist.cumsum())"
   ]
  },
  {
   "cell_type": "code",
   "execution_count": 47,
   "metadata": {},
   "outputs": [
    {
     "data": {
      "image/png": "[encoded data removed]",
      "text/plain": [
       "<Figure size 432x288 with 1 Axes>"
      ]
     },
     "metadata": {},
     "output_type": "display_data"
    }
   ],
   "source": [
    "strike = pd.DataFrame(K*np.ones(ndays*nscen).reshape((ndays,nscen)), index=dates)\n",
    "call_hist = pd.DataFrame({'Prima':np.exp(-r*ndays) \\\n",
    "                          *np.fmax(sim_closes_hist-strike,np.zeros(ndays*nscen).reshape((ndays,nscen))).T.mean()}, index=dates)\n",
    "call_hist.plot();\n",
    "#aqui es donde se le mete la ecacion BS call= st-k"
   ]
  },
  {
   "cell_type": "code",
   "execution_count": 48,
   "metadata": {
    "scrolled": true
   },
   "outputs": [
    {
     "data": {
      "text/plain": [
       "Prima    18.3\n",
       "Name: 2019-02-14 00:00:00, dtype: float64"
      ]
     },
     "execution_count": 48,
     "metadata": {},
     "output_type": "execute_result"
    }
   ],
   "source": [
    "call_hist.iloc[-1]"
   ]
  },
  {
   "cell_type": "code",
   "execution_count": 49,
   "metadata": {},
   "outputs": [
    {
     "data": {
      "text/plain": [
       "{'contractSymbol': 'AAPL190118C00225000',\n",
       " 'strike': 225.0,\n",
       " 'currency': 'USD',\n",
       " 'lastPrice': 3.8,\n",
       " 'change': -6.91,\n",
       " 'percentChange': -64.519135,\n",
       " 'volume': 6441,\n",
       " 'openInterest': 23183,\n",
       " 'bid': 3.6,\n",
       " 'ask': 4.3,\n",
       " 'contractSize': 'REGULAR',\n",
       " 'expiration': 1547769600,\n",
       " 'lastTradeDate': 1541188799,\n",
       " 'impliedVolatility': 0.2788158056640625,\n",
       " 'inTheMoney': False}"
      ]
     },
     "execution_count": 49,
     "metadata": {},
     "output_type": "execute_result"
    }
   ],
   "source": [
    "opcion_valuar['JSON']"
   ]
  },
  {
   "cell_type": "markdown",
   "metadata": {},
   "source": [
    "Intervalo de confianza del 95%"
   ]
  },
  {
   "cell_type": "code",
   "execution_count": 50,
   "metadata": {
    "scrolled": true
   },
   "outputs": [
    {
     "name": "stdout",
     "output_type": "stream",
     "text": [
      "(17.706199329229563, 18.89294323033416)\n",
      "(17.706199329229563, 18.89294323033416)\n"
     ]
    }
   ],
   "source": [
    "confianza = 0.95\n",
    "sigma_est = sim_closes_hist.iloc[-1].sem()\n",
    "mean_est = call_hist.iloc[-1].Prima\n",
    "i1 = st.t.interval(confianza,nscen-1, loc=mean_est, scale=sigma_est)\n",
    "i2 = st.norm.interval(confianza, loc=mean_est, scale=sigma_est)\n",
    "print(i1)\n",
    "print(i1)\n"
   ]
  },
  {
   "cell_type": "markdown",
   "metadata": {},
   "source": [
    "# <font color = 'red'> Tarea: </font>\n",
    "\n",
    "Replicar el procedimiento anterior para valoración de opciones 'call', pero en este caso para opciones tipo 'put'."
   ]
  },
  {
   "cell_type": "markdown",
   "metadata": {},
   "source": [
    "<script>\n",
    "  $(document).ready(function(){\n",
    "    $('div.prompt').hide();\n",
    "    $('div.back-to-top').hide();\n",
    "    $('nav#menubar').hide();\n",
    "    $('.breadcrumb').hide();\n",
    "    $('.hidden-print').hide();\n",
    "  });\n",
    "</script>\n",
    "\n",
    "<footer id=\"attribution\" style=\"float:right; color:#808080; background:#fff;\">\n",
    "Created with Jupyter by Esteban Jiménez Rodríguez and modify by Oscar Jaramillo Z.\n",
    "</footer>"
   ]
  }
 ],
 "metadata": {
  "kernelspec": {
   "display_name": "Python 3",
   "language": "python",
   "name": "python3"
  },
  "language_info": {
   "codemirror_mode": {
    "name": "ipython",
    "version": 3
   },
   "file_extension": ".py",
   "mimetype": "text/x-python",
   "name": "python",
   "nbconvert_exporter": "python",
   "pygments_lexer": "ipython3",
   "version": "3.6.5"
  }
 },
 "nbformat": 4,
 "nbformat_minor": 2
}
