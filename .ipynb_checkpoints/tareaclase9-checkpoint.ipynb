{
 "cells": [
  {
   "cell_type": "markdown",
   "metadata": {},
   "source": [
    ">### <font color ='red'> Ejemplo 3  **Tarea** \n",
    ">El tiempo en el cual un movimiento browniano se mantiene sobre su punto máximo en el intervalo [0,1] tiene una distribución\n",
    ">$$F(x)=\\frac{2}{\\pi}\\sin^{-1}(\\sqrt x),\\quad 0\\leq x\\leq 1$$ </font>"
   ]
  },
  {
   "cell_type": "code",
   "execution_count": 1,
   "metadata": {},
   "outputs": [],
   "source": [
    "# Importamos las librerías principales\n",
    "import numpy as np\n",
    "import math as mt\n",
    "import matplotlib.pyplot as plt"
   ]
  },
  {
   "cell_type": "code",
   "execution_count": 2,
   "metadata": {},
   "outputs": [],
   "source": [
    "# Creamos la función que crea muestras distribuidas exponencialmente\n",
    "def D_sin(N):\n",
    "    return np.sin(np.random.random(N)*np.pi/2)**2"
   ]
  },
  {
   "cell_type": "code",
   "execution_count": 3,
   "metadata": {},
   "outputs": [
    {
     "name": "stdout",
     "output_type": "stream",
     "text": [
      "4.912607879027257\n"
     ]
    },
    {
     "data": {
      "image/png": "[encoded data removed]",
      "text/plain": [
       "<Figure size 432x288 with 1 Axes>"
      ]
     },
     "metadata": {},
     "output_type": "display_data"
    }
   ],
   "source": [
    "k=5#media\n",
    "N = 10**3 # Número de muestras\n",
    "# creamos muestras exponenciales con la función que esta en numpy\n",
    "x = np.random.exponential(k,N) \n",
    "# creamos muestras exponenciales con la función creada\n",
    "x2 = D_sin(N)\n",
    "# Graficamos el historial para x\n",
    "plt.hist(x2,100,density=True)\n",
    "plt.xlabel('valores aleatorios')\n",
    "plt.ylabel('probabilidad')\n",
    "plt.title('histograma función de numpy')\n",
    "print(np.mean(x))\n",
    "plt.show()"
   ]
  },
  {
   "cell_type": "markdown",
   "metadata": {},
   "source": [
    "### Ejemplo binomial: \n",
    "La distribución binomial modela el número de éxitos de n ensayos independientes donde hay una probabilidad p de éxito en cada ensayo.\n",
    "\n",
    "Generar una variable aletoria binomial con parámetros $n=10$ y $p=0.7$. Recordar que\n",
    "$$X\\sim binomial(n,p) \\longrightarrow p_i=P(X=i)=\\frac{n!}{i!(n-i)!}p^i(1-p)^{n-i},\\quad i=0,1,\\cdots,n$$\n",
    "> ## <font color ='red'>Tarea: Demostrar la validez de la siguiente ecuación\n",
    ">$$p_{i+1}=\\frac{n-i}{i+1}\\frac{p}{1-p} p_i \\longrightarrow \\text{Hablar de las ventajas que sea recursiva}$$\n",
    " link: https://es.wikipedia.org/wiki/Distribuci%C3%B3n_binomial"
   ]
  },
  {
   "cell_type": "markdown",
   "metadata": {},
   "source": [
    "## Demostración distribución binomial\n",
    "La demostración se hace mediante el valor esperado, el cual se puede demostrar al saber que la suma de probabilidades \n",
    ">$$E[X+Y] = E[X]+E[Y]$$\n",
    ">se puede separar la probabilidad.Esto nos dice que tenemos una variable binomial aleatoria que es la suma n variables de Bernouli. Por lo que:\n",
    ">$$E[X]=E[X_{1}+X_{2}+...+X_{n}]=E[X_{1}]+E[X_{3}]+...+E[X_{n}]$$\n",
    ">Esto nos da que lo anterior es igual a:\n",
    ">$$E[X_{n}]=p+p+...+p=np$$\n",
    ">Por lo que la sumatoria se puede escribir como np o p n veces.\n",
    ">Dando una varianza $$Var[X]=np(1-p)$$\n",
    ">Demostrandose así el teorema\n",
    ">$$p_{i+1}=\\frac{n-i}{i+1}\\frac{p}{1-p} p_i$$\n",
    "### Ventajas\n",
    ">-La probabilidad del resultaddo de x experimento de la muestra no depende del resto de los resultados. \n",
    "\n",
    ">-Esta distribución trabaja con probabilidades constantes en todos los experimientos.\n",
    "\n",
    ">-Esta distribución es una distribución de probabilidad discreta, que cuenta con un número de éxitos en n ensayos."
   ]
  },
  {
   "cell_type": "markdown",
   "metadata": {},
   "source": [
    "> ## <font color ='red'>Tarea\n",
    "Seguir un procedimiento similar al mostrado anteriormente para generar una  distribución Binomial, pero en esta caso genere un código que genere variables aletorias Poisson cuya función de distribución de probabilidad esta dada por:\n",
    ">$$P(k,\\lambda)=\\frac{e^{-\\lambda}(\\lambda)^k}{k!}$$\n",
    "> Enlace: https://es.wikipedia.org/wiki/Distribuci%C3%B3n_de_Poisson"
   ]
  },
  {
   "cell_type": "markdown",
   "metadata": {},
   "source": [
    "$$\\lambda $$ =parámetro positivo que representa el número de veces que se espera que ocurra el fenómeno durante un intervalo dado."
   ]
  },
  {
   "cell_type": "code",
   "execution_count": 4,
   "metadata": {},
   "outputs": [
    {
     "data": {
      "image/png": "[encoded data removed]",
      "text/plain": [
       "<Figure size 432x288 with 1 Axes>"
      ]
     },
     "metadata": {},
     "output_type": "display_data"
    }
   ],
   "source": [
    "#numpy.random.poisson(lam=1.0, k=size=None)¶\n",
    "poss=np.random.poisson(6,500)\n",
    "count,bins,ignored=plt.hist(poss,14,density=True,label='Usando Numpy')\n",
    "plt.legend()\n",
    "np.histogram\n",
    "plt.show()\n"
   ]
  },
  {
   "cell_type": "code",
   "execution_count": null,
   "metadata": {},
   "outputs": [],
   "source": []
  }
 ],
 "metadata": {
  "kernelspec": {
   "display_name": "Python 3",
   "language": "python",
   "name": "python3"
  },
  "language_info": {
   "codemirror_mode": {
    "name": "ipython",
    "version": 3
   },
   "file_extension": ".py",
   "mimetype": "text/x-python",
   "name": "python",
   "nbconvert_exporter": "python",
   "pygments_lexer": "ipython3",
   "version": "3.6.5"
  }
 },
 "nbformat": 4,
 "nbformat_minor": 2
}
